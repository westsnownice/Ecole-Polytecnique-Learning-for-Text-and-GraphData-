{
 "cells": [
  {
   "cell_type": "code",
   "execution_count": 1,
   "metadata": {
    "autoscroll": "json-false",
    "collapsed": false,
    "ein.tags": [
     "worksheet-0"
    ],
    "slideshow": {
     "slide_type": "-"
    }
   },
   "outputs": [],
   "source": [
    "import random\n",
    "import operator\n",
    "import pandas as pd\n",
    "from collections import Counter\n",
    "import nltk\n",
    "from joblib import Parallel, delayed\n",
    "import tqdm\n",
    "import string\n",
    "import numpy as np\n",
    "from joblib import Parallel, delayed\n",
    "import re"
   ]
  },
  {
   "cell_type": "code",
   "execution_count": 2,
   "metadata": {
    "autoscroll": "json-false",
    "collapsed": false,
    "ein.tags": [
     "worksheet-0"
    ],
    "slideshow": {
     "slide_type": "-"
    }
   },
   "outputs": [],
   "source": [
    "path_to_data = \"./\""
   ]
  },
  {
   "cell_type": "code",
   "execution_count": 3,
   "metadata": {
    "autoscroll": "json-false",
    "collapsed": false,
    "ein.tags": [
     "worksheet-0"
    ],
    "slideshow": {
     "slide_type": "-"
    }
   },
   "outputs": [],
   "source": [
    "training = pd.read_csv(path_to_data + 'training_set.csv', sep=',', header=0)\n",
    "training_info = pd.read_csv(path_to_data + 'training_info.csv', sep=',', header=0)\n",
    "test = pd.read_csv(path_to_data + 'test_set.csv', sep=',', header=0)\n",
    "test_info = pd.read_csv(path_to_data + 'test_info.csv', sep=',', header=0)"
   ]
  },
  {
   "cell_type": "code",
   "execution_count": 4,
   "metadata": {
    "autoscroll": "json-false",
    "collapsed": false,
    "ein.tags": [
     "worksheet-0"
    ],
    "slideshow": {
     "slide_type": "-"
    }
   },
   "outputs": [],
   "source": [
    "# training.describe()\n",
    "# training.columns\n",
    "# training.info\n",
    "# training_info.columns\n",
    "# training_info.info"
   ]
  },
  {
   "cell_type": "code",
   "execution_count": 5,
   "metadata": {
    "autoscroll": "json-false",
    "collapsed": false,
    "ein.tags": [
     "worksheet-0"
    ],
    "slideshow": {
     "slide_type": "-"
    }
   },
   "outputs": [
    {
     "data": {
      "text/plain": [
       "array([2, 3])"
      ]
     },
     "execution_count": 5,
     "metadata": {},
     "output_type": "execute_result"
    }
   ],
   "source": [
    "\n",
    "demo = np.arange(12).reshape((3,4))\n",
    "l = np.array([1,2,3])\n",
    "i = np.array([1,2])\n",
    "l[i]\n"
   ]
  },
  {
   "cell_type": "code",
   "execution_count": 9,
   "metadata": {
    "autoscroll": "json-false",
    "collapsed": false,
    "ein.tags": [
     "worksheet-0"
    ],
    "slideshow": {
     "slide_type": "-"
    }
   },
   "outputs": [
    {
     "data": {
      "text/plain": [
       "array([[ 0,  1,  2,  3],\n",
       "       [ 8,  9, 10, 11]])"
      ]
     },
     "execution_count": 9,
     "metadata": {},
     "output_type": "execute_result"
    }
   ],
   "source": [
    "demo[np.array([0,2]),]"
   ]
  },
  {
   "cell_type": "code",
   "execution_count": 7,
   "metadata": {
    "autoscroll": "json-false",
    "collapsed": false,
    "ein.tags": [
     "worksheet-0"
    ],
    "slideshow": {
     "slide_type": "-"
    }
   },
   "outputs": [
    {
     "data": {
      "text/plain": [
       "array([[4, 5, 6, 7]])"
      ]
     },
     "execution_count": 7,
     "metadata": {},
     "output_type": "execute_result"
    }
   ],
   "source": [
    "demo[[1,],]"
   ]
  },
  {
   "cell_type": "code",
   "execution_count": 5,
   "metadata": {
    "autoscroll": "json-false",
    "collapsed": false,
    "ein.tags": [
     "worksheet-0"
    ],
    "slideshow": {
     "slide_type": "-"
    }
   },
   "outputs": [
    {
     "name": "stdout",
     "output_type": "stream",
     "text": [
      "How many data point that we have in our training dataset: 43613\n"
     ]
    }
   ],
   "source": [
    "# assert all items in train_info are uniquen, in other words, there is no duplicate.\n",
    "assert (len(set(training_info['mid'])) == len(training_info['mid']))\n",
    "print \"How many data point that we have in our training dataset:\", len(training_info['mid'])"
   ]
  },
  {
   "cell_type": "code",
   "execution_count": null,
   "metadata": {
    "autoscroll": "json-false",
    "collapsed": false,
    "ein.tags": [
     "worksheet-0"
    ],
    "slideshow": {
     "slide_type": "-"
    }
   },
   "outputs": [],
   "source": [
    "# remove dashes and apostrophes from punctuation marks\n",
    "punct = string.punctuation.replace('-', '').replace(\"'\",'')\n",
    "stpwds = nltk.corpus.stopwords.words('english')\n",
    "\n",
    "# regex to match intra-word dashes and intra-word apostrophes\n",
    "my_regex = re.compile(r\"(\\b[-']\\b)|[\\W_]\")\n",
    "\n",
    "# performs basic pre-processing\n",
    "# note: we do not lowercase for consistency with Google News embeddings\n",
    "def clean_string(string, punct=punct, my_regex=my_regex):\n",
    "    # remove formatting\n",
    "    str = re.sub('\\s+', ' ', string)\n",
    "    # remove punctuation (preserving dashes)\n",
    "    str = ''.join(l for l in str if l not in punct)\n",
    "    # remove dashes that are not intra-word\n",
    "    str = my_regex.sub(lambda x: (x.group(1) if x.group(1) else ' '), str)\n",
    "    # strip extra white space\n",
    "    str = re.sub(' +',' ',str)\n",
    "    # strip leading and trailing white space\n",
    "    str = str.strip()\n",
    "    # tokenize (split based on whitespace)\n",
    "    tokens = str.split(' ')\n",
    "    # remove stopwords\n",
    "    tokens = [token for token in tokens if token not in stpwds]\n",
    "    # remove tokens less than 2 characters in size\n",
    "    tokens = [token.lower() for token in tokens if len(token)>=2]\n",
    "    return tokens\n",
    "\n",
    "def stemmering_sentences_messages(X):\n",
    "    sentences_stem = Parallel(n_jobs=1)(delayed(clean_string)(sentence) for sentence in tqdm.tqdm(X, desc=\"clean sentences\"))\n",
    "    print type(sentences_stem)\n",
    "    return sentences_stem\n"
   ]
  },
  {
   "cell_type": "code",
   "execution_count": null,
   "metadata": {
    "autoscroll": "json-false",
    "collapsed": false,
    "ein.tags": [
     "worksheet-0"
    ],
    "slideshow": {
     "slide_type": "-"
    }
   },
   "outputs": [],
   "source": [
    "\n",
    "training_info['body'] = stemmering_sentences_messages(training_info['body'])"
   ]
  },
  {
   "cell_type": "code",
   "execution_count": 8,
   "metadata": {
    "autoscroll": "json-false",
    "collapsed": false,
    "ein.tags": [
     "worksheet-0"
    ],
    "slideshow": {
     "slide_type": "-"
    }
   },
   "outputs": [
    {
     "name": "stdout",
     "output_type": "stream",
     "text": [
      "clean sentences: 100%|██████████| 2362/2362 [00:02<00:00, 965.59it/s]\n"
     ]
    }
   ],
   "source": [
    "test_info['body'] = stemmering_sentences_messages(test_info['body'])"
   ]
  },
  {
   "cell_type": "code",
   "execution_count": 0,
   "metadata": {
    "autoscroll": "json-false",
    "collapsed": false,
    "ein.tags": [
     "worksheet-0"
    ],
    "slideshow": {
     "slide_type": "-"
    }
   },
   "outputs": [],
   "source": [
    "# test_info['body'][0]"
   ]
  },
  {
   "cell_type": "code",
   "execution_count": 10,
   "metadata": {
    "autoscroll": "json-false",
    "collapsed": false,
    "ein.tags": [
     "worksheet-0"
    ],
    "slideshow": {
     "slide_type": "-"
    }
   },
   "outputs": [],
   "source": [
    "X = training_info['body'].tolist() + test_info['body'].tolist()"
   ]
  },
  {
   "cell_type": "code",
   "execution_count": 11,
   "metadata": {
    "autoscroll": "json-false",
    "collapsed": false,
    "ein.tags": [
     "worksheet-0"
    ],
    "slideshow": {
     "slide_type": "-"
    }
   },
   "outputs": [],
   "source": [
    "import multiprocessing\n",
    "from gensim.models.word2vec import Word2Vec\n",
    "# 4 in pc\n",
    "cpu_count = multiprocessing.cpu_count()\n",
    "# the dimensionality of the feature vectors.\n",
    "vocab_dim = 50\n",
    "# number of iterations (epochs) over the corpus. Default is 5.\n",
    "n_iterations = 1  # ideally more..\n",
    "maxlen = 400\n",
    "# ignore all words with total frequency lower than this. \n",
    "n_exposures = 30\n",
    "# the maximum distance between the current and predicted word within a sentence.\n",
    "window_size = 5"
   ]
  },
  {
   "cell_type": "code",
   "execution_count": 12,
   "metadata": {
    "autoscroll": "json-false",
    "collapsed": false,
    "ein.tags": [
     "worksheet-0"
    ],
    "slideshow": {
     "slide_type": "-"
    }
   },
   "outputs": [
    {
     "name": "stdout",
     "output_type": "stream",
     "text": [
      "Training a Word2vec model...\n"
     ]
    },
    {
     "data": {
      "text/plain": [
       "4519852"
      ]
     },
     "execution_count": 12,
     "metadata": {},
     "output_type": "execute_result"
    }
   ],
   "source": [
    "print('Training a Word2vec model...')\n",
    "model = Word2Vec(size=vocab_dim,\n",
    "                 min_count=n_exposures,\n",
    "                 window=window_size,\n",
    "                 workers=cpu_count,\n",
    "                 iter=n_iterations)\n",
    "model.build_vocab(X)\n",
    "model.train(X)"
   ]
  },
  {
   "cell_type": "code",
   "execution_count": 13,
   "metadata": {
    "autoscroll": "json-false",
    "collapsed": false,
    "ein.tags": [
     "worksheet-0"
    ],
    "slideshow": {
     "slide_type": "-"
    }
   },
   "outputs": [],
   "source": [
    "from gensim.corpora.dictionary import Dictionary\n",
    "gensim_dict = Dictionary()\n",
    "gensim_dict.doc2bow(model.vocab.keys(), allow_update=True)\n",
    "# gensim_dict.items() returns [(0, u\"'surpris\"), (1, u'woodi'), (2, u'yellow'),...]\n",
    "# K+1 aims at avoiding 0 as index.\n",
    "w2indx = {v: k+1 for k, v in gensim_dict.items()}\n",
    "w2vec = {word: model[word] for word in w2indx.keys()}"
   ]
  },
  {
   "cell_type": "code",
   "execution_count": 14,
   "metadata": {
    "autoscroll": "json-false",
    "collapsed": false,
    "ein.tags": [
     "worksheet-0"
    ],
    "slideshow": {
     "slide_type": "-"
    }
   },
   "outputs": [],
   "source": [
    "# from keras.preprocessing import sequence"
   ]
  },
  {
   "cell_type": "code",
   "execution_count": 6,
   "metadata": {
    "autoscroll": "json-false",
    "collapsed": false,
    "ein.tags": [
     "worksheet-0"
    ],
    "slideshow": {
     "slide_type": "-"
    }
   },
   "outputs": [
    {
     "name": "stdout",
     "output_type": "stream",
     "text": [
      "For the moment, we have already done 0  lines.\n",
      "For the moment, we have already done 20  lines.\n",
      "For the moment, we have already done 40  lines.\n",
      "For the moment, we have already done 60  lines.\n",
      "For the moment, we have already done 80  lines.\n",
      "For the moment, we have already done 100  lines.\n",
      "For the moment, we have already done 120  lines.\n"
     ]
    }
   ],
   "source": [
    "################################\n",
    "# create some handy structures #\n",
    "################################\n",
    "# convert training set to dictionary\n",
    "emails_ids_per_sender = {}\n",
    "for index, series in training.iterrows():\n",
    "    row = series.tolist()\n",
    "    sender = row[0]\n",
    "    ids = row[1:][0].split(' ')\n",
    "    emails_ids_per_sender[sender] = ids\n",
    "# save all unique sender names\n",
    "all_senders = emails_ids_per_sender.keys()\n",
    "# create address book with frequency information for each user\n",
    "address_books = {}\n",
    "address_books_messages = {}\n",
    "i = 0\n",
    "for sender, ids in emails_ids_per_sender.iteritems():\n",
    "    # recs_temp = []\n",
    "    rec2mids = {}\n",
    "    for my_id in ids:\n",
    "        recipients = training_info[training_info['mid']==int(my_id)]['recipients'].tolist()\n",
    "        recipients = recipients[0].split(' ')\n",
    "        # keep only legitimate email addresses\n",
    "        recipients = [rec for rec in recipients if '@' in rec]\n",
    "        for rec in recipients:\n",
    "            if rec in rec2mids:\n",
    "                rec2mids[rec].append(my_id)\n",
    "            else:\n",
    "                rec2mids[rec] = [my_id]\n",
    "        # recs_temp.append(recipients)\n",
    "    # flatten\n",
    "    # recs_temp = [elt for sublist in recs_temp for elt in sublist]\n",
    "    # compute recipient counts\n",
    "    # rec_occ = dict(Counter(recs_temp))\n",
    "    # order by frequency\n",
    "    # sorted_rec_occ = sorted(rec_occ.items(), key=operator.itemgetter(1), reverse = True)\n",
    "    # save\n",
    "    address_books_messages[sender] = rec2mids\n",
    "    # address_books[sender] = sorted_rec_occ\n",
    "    if i % 20 == 0:\n",
    "        print \"For the moment, we have already done\", i, \" lines.\"\n",
    "    i += 1"
   ]
  },
  {
   "cell_type": "code",
   "execution_count": 16,
   "metadata": {
    "autoscroll": "json-false",
    "collapsed": false,
    "ein.tags": [
     "worksheet-0"
    ],
    "slideshow": {
     "slide_type": "subslide"
    }
   },
   "outputs": [],
   "source": [
    "# print address_books.values()[0]\n",
    "# save all unique recipient names\n",
    "all_recs = list(set([elt for subdict in address_books_messages.values() for elt in subdict.keys()]))\n",
    "# save all unique user names\n",
    "all_users = []\n",
    "all_users.extend(all_senders)\n",
    "all_users.extend(all_recs)\n",
    "all_users = list(set(all_users))\n"
   ]
  },
  {
   "cell_type": "code",
   "execution_count": 17,
   "metadata": {
    "autoscroll": "json-false",
    "collapsed": false,
    "ein.tags": [
     "worksheet-0"
    ],
    "slideshow": {
     "slide_type": "-"
    }
   },
   "outputs": [
    {
     "name": "stdout",
     "output_type": "stream",
     "text": [
      "the number of all users: 9783\n",
      "the number of all unique recipients 9779\n"
     ]
    }
   ],
   "source": [
    "print \"the number of all users:\", len(all_users)\n",
    "print \"the number of all unique recipients\", len(all_recs)"
   ]
  },
  {
   "cell_type": "code",
   "execution_count": 0,
   "metadata": {
    "autoscroll": "json-false",
    "collapsed": false,
    "ein.tags": [
     "worksheet-0"
    ],
    "slideshow": {
     "slide_type": "-"
    }
   },
   "outputs": [],
   "source": [
    "def get_k_most(k, address_books_messages, sender, id_predict, alpha):\n",
    "    test_body = test_info[test_info['mid'] == int(id_predict)]['body'].tolist()[0]\n",
    "    k_most = []\n",
    "    count = 0\n",
    "    rec_list = []\n",
    "    simil_freq_list = []\n",
    "    for k_rec, v_mids_list in address_books_messages[sender].iteritems():\n",
    "        similarity = np.min([model.wmdistance(test_body, training_info[training_info['mid'] == int(mid)]['body'].tolist()[0]) for mid in v_mids_list])\n",
    "        rec_list.append(k_rec)\n",
    "        simil_freq_list.append([similarity, len(v_mids_list)])\n",
    "    simil_freq_list = np.array(simil_freq_list)\n",
    "    rec_list = np.array(rec_list)\n",
    "    simil_freq_list[:,0] = (np.max(simil_freq_list[:,0]) - simil_freq_list[:,0]) / (np.max(simil_freq_list[:,0]) - np.min(simil_freq_list[:,0]))\n",
    "    simil_freq_list[:,-1] = (simil_freq_list[:,-1] - np.min(simil_freq_list[:,-1])) / (np.max(simil_freq_list[:,-1])-np.min(simil_freq_list[:,-1]))\n",
    "    socre = alpha * simil_freq_list[:,0] + (1-alpha)*simil_freq_list[:,-1]\n",
    "    return simil_freq_list[np.argsort(socre)[::-1]][:k].tolist()\n"
   ]
  },
  {
   "cell_type": "code",
   "execution_count": 0,
   "metadata": {
    "autoscroll": "json-false",
    "collapsed": false,
    "ein.tags": [
     "worksheet-0"
    ],
    "slideshow": {
     "slide_type": "-"
    }
   },
   "outputs": [],
   "source": [
    "k = 10\n",
    "alpha = 1/2.0\n",
    "def predict_each_test_line(row):\n",
    "    sender = row[0]\n",
    "    # get IDs of the emails for which recipient prediction is needed\n",
    "    ids_predict = row[1].split(' ')\n",
    "    ids_predict = [int(my_id) for my_id in ids_predict]\n",
    "    random_preds = []\n",
    "    freq_preds = []\n",
    "    # select k most frequent recipients for the user\n",
    "    # k_most = [elt[0] for elt in address_books[sender][:k]]\n",
    "    for id_predict in ids_predict:\n",
    "        # select k users at random\n",
    "        random_preds.append(random.sample(all_users, k))\n",
    "        # for the frequency baseline, the predictions are always the same\n",
    "        k_most = get_k_most(k, address_books_messages, sender, id_predict, alpha)\n",
    "        freq_preds.append(k_most)\n",
    "    # predictions_per_sender[sender] = [ids_predict,random_preds,freq_preds]\n",
    "    return (sender, [ids_predict,random_preds,freq_preds])"
   ]
  },
  {
   "cell_type": "code",
   "execution_count": 0,
   "metadata": {
    "autoscroll": "json-false",
    "collapsed": false,
    "ein.tags": [
     "worksheet-0"
    ],
    "slideshow": {
     "slide_type": "-"
    }
   },
   "outputs": [],
   "source": [
    "def speedup(X):\n",
    "    predictions_per_sender = Parallel(n_jobs=4)(delayed(predict_each_test_line)(row) for row in tqdm.tqdm(X, desc=\"speed up test\"))\n",
    "    return predictions_per_sender"
   ]
  },
  {
   "cell_type": "code",
   "execution_count": null,
   "metadata": {
    "autoscroll": "json-false",
    "collapsed": false,
    "ein.tags": [
     "worksheet-0"
    ],
    "slideshow": {
     "slide_type": "-"
    }
   },
   "outputs": [],
   "source": [
    "#############\n",
    "# baselines #\n",
    "#############\n",
    "# will contain email ids, predictions for random baseline, and predictions for frequency baseline\n",
    "predictions_per_sender = {}\n",
    "# number of recipients to predict\n",
    "k = 10\n",
    "for row in test.values:\n",
    "    sender = row[0]\n",
    "    # get IDs of the emails for which recipient prediction is needed\n",
    "    ids_predict = row[1].split(' ')\n",
    "    ids_predict = [int(my_id) for my_id in ids_predict]\n",
    "    random_preds = []\n",
    "    freq_preds = []\n",
    "    # select k most frequent recipients for the user\n",
    "    # k_most = [elt[0] for elt in address_books[sender][:k]]\n",
    "    for id_predict in ids_predict:\n",
    "        # select k users at random\n",
    "        random_preds.append(random.sample(all_users, k))\n",
    "        # for the frequency baseline, the predictions are always the same\n",
    "        k_most = get_k_most(k, address_books_messages, sender, id_predict, 1/2.0)\n",
    "        freq_preds.append(k_most)\n",
    "    predictions_per_sender[sender] = [ids_predict,random_preds,freq_preds]\n"
   ]
  },
  {
   "cell_type": "code",
   "execution_count": 20,
   "metadata": {
    "autoscroll": "json-false",
    "collapsed": false,
    "ein.tags": [
     "worksheet-0"
    ],
    "slideshow": {
     "slide_type": "slide"
    }
   },
   "outputs": [],
   "source": [
    "#################################################\n",
    "# write predictions in proper format for Kaggle #\n",
    "#################################################\n",
    "\n",
    "path_to_results = \"/Users/zacharie/Documents/AICCours/MVA/textGraphData/\"\n",
    "\n",
    "with open(path_to_results + 'predictions_random.txt', 'wb') as my_file:\n",
    "    my_file.write('mid,recipients' + '\\n')\n",
    "    for sender, preds in predictions_per_sender.iteritems():\n",
    "        ids = preds[0]\n",
    "        random_preds = preds[1]\n",
    "        for index, my_preds in enumerate(random_preds):\n",
    "            my_file.write(str(ids[index]) + ',' + ' '.join(my_preds) + '\\n')\n",
    "\n",
    "with open(path_to_results + 'predictions_frequency.txt', 'wb') as my_file:\n",
    "    my_file.write('mid,recipients' + '\\n')\n",
    "    for sender, preds in predictions_per_sender.iteritems():\n",
    "        ids = preds[0]\n",
    "        freq_preds = preds[2]\n",
    "        for index, my_preds in enumerate(freq_preds):\n",
    "            my_file.write(str(ids[index]) + ',' + ' '.join(my_preds) + '\\n')"
   ]
  },
  {
   "cell_type": "code",
   "execution_count": 0,
   "metadata": {
    "autoscroll": "json-false",
    "collapsed": false,
    "ein.tags": [
     "worksheet-0"
    ],
    "slideshow": {
     "slide_type": "-"
    }
   },
   "outputs": [],
   "source": []
  }
 ],
 "metadata": {
  "anaconda-cloud": {},
  "kernelspec": {
   "display_name": "Python 2",
   "language": "python",
   "name": "python2"
  },
  "language_info": {
   "codemirror_mode": {
    "name": "ipython",
    "version": 2
   },
   "file_extension": ".py",
   "mimetype": "text/x-python",
   "name": "python",
   "nbconvert_exporter": "python",
   "pygments_lexer": "ipython2",
   "version": "2.7.13"
  },
  "name": "main_1.ipynb"
 },
 "nbformat": 4,
 "nbformat_minor": 1
}
