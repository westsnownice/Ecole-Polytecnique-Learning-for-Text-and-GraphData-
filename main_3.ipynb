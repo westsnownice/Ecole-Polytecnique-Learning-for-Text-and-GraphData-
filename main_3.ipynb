{
 "cells": [
  {
   "cell_type": "code",
   "execution_count": 3,
   "metadata": {
    "autoscroll": "json-false",
    "collapsed": false,
    "ein.tags": [
     "worksheet-0"
    ],
    "slideshow": {
     "slide_type": "-"
    }
   },
   "outputs": [],
   "source": [
    "import random\n",
    "import operator\n",
    "import pandas as pd\n",
    "from collections import Counter\n",
    "import nltk\n",
    "from joblib import Parallel, delayed\n",
    "import tqdm\n",
    "import string\n",
    "import numpy as np\n",
    "from joblib import Parallel, delayed\n",
    "import re\n",
    "from sklearn.metrics.pairwise import cosine_similarity as cosine"
   ]
  },
  {
   "cell_type": "code",
   "execution_count": 4,
   "metadata": {
    "autoscroll": "json-false",
    "collapsed": false,
    "ein.tags": [
     "worksheet-0"
    ],
    "slideshow": {
     "slide_type": "-"
    }
   },
   "outputs": [],
   "source": [
    "path_to_data = \"/Users/zacharie/Documents/AICCours/MVA/textGraphData/\""
   ]
  },
  {
   "cell_type": "code",
   "execution_count": 5,
   "metadata": {
    "autoscroll": "json-false",
    "collapsed": false,
    "ein.tags": [
     "worksheet-0"
    ],
    "slideshow": {
     "slide_type": "-"
    }
   },
   "outputs": [],
   "source": [
    "training = pd.read_csv(path_to_data + 'training_set.csv', sep=',', header=0)\n",
    "training_info = pd.read_csv(path_to_data + 'training_info.csv', sep=',', header=0, parse_dates = [1])\n",
    "test = pd.read_csv(path_to_data + 'test_set.csv', sep=',', header=0)\n",
    "test_info = pd.read_csv(path_to_data + 'test_info.csv', sep=',', header=0, parse_dates = [1])"
   ]
  },
  {
   "cell_type": "code",
   "execution_count": 6,
   "metadata": {
    "autoscroll": "json-false",
    "collapsed": false,
    "ein.tags": [
     "worksheet-0"
    ],
    "slideshow": {
     "slide_type": "-"
    }
   },
   "outputs": [],
   "source": [
    "# remove dashes and apostrophes from punctuation marks\n",
    "punct = string.punctuation.replace('-', '').replace(\"'\",'')\n",
    "stpwds = nltk.corpus.stopwords.words('english')\n",
    "# regex to match intra-word dashes and intra-word apostrophes\n",
    "my_regex = re.compile(r\"(\\b[-']\\b)|[\\W_]\")\n",
    "stemmering = nltk.PorterStemmer()\n",
    "# performs basic pre-processing\n",
    "# note: we do not lowercase for consistency with Google News embeddings\n",
    "def clean_string(string, punct=punct, my_regex=my_regex):\n",
    "    # remove formatting\n",
    "    str = re.sub('\\s+', ' ', string)\n",
    "    # remove punctuation (preserving dashes)\n",
    "    str = ''.join(l for l in str if l not in punct)\n",
    "    # remove dashes that are not intra-word\n",
    "    str = my_regex.sub(lambda x: (x.group(1) if x.group(1) else ' '), str)\n",
    "    # strip extra white space\n",
    "    str = re.sub(' +',' ',str)\n",
    "    # strip leading and trailing white space\n",
    "    str = str.strip()\n",
    "    # tokenize (split based on whitespace)\n",
    "    tokens = str.split(' ')\n",
    "    # remove stopwords\n",
    "    tokens = [token for token in tokens if token not in stpwds]\n",
    "    # remove tokens less than 2 characters in size\n",
    "    # tokens = [token for token in tokens if len(token)>=2]\n",
    "    tokens = [stemmering.stem(token.lower()) for token in tokens if len(token)>=2]\n",
    "    return tokens\n",
    "\n",
    "def stemmering_sentences_messages(X):\n",
    "    sentences_stem = Parallel(n_jobs=4)(delayed(clean_string)(sentence) for sentence in tqdm.tqdm(X, desc=\"clean sentences\"))\n",
    "    return sentences_stem\n"
   ]
  },
  {
   "cell_type": "code",
   "execution_count": 7,
   "metadata": {
    "autoscroll": "json-false",
    "collapsed": false,
    "ein.tags": [
     "worksheet-0"
    ],
    "slideshow": {
     "slide_type": "-"
    }
   },
   "outputs": [
    {
     "name": "stderr",
     "output_type": "stream",
     "text": [
      "\n"
     ]
    },
    {
     "name": "stderr",
     "output_type": "stream",
     "text": [
      "\r",
      "clean sentences: 100%|██████████| 43613/43613 [01:31<00:00, 476.37it/s]"
     ]
    },
    {
     "name": "stderr",
     "output_type": "stream",
     "text": [
      "\r",
      "clean sentences: 100%|█████████▉| 43570/43613 [01:31<00:00, 607.79it/s]"
     ]
    },
    {
     "name": "stderr",
     "output_type": "stream",
     "text": [
      "\r",
      "clean sentences: 100%|█████████▉| 43478/43613 [01:31<00:00, 704.57it/s]"
     ]
    },
    {
     "name": "stderr",
     "output_type": "stream",
     "text": [
      "\r",
      "clean sentences:  99%|█████████▉| 43374/43613 [01:31<00:00, 681.94it/s]"
     ]
    },
    {
     "name": "stderr",
     "output_type": "stream",
     "text": [
      "\r",
      "clean sentences:  99%|█████████▉| 43294/43613 [01:31<00:00, 642.25it/s]"
     ]
    },
    {
     "name": "stderr",
     "output_type": "stream",
     "text": [
      "\r",
      "clean sentences:  99%|█████████▉| 43202/43613 [01:30<00:00, 689.04it/s]"
     ]
    },
    {
     "name": "stderr",
     "output_type": "stream",
     "text": [
      "\r",
      "clean sentences:  99%|█████████▊| 43064/43613 [01:30<00:00, 567.79it/s]"
     ]
    },
    {
     "name": "stderr",
     "output_type": "stream",
     "text": [
      "\r",
      "clean sentences:  98%|█████████▊| 42945/43613 [01:30<00:01, 491.48it/s]"
     ]
    },
    {
     "name": "stderr",
     "output_type": "stream",
     "text": [
      "\r",
      "clean sentences:  98%|█████████▊| 42875/43613 [01:30<00:01, 511.04it/s]"
     ]
    },
    {
     "name": "stderr",
     "output_type": "stream",
     "text": [
      "\r",
      "clean sentences:  98%|█████████▊| 42788/43613 [01:30<00:01, 723.65it/s]"
     ]
    },
    {
     "name": "stderr",
     "output_type": "stream",
     "text": [
      "\r",
      "clean sentences:  98%|█████████▊| 42696/43613 [01:30<00:01, 684.50it/s]"
     ]
    },
    {
     "name": "stderr",
     "output_type": "stream",
     "text": [
      "\r",
      "clean sentences:  97%|█████████▋| 42518/43613 [01:30<00:01, 551.09it/s]"
     ]
    },
    {
     "name": "stderr",
     "output_type": "stream",
     "text": [
      "\r",
      "clean sentences:  97%|█████████▋| 42454/43613 [01:29<00:01, 599.48it/s]"
     ]
    },
    {
     "name": "stderr",
     "output_type": "stream",
     "text": [
      "\r",
      "clean sentences:  97%|█████████▋| 42384/43613 [01:29<00:01, 646.66it/s]"
     ]
    },
    {
     "name": "stderr",
     "output_type": "stream",
     "text": [
      "\r",
      "clean sentences:  97%|█████████▋| 42308/43613 [01:29<00:01, 705.13it/s]"
     ]
    },
    {
     "name": "stderr",
     "output_type": "stream",
     "text": [
      "\r",
      "clean sentences:  97%|█████████▋| 42228/43613 [01:29<00:01, 727.44it/s]"
     ]
    },
    {
     "name": "stderr",
     "output_type": "stream",
     "text": [
      "\r",
      "clean sentences:  97%|█████████▋| 42146/43613 [01:29<00:02, 716.53it/s]"
     ]
    },
    {
     "name": "stderr",
     "output_type": "stream",
     "text": [
      "\r",
      "clean sentences:  96%|█████████▋| 42052/43613 [01:29<00:01, 851.88it/s]"
     ]
    },
    {
     "name": "stderr",
     "output_type": "stream",
     "text": [
      "\r",
      "clean sentences:  96%|█████████▌| 41953/43613 [01:29<00:01, 855.67it/s]"
     ]
    },
    {
     "name": "stderr",
     "output_type": "stream",
     "text": [
      "\r",
      "clean sentences:  96%|█████████▌| 41846/43613 [01:28<00:01, 894.97it/s]"
     ]
    },
    {
     "name": "stderr",
     "output_type": "stream",
     "text": [
      "\r",
      "clean sentences:  96%|█████████▌| 41730/43613 [01:28<00:02, 908.10it/s]"
     ]
    },
    {
     "name": "stderr",
     "output_type": "stream",
     "text": [
      "\r",
      "clean sentences:  95%|█████████▌| 41546/43613 [01:28<00:02, 752.92it/s]"
     ]
    },
    {
     "name": "stderr",
     "output_type": "stream",
     "text": [
      "\r",
      "clean sentences:  95%|█████████▍| 41362/43613 [01:28<00:03, 650.91it/s]"
     ]
    },
    {
     "name": "stderr",
     "output_type": "stream",
     "text": [
      "\r",
      "clean sentences:  95%|█████████▍| 41224/43613 [01:28<00:03, 632.82it/s]"
     ]
    },
    {
     "name": "stderr",
     "output_type": "stream",
     "text": [
      "\r",
      "clean sentences:  94%|█████████▍| 41086/43613 [01:28<00:04, 545.67it/s]"
     ]
    },
    {
     "name": "stderr",
     "output_type": "stream",
     "text": [
      "\r",
      "clean sentences:  94%|█████████▍| 40948/43613 [01:28<00:05, 448.51it/s]"
     ]
    },
    {
     "name": "stderr",
     "output_type": "stream",
     "text": [
      "\r",
      "clean sentences:  94%|█████████▎| 40856/43613 [01:27<00:06, 430.66it/s]"
     ]
    },
    {
     "name": "stderr",
     "output_type": "stream",
     "text": [
      "\r",
      "clean sentences:  93%|█████████▎| 40764/43613 [01:27<00:06, 454.01it/s]"
     ]
    },
    {
     "name": "stderr",
     "output_type": "stream",
     "text": [
      "\r",
      "clean sentences:  93%|█████████▎| 40635/43613 [01:27<00:08, 364.45it/s]"
     ]
    },
    {
     "name": "stderr",
     "output_type": "stream",
     "text": [
      "\r",
      "clean sentences:  93%|█████████▎| 40580/43613 [01:27<00:06, 454.49it/s]"
     ]
    },
    {
     "name": "stderr",
     "output_type": "stream",
     "text": [
      "\r",
      "clean sentences:  93%|█████████▎| 40488/43613 [01:27<00:07, 417.92it/s]"
     ]
    },
    {
     "name": "stderr",
     "output_type": "stream",
     "text": [
      "\r",
      "clean sentences:  93%|█████████▎| 40396/43613 [01:27<00:09, 357.28it/s]"
     ]
    },
    {
     "name": "stderr",
     "output_type": "stream",
     "text": [
      "\r",
      "clean sentences:  92%|█████████▏| 40304/43613 [01:26<00:07, 457.94it/s]"
     ]
    },
    {
     "name": "stderr",
     "output_type": "stream",
     "text": [
      "\r",
      "clean sentences:  92%|█████████▏| 40212/43613 [01:26<00:08, 378.53it/s]"
     ]
    },
    {
     "name": "stderr",
     "output_type": "stream",
     "text": [
      "\r",
      "clean sentences:  92%|█████████▏| 40082/43613 [01:26<00:08, 396.00it/s]"
     ]
    },
    {
     "name": "stderr",
     "output_type": "stream",
     "text": [
      "\r",
      "clean sentences:  92%|█████████▏| 40028/43613 [01:25<00:07, 481.78it/s]"
     ]
    },
    {
     "name": "stderr",
     "output_type": "stream",
     "text": [
      "\r",
      "clean sentences:  91%|█████████▏| 39890/43613 [01:25<00:08, 441.84it/s]"
     ]
    },
    {
     "name": "stderr",
     "output_type": "stream",
     "text": [
      "\r",
      "clean sentences:  91%|█████████▏| 39798/43613 [01:25<00:08, 456.11it/s]"
     ]
    },
    {
     "name": "stderr",
     "output_type": "stream",
     "text": [
      "\r",
      "clean sentences:  91%|█████████ | 39716/43613 [01:25<00:08, 437.01it/s]"
     ]
    },
    {
     "name": "stderr",
     "output_type": "stream",
     "text": [
      "\r",
      "clean sentences:  91%|█████████ | 39651/43613 [01:25<00:08, 477.71it/s]"
     ]
    },
    {
     "name": "stderr",
     "output_type": "stream",
     "text": [
      "\r",
      "clean sentences:  91%|█████████ | 39574/43613 [01:24<00:07, 538.83it/s]"
     ]
    },
    {
     "name": "stderr",
     "output_type": "stream",
     "text": [
      "\r",
      "clean sentences:  91%|█████████ | 39485/43613 [01:24<00:07, 566.20it/s]"
     ]
    },
    {
     "name": "stderr",
     "output_type": "stream",
     "text": [
      "\r",
      "clean sentences:  90%|█████████ | 39370/43613 [01:24<00:04, 965.25it/s] "
     ]
    },
    {
     "name": "stderr",
     "output_type": "stream",
     "text": [
      "\r",
      "clean sentences:  90%|████████▉ | 39238/43613 [01:24<00:03, 1103.90it/s]"
     ]
    },
    {
     "name": "stderr",
     "output_type": "stream",
     "text": [
      "\r",
      "clean sentences:  90%|████████▉ | 39083/43613 [01:24<00:03, 1352.87it/s]"
     ]
    },
    {
     "name": "stderr",
     "output_type": "stream",
     "text": [
      "\r",
      "clean sentences:  89%|████████▉ | 38924/43613 [01:23<00:03, 1312.13it/s]"
     ]
    },
    {
     "name": "stderr",
     "output_type": "stream",
     "text": [
      "\r",
      "clean sentences:  89%|████████▊ | 38648/43613 [01:23<00:04, 1100.51it/s]"
     ]
    },
    {
     "name": "stderr",
     "output_type": "stream",
     "text": [
      "\r",
      "clean sentences:  88%|████████▊ | 38510/43613 [01:23<00:04, 1076.74it/s]"
     ]
    },
    {
     "name": "stderr",
     "output_type": "stream",
     "text": [
      "\r",
      "clean sentences:  88%|████████▊ | 38234/43613 [01:23<00:05, 897.19it/s]"
     ]
    },
    {
     "name": "stderr",
     "output_type": "stream",
     "text": [
      "\r",
      "clean sentences:  87%|████████▋ | 38107/43613 [01:23<00:06, 875.43it/s]"
     ]
    },
    {
     "name": "stderr",
     "output_type": "stream",
     "text": [
      "\r",
      "clean sentences:  87%|████████▋ | 38004/43613 [01:23<00:06, 887.03it/s]"
     ]
    },
    {
     "name": "stderr",
     "output_type": "stream",
     "text": [
      "\r",
      "clean sentences:  87%|████████▋ | 37866/43613 [01:23<00:06, 833.06it/s]"
     ]
    },
    {
     "name": "stderr",
     "output_type": "stream",
     "text": [
      "\r",
      "clean sentences:  87%|████████▋ | 37728/43613 [01:22<00:05, 982.25it/s]"
     ]
    },
    {
     "name": "stderr",
     "output_type": "stream",
     "text": [
      "\r",
      "clean sentences:  86%|████████▌ | 37544/43613 [01:22<00:07, 820.32it/s]"
     ]
    },
    {
     "name": "stderr",
     "output_type": "stream",
     "text": [
      "\r",
      "clean sentences:  86%|████████▌ | 37360/43613 [01:22<00:08, 703.12it/s]"
     ]
    },
    {
     "name": "stderr",
     "output_type": "stream",
     "text": [
      "\r",
      "clean sentences:  85%|████████▌ | 37202/43613 [01:22<00:09, 654.70it/s]"
     ]
    },
    {
     "name": "stderr",
     "output_type": "stream",
     "text": [
      "\r",
      "clean sentences:  85%|████████▌ | 37130/43613 [01:22<00:09, 670.11it/s]"
     ]
    },
    {
     "name": "stderr",
     "output_type": "stream",
     "text": [
      "\r",
      "clean sentences:  85%|████████▍ | 37038/43613 [01:22<00:10, 607.42it/s]"
     ]
    },
    {
     "name": "stderr",
     "output_type": "stream",
     "text": [
      "\r",
      "clean sentences:  85%|████████▍ | 36946/43613 [01:22<00:11, 568.67it/s]"
     ]
    },
    {
     "name": "stderr",
     "output_type": "stream",
     "text": [
      "\r",
      "clean sentences:  84%|████████▍ | 36840/43613 [01:21<00:09, 678.96it/s]"
     ]
    },
    {
     "name": "stderr",
     "output_type": "stream",
     "text": [
      "\r",
      "clean sentences:  84%|████████▍ | 36762/43613 [01:21<00:08, 761.96it/s]"
     ]
    },
    {
     "name": "stderr",
     "output_type": "stream",
     "text": [
      "\r",
      "clean sentences:  84%|████████▍ | 36670/43613 [01:21<00:09, 761.27it/s]"
     ]
    },
    {
     "name": "stderr",
     "output_type": "stream",
     "text": [
      "\r",
      "clean sentences:  84%|████████▍ | 36578/43613 [01:21<00:08, 791.21it/s]"
     ]
    },
    {
     "name": "stderr",
     "output_type": "stream",
     "text": [
      "\r",
      "clean sentences:  83%|████████▎ | 36394/43613 [01:21<00:09, 776.73it/s]"
     ]
    },
    {
     "name": "stderr",
     "output_type": "stream",
     "text": [
      "\r",
      "clean sentences:  83%|████████▎ | 36210/43613 [01:21<00:09, 757.32it/s]"
     ]
    },
    {
     "name": "stderr",
     "output_type": "stream",
     "text": [
      "\r",
      "clean sentences:  83%|████████▎ | 36068/43613 [01:20<00:09, 769.66it/s]"
     ]
    },
    {
     "name": "stderr",
     "output_type": "stream",
     "text": [
      "\r",
      "clean sentences:  82%|████████▏ | 35980/43613 [01:20<00:09, 795.71it/s]"
     ]
    },
    {
     "name": "stderr",
     "output_type": "stream",
     "text": [
      "\r",
      "clean sentences:  82%|████████▏ | 35842/43613 [01:20<00:08, 896.06it/s]"
     ]
    },
    {
     "name": "stderr",
     "output_type": "stream",
     "text": [
      "\r",
      "clean sentences:  82%|████████▏ | 35704/43613 [01:20<00:09, 829.96it/s]"
     ]
    },
    {
     "name": "stderr",
     "output_type": "stream",
     "text": [
      "\r",
      "clean sentences:  82%|████████▏ | 35566/43613 [01:20<00:11, 723.17it/s]"
     ]
    },
    {
     "name": "stderr",
     "output_type": "stream",
     "text": [
      "\r",
      "clean sentences:  81%|████████▏ | 35453/43613 [01:20<00:12, 659.05it/s]"
     ]
    },
    {
     "name": "stderr",
     "output_type": "stream",
     "text": [
      "\r",
      "clean sentences:  81%|████████  | 35348/43613 [01:20<00:14, 572.52it/s]"
     ]
    },
    {
     "name": "stderr",
     "output_type": "stream",
     "text": [
      "\r",
      "clean sentences:  81%|████████  | 35264/43613 [01:19<00:15, 538.39it/s]"
     ]
    },
    {
     "name": "stderr",
     "output_type": "stream",
     "text": [
      "\r",
      "clean sentences:  81%|████████  | 35201/43613 [01:19<00:16, 511.03it/s]"
     ]
    },
    {
     "name": "stderr",
     "output_type": "stream",
     "text": [
      "\r",
      "clean sentences:  81%|████████  | 35138/43613 [01:19<00:17, 474.92it/s]"
     ]
    },
    {
     "name": "stderr",
     "output_type": "stream",
     "text": [
      "\r",
      "clean sentences:  80%|████████  | 35075/43613 [01:19<00:18, 457.31it/s]"
     ]
    },
    {
     "name": "stderr",
     "output_type": "stream",
     "text": [
      "\r",
      "clean sentences:  80%|████████  | 35006/43613 [01:19<00:20, 411.58it/s]"
     ]
    },
    {
     "name": "stderr",
     "output_type": "stream",
     "text": [
      "\r",
      "clean sentences:  80%|████████  | 34949/43613 [01:19<00:22, 391.05it/s]"
     ]
    },
    {
     "name": "stderr",
     "output_type": "stream",
     "text": [
      "\r",
      "clean sentences:  80%|███████▉  | 34886/43613 [01:19<00:25, 342.96it/s]"
     ]
    },
    {
     "name": "stderr",
     "output_type": "stream",
     "text": [
      "\r",
      "clean sentences:  80%|███████▉  | 34802/43613 [01:19<00:31, 278.25it/s]"
     ]
    },
    {
     "name": "stderr",
     "output_type": "stream",
     "text": [
      "\r",
      "clean sentences:  80%|███████▉  | 34718/43613 [01:19<00:39, 223.39it/s]"
     ]
    },
    {
     "name": "stderr",
     "output_type": "stream",
     "text": [
      "\r",
      "clean sentences:  79%|███████▉  | 34636/43613 [01:18<00:51, 172.90it/s]"
     ]
    },
    {
     "name": "stderr",
     "output_type": "stream",
     "text": [
      "\r",
      "clean sentences:  79%|███████▉  | 34602/43613 [01:18<00:38, 235.38it/s]"
     ]
    },
    {
     "name": "stderr",
     "output_type": "stream",
     "text": [
      "\r",
      "clean sentences:  79%|███████▉  | 34566/43613 [01:18<00:41, 216.86it/s]"
     ]
    },
    {
     "name": "stderr",
     "output_type": "stream",
     "text": [
      "\r",
      "clean sentences:  79%|███████▉  | 34529/43613 [01:18<00:47, 189.28it/s]"
     ]
    },
    {
     "name": "stderr",
     "output_type": "stream",
     "text": [
      "\r",
      "clean sentences:  79%|███████▉  | 34466/43613 [01:18<01:00, 150.02it/s]"
     ]
    },
    {
     "name": "stderr",
     "output_type": "stream",
     "text": [
      "\r",
      "clean sentences:  79%|███████▉  | 34424/43613 [01:18<01:16, 120.52it/s]"
     ]
    },
    {
     "name": "stderr",
     "output_type": "stream",
     "text": [
      "\r",
      "clean sentences:  79%|███████▊  | 34340/43613 [01:17<01:43, 89.19it/s] "
     ]
    },
    {
     "name": "stderr",
     "output_type": "stream",
     "text": [
      "\r",
      "clean sentences:  79%|███████▊  | 34298/43613 [01:17<01:22, 112.30it/s]"
     ]
    },
    {
     "name": "stderr",
     "output_type": "stream",
     "text": [
      "\r",
      "clean sentences:  79%|███████▊  | 34256/43613 [01:16<01:25, 109.25it/s]"
     ]
    },
    {
     "name": "stderr",
     "output_type": "stream",
     "text": [
      "\r",
      "clean sentences:  78%|███████▊  | 34214/43613 [01:16<01:35, 98.85it/s]"
     ]
    },
    {
     "name": "stderr",
     "output_type": "stream",
     "text": [
      "\r",
      "clean sentences:  78%|███████▊  | 34172/43613 [01:16<01:38, 95.73it/s] "
     ]
    },
    {
     "name": "stderr",
     "output_type": "stream",
     "text": [
      "\r",
      "clean sentences:  78%|███████▊  | 34130/43613 [01:15<01:08, 139.00it/s]"
     ]
    },
    {
     "name": "stderr",
     "output_type": "stream",
     "text": [
      "\r",
      "clean sentences:  78%|███████▊  | 34046/43613 [01:15<01:32, 103.74it/s]"
     ]
    },
    {
     "name": "stderr",
     "output_type": "stream",
     "text": [
      "\r",
      "clean sentences:  78%|███████▊  | 34004/43613 [01:14<00:59, 162.70it/s]"
     ]
    },
    {
     "name": "stderr",
     "output_type": "stream",
     "text": [
      "\r",
      "clean sentences:  78%|███████▊  | 33920/43613 [01:14<01:16, 127.06it/s]"
     ]
    },
    {
     "name": "stderr",
     "output_type": "stream",
     "text": [
      "\r",
      "clean sentences:  78%|███████▊  | 33836/43613 [01:13<01:23, 116.52it/s]"
     ]
    },
    {
     "name": "stderr",
     "output_type": "stream",
     "text": [
      "\r",
      "clean sentences:  77%|███████▋  | 33755/43613 [01:12<00:32, 303.41it/s]"
     ]
    },
    {
     "name": "stderr",
     "output_type": "stream",
     "text": [
      "\r",
      "clean sentences:  77%|███████▋  | 33668/43613 [01:11<00:12, 781.56it/s]"
     ]
    },
    {
     "name": "stderr",
     "output_type": "stream",
     "text": [
      "\r",
      "clean sentences:  77%|███████▋  | 33500/43613 [01:11<00:14, 698.31it/s]"
     ]
    },
    {
     "name": "stderr",
     "output_type": "stream",
     "text": [
      "\r",
      "clean sentences:  77%|███████▋  | 33416/43613 [01:11<00:14, 697.50it/s]"
     ]
    },
    {
     "name": "stderr",
     "output_type": "stream",
     "text": [
      "\r",
      "clean sentences:  76%|███████▌  | 33248/43613 [01:11<00:15, 689.44it/s]"
     ]
    },
    {
     "name": "stderr",
     "output_type": "stream",
     "text": [
      "\r",
      "clean sentences:  76%|███████▌  | 33010/43613 [01:10<00:17, 616.08it/s]"
     ]
    },
    {
     "name": "stderr",
     "output_type": "stream",
     "text": [
      "\r",
      "clean sentences:  75%|███████▌  | 32912/43613 [01:10<00:12, 884.29it/s]"
     ]
    },
    {
     "name": "stderr",
     "output_type": "stream",
     "text": [
      "\r",
      "clean sentences:  75%|███████▌  | 32762/43613 [01:10<00:13, 804.34it/s]"
     ]
    },
    {
     "name": "stderr",
     "output_type": "stream",
     "text": [
      "\r",
      "clean sentences:  75%|███████▍  | 32660/43613 [01:10<00:11, 920.66it/s]"
     ]
    },
    {
     "name": "stderr",
     "output_type": "stream",
     "text": [
      "\r",
      "clean sentences:  74%|███████▍  | 32408/43613 [01:09<00:12, 923.69it/s]"
     ]
    },
    {
     "name": "stderr",
     "output_type": "stream",
     "text": [
      "\r",
      "clean sentences:  74%|███████▍  | 32240/43613 [01:09<00:13, 819.74it/s]"
     ]
    },
    {
     "name": "stderr",
     "output_type": "stream",
     "text": [
      "\r",
      "clean sentences:  74%|███████▎  | 32072/43613 [01:09<00:15, 754.05it/s]"
     ]
    },
    {
     "name": "stderr",
     "output_type": "stream",
     "text": [
      "\r",
      "clean sentences:  73%|███████▎  | 31945/43613 [01:09<00:16, 699.76it/s]"
     ]
    },
    {
     "name": "stderr",
     "output_type": "stream",
     "text": [
      "\r",
      "clean sentences:  73%|███████▎  | 31848/43613 [01:09<00:18, 652.18it/s]"
     ]
    },
    {
     "name": "stderr",
     "output_type": "stream",
     "text": [
      "\r",
      "clean sentences:  73%|███████▎  | 31736/43613 [01:09<00:17, 666.45it/s]"
     ]
    },
    {
     "name": "stderr",
     "output_type": "stream",
     "text": [
      "\r",
      "clean sentences:  72%|███████▏  | 31484/43613 [01:09<00:23, 522.28it/s]"
     ]
    },
    {
     "name": "stderr",
     "output_type": "stream",
     "text": [
      "\r",
      "clean sentences:  72%|███████▏  | 31329/43613 [01:08<00:22, 550.50it/s] "
     ]
    },
    {
     "name": "stderr",
     "output_type": "stream",
     "text": [
      "\r",
      "clean sentences:  72%|███████▏  | 31206/43613 [01:08<00:11, 1074.97it/s]"
     ]
    },
    {
     "name": "stderr",
     "output_type": "stream",
     "text": [
      "\r",
      "clean sentences:  71%|███████   | 31064/43613 [01:08<00:09, 1300.45it/s]"
     ]
    },
    {
     "name": "stderr",
     "output_type": "stream",
     "text": [
      "\r",
      "clean sentences:  71%|███████   | 30896/43613 [01:07<00:09, 1274.49it/s]"
     ]
    },
    {
     "name": "stderr",
     "output_type": "stream",
     "text": [
      "\r",
      "clean sentences:  70%|███████   | 30728/43613 [01:07<00:10, 1173.88it/s]"
     ]
    },
    {
     "name": "stderr",
     "output_type": "stream",
     "text": [
      "\r",
      "clean sentences:  70%|██████▉   | 30476/43613 [01:07<00:12, 1049.55it/s]"
     ]
    },
    {
     "name": "stderr",
     "output_type": "stream",
     "text": [
      "\r",
      "clean sentences:  69%|██████▉   | 30308/43613 [01:07<00:12, 1027.72it/s]"
     ]
    },
    {
     "name": "stderr",
     "output_type": "stream",
     "text": [
      "\r",
      "clean sentences:  69%|██████▉   | 30056/43613 [01:07<00:15, 848.00it/s]"
     ]
    },
    {
     "name": "stderr",
     "output_type": "stream",
     "text": [
      "\r",
      "clean sentences:  68%|██████▊   | 29804/43613 [01:07<00:19, 711.81it/s]"
     ]
    },
    {
     "name": "stderr",
     "output_type": "stream",
     "text": [
      "\r",
      "clean sentences:  68%|██████▊   | 29636/43613 [01:06<00:17, 781.58it/s]"
     ]
    },
    {
     "name": "stderr",
     "output_type": "stream",
     "text": [
      "\r",
      "clean sentences:  68%|██████▊   | 29468/43613 [01:06<00:14, 971.57it/s]"
     ]
    },
    {
     "name": "stderr",
     "output_type": "stream",
     "text": [
      "\r",
      "clean sentences:  67%|██████▋   | 29263/43613 [01:06<00:14, 979.80it/s]"
     ]
    },
    {
     "name": "stderr",
     "output_type": "stream",
     "text": [
      "\r",
      "clean sentences:  67%|██████▋   | 29132/43613 [01:06<00:14, 999.98it/s]"
     ]
    },
    {
     "name": "stderr",
     "output_type": "stream",
     "text": [
      "\r",
      "clean sentences:  66%|██████▌   | 28880/43613 [01:06<00:17, 827.10it/s] "
     ]
    },
    {
     "name": "stderr",
     "output_type": "stream",
     "text": [
      "\r",
      "clean sentences:  66%|██████▌   | 28712/43613 [01:05<00:14, 1034.26it/s]"
     ]
    },
    {
     "name": "stderr",
     "output_type": "stream",
     "text": [
      "\r",
      "clean sentences:  65%|██████▌   | 28460/43613 [01:05<00:17, 880.75it/s]"
     ]
    },
    {
     "name": "stderr",
     "output_type": "stream",
     "text": [
      "\r",
      "clean sentences:  65%|██████▍   | 28292/43613 [01:05<00:20, 762.24it/s]"
     ]
    },
    {
     "name": "stderr",
     "output_type": "stream",
     "text": [
      "\r",
      "clean sentences:  64%|██████▍   | 28040/43613 [01:05<00:23, 673.05it/s]"
     ]
    },
    {
     "name": "stderr",
     "output_type": "stream",
     "text": [
      "\r",
      "clean sentences:  64%|██████▍   | 27872/43613 [01:05<00:24, 629.94it/s]"
     ]
    },
    {
     "name": "stderr",
     "output_type": "stream",
     "text": [
      "\r",
      "clean sentences:  64%|██████▎   | 27788/43613 [01:05<00:25, 629.17it/s]"
     ]
    },
    {
     "name": "stderr",
     "output_type": "stream",
     "text": [
      "\r",
      "clean sentences:  63%|██████▎   | 27681/43613 [01:04<00:26, 605.18it/s]"
     ]
    },
    {
     "name": "stderr",
     "output_type": "stream",
     "text": [
      "\r",
      "clean sentences:  63%|██████▎   | 27594/43613 [01:04<00:28, 562.76it/s]"
     ]
    },
    {
     "name": "stderr",
     "output_type": "stream",
     "text": [
      "\r",
      "clean sentences:  63%|██████▎   | 27485/43613 [01:04<00:20, 771.14it/s]"
     ]
    },
    {
     "name": "stderr",
     "output_type": "stream",
     "text": [
      "\r",
      "clean sentences:  63%|██████▎   | 27355/43613 [01:04<00:17, 904.71it/s]"
     ]
    },
    {
     "name": "stderr",
     "output_type": "stream",
     "text": [
      "\r",
      "clean sentences:  62%|██████▏   | 27209/43613 [01:04<00:18, 893.10it/s]"
     ]
    },
    {
     "name": "stderr",
     "output_type": "stream",
     "text": [
      "\r",
      "clean sentences:  62%|██████▏   | 27032/43613 [01:03<00:17, 974.11it/s]"
     ]
    },
    {
     "name": "stderr",
     "output_type": "stream",
     "text": [
      "\r",
      "clean sentences:  61%|██████    | 26528/43613 [01:03<00:23, 738.66it/s]"
     ]
    },
    {
     "name": "stderr",
     "output_type": "stream",
     "text": [
      "\r",
      "clean sentences:  61%|██████    | 26416/43613 [01:03<00:26, 649.47it/s]"
     ]
    },
    {
     "name": "stderr",
     "output_type": "stream",
     "text": [
      "\r",
      "clean sentences:  60%|██████    | 26276/43613 [01:03<00:32, 539.31it/s]"
     ]
    },
    {
     "name": "stderr",
     "output_type": "stream",
     "text": [
      "\r",
      "clean sentences:  60%|██████    | 26192/43613 [01:03<00:36, 475.48it/s]"
     ]
    },
    {
     "name": "stderr",
     "output_type": "stream",
     "text": [
      "\r",
      "clean sentences:  60%|█████▉    | 26108/43613 [01:03<00:42, 412.44it/s]"
     ]
    },
    {
     "name": "stderr",
     "output_type": "stream",
     "text": [
      "\r",
      "clean sentences:  60%|█████▉    | 26038/43613 [01:03<00:47, 369.61it/s]"
     ]
    },
    {
     "name": "stderr",
     "output_type": "stream",
     "text": [
      "\r",
      "clean sentences:  60%|█████▉    | 25982/43613 [01:03<00:53, 328.56it/s]"
     ]
    },
    {
     "name": "stderr",
     "output_type": "stream",
     "text": [
      "\r",
      "clean sentences:  59%|█████▉    | 25940/43613 [01:02<00:51, 340.29it/s]"
     ]
    },
    {
     "name": "stderr",
     "output_type": "stream",
     "text": [
      "\r",
      "clean sentences:  59%|█████▉    | 25884/43613 [01:02<00:54, 328.12it/s]"
     ]
    },
    {
     "name": "stderr",
     "output_type": "stream",
     "text": [
      "\r",
      "clean sentences:  59%|█████▉    | 25828/43613 [01:02<01:02, 285.63it/s]"
     ]
    },
    {
     "name": "stderr",
     "output_type": "stream",
     "text": [
      "\r",
      "clean sentences:  59%|█████▉    | 25786/43613 [01:02<01:05, 272.52it/s]"
     ]
    },
    {
     "name": "stderr",
     "output_type": "stream",
     "text": [
      "\r",
      "clean sentences:  59%|█████▉    | 25747/43613 [01:02<01:09, 255.63it/s]"
     ]
    },
    {
     "name": "stderr",
     "output_type": "stream",
     "text": [
      "\r",
      "clean sentences:  59%|█████▉    | 25712/43613 [01:02<00:56, 315.34it/s]"
     ]
    },
    {
     "name": "stderr",
     "output_type": "stream",
     "text": [
      "\r",
      "clean sentences:  59%|█████▉    | 25668/43613 [01:02<01:03, 281.20it/s]"
     ]
    },
    {
     "name": "stderr",
     "output_type": "stream",
     "text": [
      "\r",
      "clean sentences:  59%|█████▉    | 25637/43613 [01:01<01:04, 279.77it/s]"
     ]
    },
    {
     "name": "stderr",
     "output_type": "stream",
     "text": [
      "\r",
      "clean sentences:  59%|█████▊    | 25604/43613 [01:01<01:02, 289.20it/s]"
     ]
    },
    {
     "name": "stderr",
     "output_type": "stream",
     "text": [
      "\r",
      "clean sentences:  59%|█████▊    | 25550/43613 [01:01<01:12, 247.56it/s]"
     ]
    },
    {
     "name": "stderr",
     "output_type": "stream",
     "text": [
      "\r",
      "clean sentences:  59%|█████▊    | 25520/43613 [01:01<01:05, 277.30it/s]"
     ]
    },
    {
     "name": "stderr",
     "output_type": "stream",
     "text": [
      "\r",
      "clean sentences:  58%|█████▊    | 25482/43613 [01:01<01:03, 284.18it/s]"
     ]
    },
    {
     "name": "stderr",
     "output_type": "stream",
     "text": [
      "\r",
      "clean sentences:  58%|█████▊    | 25450/43613 [01:01<01:03, 285.85it/s]"
     ]
    },
    {
     "name": "stderr",
     "output_type": "stream",
     "text": [
      "\r",
      "clean sentences:  58%|█████▊    | 25408/43613 [01:01<01:04, 280.60it/s]"
     ]
    },
    {
     "name": "stderr",
     "output_type": "stream",
     "text": [
      "\r",
      "clean sentences:  58%|█████▊    | 25342/43613 [01:01<01:11, 254.39it/s]"
     ]
    },
    {
     "name": "stderr",
     "output_type": "stream",
     "text": [
      "\r",
      "clean sentences:  58%|█████▊    | 25310/43613 [01:00<01:14, 245.75it/s]"
     ]
    },
    {
     "name": "stderr",
     "output_type": "stream",
     "text": [
      "\r",
      "clean sentences:  58%|█████▊    | 25254/43613 [01:00<01:28, 207.83it/s]"
     ]
    },
    {
     "name": "stderr",
     "output_type": "stream",
     "text": [
      "\r",
      "clean sentences:  58%|█████▊    | 25198/43613 [01:00<01:40, 183.13it/s]"
     ]
    },
    {
     "name": "stderr",
     "output_type": "stream",
     "text": [
      "\r",
      "clean sentences:  58%|█████▊    | 25156/43613 [01:00<01:55, 159.31it/s]"
     ]
    },
    {
     "name": "stderr",
     "output_type": "stream",
     "text": [
      "\r",
      "clean sentences:  58%|█████▊    | 25128/43613 [01:00<02:00, 153.51it/s]"
     ]
    },
    {
     "name": "stderr",
     "output_type": "stream",
     "text": [
      "\r",
      "clean sentences:  58%|█████▊    | 25086/43613 [01:00<02:25, 127.67it/s]"
     ]
    },
    {
     "name": "stderr",
     "output_type": "stream",
     "text": [
      "\r",
      "clean sentences:  57%|█████▋    | 25030/43613 [01:00<03:12, 96.54it/s] "
     ]
    },
    {
     "name": "stderr",
     "output_type": "stream",
     "text": [
      "\r",
      "clean sentences:  57%|█████▋    | 25002/43613 [00:59<01:33, 198.46it/s]"
     ]
    },
    {
     "name": "stderr",
     "output_type": "stream",
     "text": [
      "\r",
      "clean sentences:  57%|█████▋    | 24974/43613 [00:59<01:36, 193.37it/s]"
     ]
    },
    {
     "name": "stderr",
     "output_type": "stream",
     "text": [
      "\r",
      "clean sentences:  57%|█████▋    | 24932/43613 [00:59<01:41, 184.51it/s]"
     ]
    },
    {
     "name": "stderr",
     "output_type": "stream",
     "text": [
      "\r",
      "clean sentences:  57%|█████▋    | 24890/43613 [00:58<01:46, 175.28it/s]"
     ]
    },
    {
     "name": "stderr",
     "output_type": "stream",
     "text": [
      "\r",
      "clean sentences:  57%|█████▋    | 24862/43613 [00:58<02:00, 155.50it/s]"
     ]
    },
    {
     "name": "stderr",
     "output_type": "stream",
     "text": [
      "\r",
      "clean sentences:  57%|█████▋    | 24834/43613 [00:58<02:15, 138.60it/s]"
     ]
    },
    {
     "name": "stderr",
     "output_type": "stream",
     "text": [
      "\r",
      "clean sentences:  57%|█████▋    | 24806/43613 [00:58<02:31, 124.41it/s]"
     ]
    },
    {
     "name": "stderr",
     "output_type": "stream",
     "text": [
      "\r",
      "clean sentences:  57%|█████▋    | 24778/43613 [00:58<03:06, 100.92it/s]"
     ]
    },
    {
     "name": "stderr",
     "output_type": "stream",
     "text": [
      "\r",
      "clean sentences:  57%|█████▋    | 24736/43613 [00:58<03:56, 79.87it/s]"
     ]
    },
    {
     "name": "stderr",
     "output_type": "stream",
     "text": [
      "\r",
      "clean sentences:  57%|█████▋    | 24708/43613 [00:58<05:03, 62.33it/s]"
     ]
    },
    {
     "name": "stderr",
     "output_type": "stream",
     "text": [
      "\r",
      "clean sentences:  57%|█████▋    | 24680/43613 [00:57<06:28, 48.74it/s]"
     ]
    },
    {
     "name": "stderr",
     "output_type": "stream",
     "text": [
      "\r",
      "clean sentences:  56%|█████▋    | 24624/43613 [00:57<08:55, 35.43it/s]"
     ]
    },
    {
     "name": "stderr",
     "output_type": "stream",
     "text": [
      "\r",
      "clean sentences:  56%|█████▋    | 24610/43613 [00:57<09:25, 33.58it/s]"
     ]
    },
    {
     "name": "stderr",
     "output_type": "stream",
     "text": [
      "\r",
      "clean sentences:  56%|█████▋    | 24596/43613 [00:57<10:59, 28.82it/s]"
     ]
    },
    {
     "name": "stderr",
     "output_type": "stream",
     "text": [
      "\r",
      "clean sentences:  56%|█████▋    | 24582/43613 [00:56<08:42, 36.42it/s]"
     ]
    },
    {
     "name": "stderr",
     "output_type": "stream",
     "text": [
      "\r",
      "clean sentences:  56%|█████▋    | 24568/43613 [00:55<04:56, 64.27it/s]"
     ]
    },
    {
     "name": "stderr",
     "output_type": "stream",
     "text": [
      "\r",
      "clean sentences:  56%|█████▋    | 24539/43613 [00:55<05:56, 53.43it/s]"
     ]
    },
    {
     "name": "stderr",
     "output_type": "stream",
     "text": [
      "\r",
      "clean sentences:  56%|█████▌    | 24510/43613 [00:54<05:46, 55.12it/s]"
     ]
    },
    {
     "name": "stderr",
     "output_type": "stream",
     "text": [
      "\r",
      "clean sentences:  56%|█████▌    | 24481/43613 [00:54<05:17, 60.20it/s]"
     ]
    },
    {
     "name": "stderr",
     "output_type": "stream",
     "text": [
      "\r",
      "clean sentences:  56%|█████▌    | 24452/43613 [00:54<06:48, 46.88it/s] "
     ]
    },
    {
     "name": "stderr",
     "output_type": "stream",
     "text": [
      "\r",
      "clean sentences:  56%|█████▌    | 24423/43613 [00:52<03:07, 102.54it/s]"
     ]
    },
    {
     "name": "stderr",
     "output_type": "stream",
     "text": [
      "\r",
      "clean sentences:  56%|█████▌    | 24394/43613 [00:52<02:59, 107.32it/s]"
     ]
    },
    {
     "name": "stderr",
     "output_type": "stream",
     "text": [
      "\r",
      "clean sentences:  56%|█████▌    | 24336/43613 [00:52<03:26, 93.23it/s] "
     ]
    },
    {
     "name": "stderr",
     "output_type": "stream",
     "text": [
      "\r",
      "clean sentences:  56%|█████▌    | 24278/43613 [00:51<02:37, 123.06it/s]"
     ]
    },
    {
     "name": "stderr",
     "output_type": "stream",
     "text": [
      "\r",
      "clean sentences:  56%|█████▌    | 24220/43613 [00:50<03:06, 103.92it/s]"
     ]
    },
    {
     "name": "stderr",
     "output_type": "stream",
     "text": [
      "\r",
      "clean sentences:  55%|█████▌    | 24162/43613 [00:49<02:34, 125.88it/s]"
     ]
    },
    {
     "name": "stderr",
     "output_type": "stream",
     "text": [
      "\r",
      "clean sentences:  55%|█████▌    | 24104/43613 [00:49<01:58, 164.15it/s]"
     ]
    },
    {
     "name": "stderr",
     "output_type": "stream",
     "text": [
      "\r",
      "clean sentences:  55%|█████▌    | 24051/43613 [00:48<00:55, 355.06it/s]"
     ]
    },
    {
     "name": "stderr",
     "output_type": "stream",
     "text": [
      "\r",
      "clean sentences:  55%|█████▌    | 23988/43613 [00:48<00:45, 427.72it/s]"
     ]
    },
    {
     "name": "stderr",
     "output_type": "stream",
     "text": [
      "\r",
      "clean sentences:  55%|█████▍    | 23814/43613 [00:48<00:59, 335.19it/s]"
     ]
    },
    {
     "name": "stderr",
     "output_type": "stream",
     "text": [
      "\r",
      "clean sentences:  54%|█████▍    | 23756/43613 [00:48<01:02, 318.18it/s]"
     ]
    },
    {
     "name": "stderr",
     "output_type": "stream",
     "text": [
      "\r",
      "clean sentences:  54%|█████▍    | 23698/43613 [00:47<01:05, 304.40it/s]"
     ]
    },
    {
     "name": "stderr",
     "output_type": "stream",
     "text": [
      "\r",
      "clean sentences:  54%|█████▍    | 23582/43613 [00:47<01:15, 265.31it/s]"
     ]
    },
    {
     "name": "stderr",
     "output_type": "stream",
     "text": [
      "\r",
      "clean sentences:  54%|█████▍    | 23524/43613 [00:47<01:24, 236.61it/s]"
     ]
    },
    {
     "name": "stderr",
     "output_type": "stream",
     "text": [
      "\r",
      "clean sentences:  54%|█████▍    | 23466/43613 [00:47<01:13, 274.98it/s]"
     ]
    },
    {
     "name": "stderr",
     "output_type": "stream",
     "text": [
      "\r",
      "clean sentences:  54%|█████▎    | 23408/43613 [00:46<01:25, 235.07it/s]"
     ]
    },
    {
     "name": "stderr",
     "output_type": "stream",
     "text": [
      "\r",
      "clean sentences:  53%|█████▎    | 23292/43613 [00:46<01:04, 314.79it/s]"
     ]
    },
    {
     "name": "stderr",
     "output_type": "stream",
     "text": [
      "\r",
      "clean sentences:  53%|█████▎    | 23176/43613 [00:45<00:56, 363.15it/s]"
     ]
    },
    {
     "name": "stderr",
     "output_type": "stream",
     "text": [
      "\r",
      "clean sentences:  53%|█████▎    | 23060/43613 [00:45<01:00, 340.36it/s]"
     ]
    },
    {
     "name": "stderr",
     "output_type": "stream",
     "text": [
      "\r",
      "clean sentences:  53%|█████▎    | 22944/43613 [00:44<00:38, 535.78it/s]"
     ]
    },
    {
     "name": "stderr",
     "output_type": "stream",
     "text": [
      "\r",
      "clean sentences:  52%|█████▏    | 22828/43613 [00:44<00:37, 549.73it/s]"
     ]
    },
    {
     "name": "stderr",
     "output_type": "stream",
     "text": [
      "\r",
      "clean sentences:  52%|█████▏    | 22712/43613 [00:44<00:42, 488.68it/s]"
     ]
    },
    {
     "name": "stderr",
     "output_type": "stream",
     "text": [
      "\r",
      "clean sentences:  52%|█████▏    | 22596/43613 [00:44<00:49, 420.59it/s]"
     ]
    },
    {
     "name": "stderr",
     "output_type": "stream",
     "text": [
      "\r",
      "clean sentences:  52%|█████▏    | 22480/43613 [00:43<00:42, 497.82it/s]"
     ]
    },
    {
     "name": "stderr",
     "output_type": "stream",
     "text": [
      "\r",
      "clean sentences:  51%|█████▏    | 22364/43613 [00:43<00:32, 654.49it/s]"
     ]
    },
    {
     "name": "stderr",
     "output_type": "stream",
     "text": [
      "\r",
      "clean sentences:  51%|█████     | 22132/43613 [00:43<00:42, 505.53it/s]"
     ]
    },
    {
     "name": "stderr",
     "output_type": "stream",
     "text": [
      "\r",
      "clean sentences:  50%|█████     | 22016/43613 [00:43<00:41, 519.59it/s]"
     ]
    },
    {
     "name": "stderr",
     "output_type": "stream",
     "text": [
      "\r",
      "clean sentences:  50%|█████     | 21900/43613 [00:42<00:38, 556.80it/s]"
     ]
    },
    {
     "name": "stderr",
     "output_type": "stream",
     "text": [
      "\r",
      "clean sentences:  50%|████▉     | 21668/43613 [00:42<00:49, 443.38it/s]"
     ]
    },
    {
     "name": "stderr",
     "output_type": "stream",
     "text": [
      "\r",
      "clean sentences:  49%|████▉     | 21552/43613 [00:42<00:50, 436.81it/s]"
     ]
    },
    {
     "name": "stderr",
     "output_type": "stream",
     "text": [
      "\r",
      "clean sentences:  49%|████▉     | 21436/43613 [00:42<00:44, 494.18it/s]"
     ]
    },
    {
     "name": "stderr",
     "output_type": "stream",
     "text": [
      "\r",
      "clean sentences:  49%|████▉     | 21320/43613 [00:42<00:53, 416.34it/s]"
     ]
    },
    {
     "name": "stderr",
     "output_type": "stream",
     "text": [
      "\r",
      "clean sentences:  49%|████▊     | 21204/43613 [00:41<00:47, 472.04it/s]"
     ]
    },
    {
     "name": "stderr",
     "output_type": "stream",
     "text": [
      "\r",
      "clean sentences:  48%|████▊     | 21088/43613 [00:41<00:37, 606.08it/s]"
     ]
    },
    {
     "name": "stderr",
     "output_type": "stream",
     "text": [
      "\r",
      "clean sentences:  48%|████▊     | 20972/43613 [00:41<00:37, 606.33it/s]"
     ]
    },
    {
     "name": "stderr",
     "output_type": "stream",
     "text": [
      "\r",
      "clean sentences:  48%|████▊     | 20856/43613 [00:41<00:43, 523.80it/s]"
     ]
    },
    {
     "name": "stderr",
     "output_type": "stream",
     "text": [
      "\r",
      "clean sentences:  48%|████▊     | 20740/43613 [00:40<00:52, 433.88it/s]"
     ]
    },
    {
     "name": "stderr",
     "output_type": "stream",
     "text": [
      "\r",
      "clean sentences:  47%|████▋     | 20624/43613 [00:40<00:50, 455.50it/s]"
     ]
    },
    {
     "name": "stderr",
     "output_type": "stream",
     "text": [
      "\r",
      "clean sentences:  47%|████▋     | 20508/43613 [00:40<00:38, 607.78it/s]"
     ]
    },
    {
     "name": "stderr",
     "output_type": "stream",
     "text": [
      "\r",
      "clean sentences:  47%|████▋     | 20392/43613 [00:40<00:43, 539.60it/s]"
     ]
    },
    {
     "name": "stderr",
     "output_type": "stream",
     "text": [
      "\r",
      "clean sentences:  46%|████▋     | 20276/43613 [00:39<00:48, 479.08it/s]"
     ]
    },
    {
     "name": "stderr",
     "output_type": "stream",
     "text": [
      "\r",
      "clean sentences:  46%|████▌     | 20160/43613 [00:39<00:45, 517.66it/s]"
     ]
    },
    {
     "name": "stderr",
     "output_type": "stream",
     "text": [
      "\r",
      "clean sentences:  46%|████▌     | 20044/43613 [00:39<00:40, 584.11it/s]"
     ]
    },
    {
     "name": "stderr",
     "output_type": "stream",
     "text": [
      "\r",
      "clean sentences:  46%|████▌     | 19928/43613 [00:39<00:48, 491.73it/s]"
     ]
    },
    {
     "name": "stderr",
     "output_type": "stream",
     "text": [
      "\r",
      "clean sentences:  45%|████▌     | 19696/43613 [00:38<00:54, 439.67it/s]"
     ]
    },
    {
     "name": "stderr",
     "output_type": "stream",
     "text": [
      "\r",
      "clean sentences:  45%|████▍     | 19580/43613 [00:38<00:42, 560.03it/s]"
     ]
    },
    {
     "name": "stderr",
     "output_type": "stream",
     "text": [
      "\r",
      "clean sentences:  45%|████▍     | 19464/43613 [00:38<00:52, 461.03it/s]"
     ]
    },
    {
     "name": "stderr",
     "output_type": "stream",
     "text": [
      "\r",
      "clean sentences:  44%|████▍     | 19348/43613 [00:38<00:49, 494.57it/s]"
     ]
    },
    {
     "name": "stderr",
     "output_type": "stream",
     "text": [
      "\r",
      "clean sentences:  44%|████▍     | 19232/43613 [00:37<00:49, 492.79it/s]"
     ]
    },
    {
     "name": "stderr",
     "output_type": "stream",
     "text": [
      "\r",
      "clean sentences:  44%|████▍     | 19116/43613 [00:37<00:43, 559.44it/s]"
     ]
    },
    {
     "name": "stderr",
     "output_type": "stream",
     "text": [
      "\r",
      "clean sentences:  44%|████▎     | 19000/43613 [00:37<00:42, 579.43it/s]"
     ]
    },
    {
     "name": "stderr",
     "output_type": "stream",
     "text": [
      "\r",
      "clean sentences:  43%|████▎     | 18884/43613 [00:37<00:46, 527.08it/s]"
     ]
    },
    {
     "name": "stderr",
     "output_type": "stream",
     "text": [
      "\r",
      "clean sentences:  43%|████▎     | 18768/43613 [00:37<00:53, 465.80it/s]"
     ]
    },
    {
     "name": "stderr",
     "output_type": "stream",
     "text": [
      "\r",
      "clean sentences:  43%|████▎     | 18652/43613 [00:36<00:42, 585.62it/s]"
     ]
    },
    {
     "name": "stderr",
     "output_type": "stream",
     "text": [
      "\r",
      "clean sentences:  42%|████▏     | 18420/43613 [00:36<00:51, 491.85it/s]"
     ]
    },
    {
     "name": "stderr",
     "output_type": "stream",
     "text": [
      "\r",
      "clean sentences:  42%|████▏     | 18304/43613 [00:36<00:47, 536.85it/s]"
     ]
    },
    {
     "name": "stderr",
     "output_type": "stream",
     "text": [
      "\r",
      "clean sentences:  41%|████▏     | 18072/43613 [00:35<00:42, 594.12it/s]"
     ]
    },
    {
     "name": "stderr",
     "output_type": "stream",
     "text": [
      "\r",
      "clean sentences:  41%|████      | 17840/43613 [00:35<00:55, 466.15it/s]"
     ]
    },
    {
     "name": "stderr",
     "output_type": "stream",
     "text": [
      "\r",
      "clean sentences:  41%|████      | 17724/43613 [00:35<01:00, 427.65it/s]"
     ]
    },
    {
     "name": "stderr",
     "output_type": "stream",
     "text": [
      "\r",
      "clean sentences:  40%|████      | 17608/43613 [00:35<01:03, 411.23it/s]"
     ]
    },
    {
     "name": "stderr",
     "output_type": "stream",
     "text": [
      "\r",
      "clean sentences:  40%|████      | 17492/43613 [00:34<01:00, 433.59it/s]"
     ]
    },
    {
     "name": "stderr",
     "output_type": "stream",
     "text": [
      "\r",
      "clean sentences:  40%|███▉      | 17376/43613 [00:34<00:48, 539.07it/s]"
     ]
    },
    {
     "name": "stderr",
     "output_type": "stream",
     "text": [
      "\r",
      "clean sentences:  40%|███▉      | 17260/43613 [00:34<00:53, 488.61it/s]"
     ]
    },
    {
     "name": "stderr",
     "output_type": "stream",
     "text": [
      "\r",
      "clean sentences:  39%|███▉      | 17144/43613 [00:33<00:47, 559.25it/s]"
     ]
    },
    {
     "name": "stderr",
     "output_type": "stream",
     "text": [
      "\r",
      "clean sentences:  39%|███▉      | 16919/43613 [00:33<01:00, 438.85it/s]"
     ]
    },
    {
     "name": "stderr",
     "output_type": "stream",
     "text": [
      "\r",
      "clean sentences:  39%|███▊      | 16802/43613 [00:33<00:39, 685.32it/s]"
     ]
    },
    {
     "name": "stderr",
     "output_type": "stream",
     "text": [
      "\r",
      "clean sentences:  38%|███▊      | 16680/43613 [00:33<00:44, 599.05it/s]"
     ]
    },
    {
     "name": "stderr",
     "output_type": "stream",
     "text": [
      "\r",
      "clean sentences:  38%|███▊      | 16448/43613 [00:32<00:28, 966.44it/s] "
     ]
    },
    {
     "name": "stderr",
     "output_type": "stream",
     "text": [
      "\r",
      "clean sentences:  37%|███▋      | 16216/43613 [00:32<00:23, 1164.85it/s]"
     ]
    },
    {
     "name": "stderr",
     "output_type": "stream",
     "text": [
      "\r",
      "clean sentences:  36%|███▌      | 15752/43613 [00:31<00:30, 927.11it/s]"
     ]
    },
    {
     "name": "stderr",
     "output_type": "stream",
     "text": [
      "\r",
      "clean sentences:  35%|███▌      | 15416/43613 [00:31<00:37, 743.31it/s]"
     ]
    },
    {
     "name": "stderr",
     "output_type": "stream",
     "text": [
      "\r",
      "clean sentences:  35%|███▍      | 15156/43613 [00:31<00:48, 585.71it/s]"
     ]
    },
    {
     "name": "stderr",
     "output_type": "stream",
     "text": [
      "\r",
      "clean sentences:  34%|███▍      | 14912/43613 [00:31<01:04, 444.43it/s]"
     ]
    },
    {
     "name": "stderr",
     "output_type": "stream",
     "text": [
      "\r",
      "clean sentences:  34%|███▍      | 14840/43613 [00:31<01:11, 403.42it/s]"
     ]
    },
    {
     "name": "stderr",
     "output_type": "stream",
     "text": [
      "\r",
      "clean sentences:  34%|███▍      | 14720/43613 [00:31<01:25, 336.04it/s]"
     ]
    },
    {
     "name": "stderr",
     "output_type": "stream",
     "text": [
      "\r",
      "clean sentences:  33%|███▎      | 14600/43613 [00:31<01:47, 270.41it/s]"
     ]
    },
    {
     "name": "stderr",
     "output_type": "stream",
     "text": [
      "\r",
      "clean sentences:  33%|███▎      | 14532/43613 [00:30<02:13, 217.98it/s]"
     ]
    },
    {
     "name": "stderr",
     "output_type": "stream",
     "text": [
      "\r",
      "clean sentences:  33%|███▎      | 14507/43613 [00:30<02:11, 221.38it/s]"
     ]
    },
    {
     "name": "stderr",
     "output_type": "stream",
     "text": [
      "\r",
      "clean sentences:  33%|███▎      | 14480/43613 [00:30<02:03, 235.24it/s]"
     ]
    },
    {
     "name": "stderr",
     "output_type": "stream",
     "text": [
      "\r",
      "clean sentences:  33%|███▎      | 14432/43613 [00:30<02:25, 200.38it/s]"
     ]
    },
    {
     "name": "stderr",
     "output_type": "stream",
     "text": [
      "\r",
      "clean sentences:  33%|███▎      | 14408/43613 [00:30<02:18, 210.18it/s]"
     ]
    },
    {
     "name": "stderr",
     "output_type": "stream",
     "text": [
      "\r",
      "clean sentences:  33%|███▎      | 14384/43613 [00:30<02:17, 212.47it/s]"
     ]
    },
    {
     "name": "stderr",
     "output_type": "stream",
     "text": [
      "\r",
      "clean sentences:  33%|███▎      | 14336/43613 [00:30<02:21, 206.93it/s]"
     ]
    },
    {
     "name": "stderr",
     "output_type": "stream",
     "text": [
      "\r",
      "clean sentences:  33%|███▎      | 14264/43613 [00:29<02:42, 180.74it/s]"
     ]
    },
    {
     "name": "stderr",
     "output_type": "stream",
     "text": [
      "\r",
      "clean sentences:  33%|███▎      | 14192/43613 [00:29<02:50, 172.71it/s]"
     ]
    },
    {
     "name": "stderr",
     "output_type": "stream",
     "text": [
      "\r",
      "clean sentences:  32%|███▏      | 14168/43613 [00:29<02:54, 169.11it/s]"
     ]
    },
    {
     "name": "stderr",
     "output_type": "stream",
     "text": [
      "\r",
      "clean sentences:  32%|███▏      | 14144/43613 [00:29<02:59, 164.52it/s]"
     ]
    },
    {
     "name": "stderr",
     "output_type": "stream",
     "text": [
      "\r",
      "clean sentences:  32%|███▏      | 14073/43613 [00:29<03:32, 139.07it/s]"
     ]
    },
    {
     "name": "stderr",
     "output_type": "stream",
     "text": [
      "\r",
      "clean sentences:  32%|███▏      | 14048/43613 [00:28<02:19, 212.32it/s]"
     ]
    },
    {
     "name": "stderr",
     "output_type": "stream",
     "text": [
      "\r",
      "clean sentences:  32%|███▏      | 14000/43613 [00:28<02:28, 198.81it/s]"
     ]
    },
    {
     "name": "stderr",
     "output_type": "stream",
     "text": [
      "\r",
      "clean sentences:  32%|███▏      | 13958/43613 [00:28<02:10, 228.06it/s]"
     ]
    },
    {
     "name": "stderr",
     "output_type": "stream",
     "text": [
      "\r",
      "clean sentences:  32%|███▏      | 13928/43613 [00:28<02:20, 210.83it/s]"
     ]
    },
    {
     "name": "stderr",
     "output_type": "stream",
     "text": [
      "\r",
      "clean sentences:  32%|███▏      | 13856/43613 [00:27<02:40, 184.92it/s]"
     ]
    },
    {
     "name": "stderr",
     "output_type": "stream",
     "text": [
      "\r",
      "clean sentences:  32%|███▏      | 13785/43613 [00:27<03:10, 156.52it/s]"
     ]
    },
    {
     "name": "stderr",
     "output_type": "stream",
     "text": [
      "\r",
      "clean sentences:  32%|███▏      | 13754/43613 [00:27<03:22, 147.64it/s]"
     ]
    },
    {
     "name": "stderr",
     "output_type": "stream",
     "text": [
      "\r",
      "clean sentences:  31%|███▏      | 13712/43613 [00:26<01:15, 397.33it/s]"
     ]
    },
    {
     "name": "stderr",
     "output_type": "stream",
     "text": [
      "\r",
      "clean sentences:  31%|███▏      | 13640/43613 [00:26<01:16, 391.65it/s]"
     ]
    },
    {
     "name": "stderr",
     "output_type": "stream",
     "text": [
      "\r",
      "clean sentences:  31%|███       | 13544/43613 [00:26<01:13, 411.75it/s]"
     ]
    },
    {
     "name": "stderr",
     "output_type": "stream",
     "text": [
      "\r",
      "clean sentences:  31%|███       | 13496/43613 [00:26<01:06, 449.59it/s]"
     ]
    },
    {
     "name": "stderr",
     "output_type": "stream",
     "text": [
      "\r",
      "clean sentences:  31%|███       | 13424/43613 [00:26<01:12, 418.48it/s]"
     ]
    },
    {
     "name": "stderr",
     "output_type": "stream",
     "text": [
      "\r",
      "clean sentences:  31%|███       | 13359/43613 [00:25<01:11, 420.34it/s]"
     ]
    },
    {
     "name": "stderr",
     "output_type": "stream",
     "text": [
      "\r",
      "clean sentences:  31%|███       | 13304/43613 [00:25<00:57, 525.43it/s]"
     ]
    },
    {
     "name": "stderr",
     "output_type": "stream",
     "text": [
      "\r",
      "clean sentences:  30%|███       | 13234/43613 [00:25<01:03, 476.19it/s]"
     ]
    },
    {
     "name": "stderr",
     "output_type": "stream",
     "text": [
      "\r",
      "clean sentences:  30%|███       | 13184/43613 [00:25<01:03, 481.44it/s]"
     ]
    },
    {
     "name": "stderr",
     "output_type": "stream",
     "text": [
      "\r",
      "clean sentences:  30%|███       | 13088/43613 [00:25<01:04, 472.26it/s]"
     ]
    },
    {
     "name": "stderr",
     "output_type": "stream",
     "text": [
      "\r",
      "clean sentences:  30%|██▉       | 13016/43613 [00:25<01:07, 455.94it/s]"
     ]
    },
    {
     "name": "stderr",
     "output_type": "stream",
     "text": [
      "\r",
      "clean sentences:  30%|██▉       | 12920/43613 [00:25<01:11, 427.16it/s]"
     ]
    },
    {
     "name": "stderr",
     "output_type": "stream",
     "text": [
      "\r",
      "clean sentences:  29%|██▉       | 12848/43613 [00:24<01:09, 444.94it/s]"
     ]
    },
    {
     "name": "stderr",
     "output_type": "stream",
     "text": [
      "\r",
      "clean sentences:  29%|██▉       | 12776/43613 [00:24<01:10, 435.75it/s]"
     ]
    },
    {
     "name": "stderr",
     "output_type": "stream",
     "text": [
      "\r",
      "clean sentences:  29%|██▉       | 12728/43613 [00:24<01:13, 422.07it/s]"
     ]
    },
    {
     "name": "stderr",
     "output_type": "stream",
     "text": [
      "\r",
      "clean sentences:  29%|██▉       | 12656/43613 [00:24<01:14, 413.97it/s]"
     ]
    },
    {
     "name": "stderr",
     "output_type": "stream",
     "text": [
      "\r",
      "clean sentences:  29%|██▉       | 12597/43613 [00:24<01:08, 455.04it/s]"
     ]
    },
    {
     "name": "stderr",
     "output_type": "stream",
     "text": [
      "\r",
      "clean sentences:  29%|██▊       | 12533/43613 [00:24<01:02, 500.35it/s]"
     ]
    },
    {
     "name": "stderr",
     "output_type": "stream",
     "text": [
      "\r",
      "clean sentences:  29%|██▊       | 12458/43613 [00:23<00:52, 587.95it/s]"
     ]
    },
    {
     "name": "stderr",
     "output_type": "stream",
     "text": [
      "\r",
      "clean sentences:  28%|██▊       | 12368/43613 [00:23<00:42, 734.05it/s]"
     ]
    },
    {
     "name": "stderr",
     "output_type": "stream",
     "text": [
      "\r",
      "clean sentences:  28%|██▊       | 12224/43613 [00:23<00:51, 615.24it/s]"
     ]
    },
    {
     "name": "stderr",
     "output_type": "stream",
     "text": [
      "\r",
      "clean sentences:  28%|██▊       | 12130/43613 [00:23<00:58, 541.09it/s]"
     ]
    },
    {
     "name": "stderr",
     "output_type": "stream",
     "text": [
      "\r",
      "clean sentences:  28%|██▊       | 12059/43613 [00:23<00:50, 628.63it/s]"
     ]
    },
    {
     "name": "stderr",
     "output_type": "stream",
     "text": [
      "\r",
      "clean sentences:  27%|██▋       | 11984/43613 [00:23<00:49, 638.16it/s]"
     ]
    },
    {
     "name": "stderr",
     "output_type": "stream",
     "text": [
      "\r",
      "clean sentences:  27%|██▋       | 11864/43613 [00:22<00:54, 581.97it/s]"
     ]
    },
    {
     "name": "stderr",
     "output_type": "stream",
     "text": [
      "\r",
      "clean sentences:  27%|██▋       | 11768/43613 [00:22<01:03, 502.31it/s]"
     ]
    },
    {
     "name": "stderr",
     "output_type": "stream",
     "text": [
      "\r",
      "clean sentences:  27%|██▋       | 11672/43613 [00:22<01:12, 438.61it/s]"
     ]
    },
    {
     "name": "stderr",
     "output_type": "stream",
     "text": [
      "\r",
      "clean sentences:  27%|██▋       | 11576/43613 [00:22<01:27, 365.72it/s]"
     ]
    },
    {
     "name": "stderr",
     "output_type": "stream",
     "text": [
      "\r",
      "clean sentences:  26%|██▋       | 11504/43613 [00:22<01:44, 307.13it/s]"
     ]
    },
    {
     "name": "stderr",
     "output_type": "stream",
     "text": [
      "\r",
      "clean sentences:  26%|██▌       | 11432/43613 [00:22<01:57, 272.83it/s]"
     ]
    },
    {
     "name": "stderr",
     "output_type": "stream",
     "text": [
      "\r",
      "clean sentences:  26%|██▌       | 11336/43613 [00:22<02:18, 232.57it/s]"
     ]
    },
    {
     "name": "stderr",
     "output_type": "stream",
     "text": [
      "\r",
      "clean sentences:  26%|██▌       | 11192/43613 [00:21<02:38, 204.75it/s]"
     ]
    },
    {
     "name": "stderr",
     "output_type": "stream",
     "text": [
      "\r",
      "clean sentences:  26%|██▌       | 11144/43613 [00:21<01:58, 273.20it/s]"
     ]
    },
    {
     "name": "stderr",
     "output_type": "stream",
     "text": [
      "\r",
      "clean sentences:  25%|██▌       | 11096/43613 [00:21<02:06, 256.98it/s]"
     ]
    },
    {
     "name": "stderr",
     "output_type": "stream",
     "text": [
      "\r",
      "clean sentences:  25%|██▌       | 11000/43613 [00:20<02:21, 230.22it/s]"
     ]
    },
    {
     "name": "stderr",
     "output_type": "stream",
     "text": [
      "\r",
      "clean sentences:  25%|██▌       | 10904/43613 [00:20<02:34, 212.23it/s]"
     ]
    },
    {
     "name": "stderr",
     "output_type": "stream",
     "text": [
      "\r",
      "clean sentences:  25%|██▍       | 10808/43613 [00:20<03:03, 178.59it/s]"
     ]
    },
    {
     "name": "stderr",
     "output_type": "stream",
     "text": [
      "\r",
      "clean sentences:  25%|██▍       | 10760/43613 [00:20<03:17, 166.04it/s]"
     ]
    },
    {
     "name": "stderr",
     "output_type": "stream",
     "text": [
      "\r",
      "clean sentences:  25%|██▍       | 10712/43613 [00:19<03:10, 172.47it/s]"
     ]
    },
    {
     "name": "stderr",
     "output_type": "stream",
     "text": [
      "\r",
      "clean sentences:  24%|██▍       | 10622/43613 [00:18<01:36, 343.59it/s]"
     ]
    },
    {
     "name": "stderr",
     "output_type": "stream",
     "text": [
      "\r",
      "clean sentences:  24%|██▍       | 10568/43613 [00:18<01:21, 407.86it/s]"
     ]
    },
    {
     "name": "stderr",
     "output_type": "stream",
     "text": [
      "\r",
      "clean sentences:  24%|██▍       | 10495/43613 [00:18<01:13, 447.82it/s]"
     ]
    },
    {
     "name": "stderr",
     "output_type": "stream",
     "text": [
      "\r",
      "clean sentences:  24%|██▍       | 10421/43613 [00:18<01:02, 532.50it/s]"
     ]
    },
    {
     "name": "stderr",
     "output_type": "stream",
     "text": [
      "\r",
      "clean sentences:  24%|██▎       | 10328/43613 [00:17<00:41, 803.31it/s]"
     ]
    },
    {
     "name": "stderr",
     "output_type": "stream",
     "text": [
      "\r",
      "clean sentences:  23%|██▎       | 10184/43613 [00:17<00:46, 722.87it/s]"
     ]
    },
    {
     "name": "stderr",
     "output_type": "stream",
     "text": [
      "\r",
      "clean sentences:  23%|██▎       | 10088/43613 [00:17<00:44, 761.26it/s]"
     ]
    },
    {
     "name": "stderr",
     "output_type": "stream",
     "text": [
      "\r",
      "clean sentences:  23%|██▎       | 9896/43613 [00:17<00:51, 660.52it/s]"
     ]
    },
    {
     "name": "stderr",
     "output_type": "stream",
     "text": [
      "\r",
      "clean sentences:  22%|██▏       | 9800/43613 [00:17<00:57, 587.84it/s]"
     ]
    },
    {
     "name": "stderr",
     "output_type": "stream",
     "text": [
      "\r",
      "clean sentences:  22%|██▏       | 9701/43613 [00:16<00:55, 612.37it/s]"
     ]
    },
    {
     "name": "stderr",
     "output_type": "stream",
     "text": [
      "\r",
      "clean sentences:  22%|██▏       | 9608/43613 [00:16<01:03, 534.52it/s]"
     ]
    },
    {
     "name": "stderr",
     "output_type": "stream",
     "text": [
      "\r",
      "clean sentences:  22%|██▏       | 9416/43613 [00:16<01:21, 419.70it/s]"
     ]
    },
    {
     "name": "stderr",
     "output_type": "stream",
     "text": [
      "\r",
      "clean sentences:  21%|██▏       | 9272/43613 [00:16<01:46, 322.47it/s]"
     ]
    },
    {
     "name": "stderr",
     "output_type": "stream",
     "text": [
      "\r",
      "clean sentences:  21%|██        | 9176/43613 [00:16<01:27, 391.36it/s]"
     ]
    },
    {
     "name": "stderr",
     "output_type": "stream",
     "text": [
      "\r",
      "clean sentences:  21%|██        | 9080/43613 [00:15<01:14, 463.42it/s]"
     ]
    },
    {
     "name": "stderr",
     "output_type": "stream",
     "text": [
      "\r",
      "clean sentences:  21%|██        | 8990/43613 [00:15<01:18, 438.63it/s]"
     ]
    },
    {
     "name": "stderr",
     "output_type": "stream",
     "text": [
      "\r",
      "clean sentences:  20%|██        | 8936/43613 [00:15<01:14, 466.02it/s]"
     ]
    },
    {
     "name": "stderr",
     "output_type": "stream",
     "text": [
      "\r",
      "clean sentences:  20%|██        | 8858/43613 [00:15<01:10, 496.28it/s]"
     ]
    },
    {
     "name": "stderr",
     "output_type": "stream",
     "text": [
      "\r",
      "clean sentences:  20%|██        | 8797/43613 [00:15<01:13, 475.06it/s]"
     ]
    },
    {
     "name": "stderr",
     "output_type": "stream",
     "text": [
      "\r",
      "clean sentences:  20%|██        | 8727/43613 [00:15<01:07, 516.98it/s]"
     ]
    },
    {
     "name": "stderr",
     "output_type": "stream",
     "text": [
      "\r",
      "clean sentences:  20%|█▉        | 8650/43613 [00:14<01:07, 517.51it/s]"
     ]
    },
    {
     "name": "stderr",
     "output_type": "stream",
     "text": [
      "\r",
      "clean sentences:  20%|█▉        | 8552/43613 [00:14<00:42, 825.68it/s]"
     ]
    },
    {
     "name": "stderr",
     "output_type": "stream",
     "text": [
      "\r",
      "clean sentences:  19%|█▉        | 8360/43613 [00:14<00:48, 721.18it/s]"
     ]
    },
    {
     "name": "stderr",
     "output_type": "stream",
     "text": [
      "\r",
      "clean sentences:  19%|█▉        | 8216/43613 [00:14<00:57, 613.24it/s]"
     ]
    },
    {
     "name": "stderr",
     "output_type": "stream",
     "text": [
      "\r",
      "clean sentences:  19%|█▊        | 8120/43613 [00:14<01:04, 548.95it/s]"
     ]
    },
    {
     "name": "stderr",
     "output_type": "stream",
     "text": [
      "\r",
      "clean sentences:  18%|█▊        | 8024/43613 [00:14<01:04, 549.40it/s]"
     ]
    },
    {
     "name": "stderr",
     "output_type": "stream",
     "text": [
      "\r",
      "clean sentences:  18%|█▊        | 7848/43613 [00:13<01:13, 484.00it/s]"
     ]
    },
    {
     "name": "stderr",
     "output_type": "stream",
     "text": [
      "\r",
      "clean sentences:  18%|█▊        | 7784/43613 [00:13<01:20, 445.15it/s]"
     ]
    },
    {
     "name": "stderr",
     "output_type": "stream",
     "text": [
      "\r",
      "clean sentences:  18%|█▊        | 7688/43613 [00:13<01:34, 379.66it/s]"
     ]
    },
    {
     "name": "stderr",
     "output_type": "stream",
     "text": [
      "\r",
      "clean sentences:  17%|█▋        | 7509/43613 [00:13<01:56, 309.82it/s]"
     ]
    },
    {
     "name": "stderr",
     "output_type": "stream",
     "text": [
      "\r",
      "clean sentences:  17%|█▋        | 7448/43613 [00:13<01:37, 371.61it/s]"
     ]
    },
    {
     "name": "stderr",
     "output_type": "stream",
     "text": [
      "\r",
      "clean sentences:  17%|█▋        | 7359/43613 [00:12<01:58, 306.23it/s]"
     ]
    },
    {
     "name": "stderr",
     "output_type": "stream",
     "text": [
      "\r",
      "clean sentences:  17%|█▋        | 7287/43613 [00:12<01:05, 555.90it/s]"
     ]
    },
    {
     "name": "stderr",
     "output_type": "stream",
     "text": [
      "\r",
      "clean sentences:  17%|█▋        | 7208/43613 [00:12<01:04, 566.17it/s]"
     ]
    },
    {
     "name": "stderr",
     "output_type": "stream",
     "text": [
      "\r",
      "clean sentences:  16%|█▌        | 7064/43613 [00:12<01:18, 465.80it/s]"
     ]
    },
    {
     "name": "stderr",
     "output_type": "stream",
     "text": [
      "\r",
      "clean sentences:  16%|█▌        | 6920/43613 [00:12<01:36, 379.16it/s]"
     ]
    },
    {
     "name": "stderr",
     "output_type": "stream",
     "text": [
      "\r",
      "clean sentences:  16%|█▌        | 6824/43613 [00:11<01:55, 317.35it/s]"
     ]
    },
    {
     "name": "stderr",
     "output_type": "stream",
     "text": [
      "\r",
      "clean sentences:  16%|█▌        | 6777/43613 [00:11<01:44, 351.85it/s]"
     ]
    },
    {
     "name": "stderr",
     "output_type": "stream",
     "text": [
      "\r",
      "clean sentences:  15%|█▌        | 6728/43613 [00:11<01:46, 345.20it/s]"
     ]
    },
    {
     "name": "stderr",
     "output_type": "stream",
     "text": [
      "\r",
      "clean sentences:  15%|█▌        | 6632/43613 [00:11<01:05, 565.72it/s]"
     ]
    },
    {
     "name": "stderr",
     "output_type": "stream",
     "text": [
      "\r",
      "clean sentences:  15%|█▌        | 6562/43613 [00:10<01:02, 593.53it/s]"
     ]
    },
    {
     "name": "stderr",
     "output_type": "stream",
     "text": [
      "\r",
      "clean sentences:  15%|█▍        | 6496/43613 [00:10<01:04, 577.49it/s]"
     ]
    },
    {
     "name": "stderr",
     "output_type": "stream",
     "text": [
      "\r",
      "clean sentences:  15%|█▍        | 6421/43613 [00:10<00:57, 641.99it/s]"
     ]
    },
    {
     "name": "stderr",
     "output_type": "stream",
     "text": [
      "\r",
      "clean sentences:  15%|█▍        | 6344/43613 [00:10<00:59, 621.42it/s]"
     ]
    },
    {
     "name": "stderr",
     "output_type": "stream",
     "text": [
      "\r",
      "clean sentences:  14%|█▍        | 6200/43613 [00:10<01:13, 506.54it/s]"
     ]
    },
    {
     "name": "stderr",
     "output_type": "stream",
     "text": [
      "\r",
      "clean sentences:  14%|█▍        | 6115/43613 [00:10<01:11, 521.85it/s]"
     ]
    },
    {
     "name": "stderr",
     "output_type": "stream",
     "text": [
      "\r",
      "clean sentences:  14%|█▍        | 6056/43613 [00:10<01:07, 558.59it/s]"
     ]
    },
    {
     "name": "stderr",
     "output_type": "stream",
     "text": [
      "\r",
      "clean sentences:  14%|█▎        | 5975/43613 [00:10<01:08, 550.20it/s]"
     ]
    },
    {
     "name": "stderr",
     "output_type": "stream",
     "text": [
      "\r",
      "clean sentences:  14%|█▎        | 5912/43613 [00:09<01:05, 579.19it/s]"
     ]
    },
    {
     "name": "stderr",
     "output_type": "stream",
     "text": [
      "\r",
      "clean sentences:  13%|█▎        | 5827/43613 [00:09<01:13, 515.04it/s]"
     ]
    },
    {
     "name": "stderr",
     "output_type": "stream",
     "text": [
      "\r",
      "clean sentences:  13%|█▎        | 5768/43613 [00:09<01:08, 553.56it/s]"
     ]
    },
    {
     "name": "stderr",
     "output_type": "stream",
     "text": [
      "\r",
      "clean sentences:  13%|█▎        | 5672/43613 [00:09<01:07, 561.22it/s]"
     ]
    },
    {
     "name": "stderr",
     "output_type": "stream",
     "text": [
      "\r",
      "clean sentences:  13%|█▎        | 5601/43613 [00:09<01:00, 628.93it/s]"
     ]
    },
    {
     "name": "stderr",
     "output_type": "stream",
     "text": [
      "\r",
      "clean sentences:  13%|█▎        | 5528/43613 [00:09<00:56, 673.81it/s]"
     ]
    },
    {
     "name": "stderr",
     "output_type": "stream",
     "text": [
      "\r",
      "clean sentences:  12%|█▏        | 5411/43613 [00:09<00:59, 645.49it/s]"
     ]
    },
    {
     "name": "stderr",
     "output_type": "stream",
     "text": [
      "\r",
      "clean sentences:  12%|█▏        | 5336/43613 [00:08<00:59, 640.34it/s]"
     ]
    },
    {
     "name": "stderr",
     "output_type": "stream",
     "text": [
      "\r",
      "clean sentences:  12%|█▏        | 5196/43613 [00:08<00:59, 644.71it/s]"
     ]
    },
    {
     "name": "stderr",
     "output_type": "stream",
     "text": [
      "\r",
      "clean sentences:  12%|█▏        | 5096/43613 [00:08<01:08, 559.52it/s]"
     ]
    },
    {
     "name": "stderr",
     "output_type": "stream",
     "text": [
      "\r",
      "clean sentences:  11%|█▏        | 4962/43613 [00:08<01:05, 591.05it/s]"
     ]
    },
    {
     "name": "stderr",
     "output_type": "stream",
     "text": [
      "\r",
      "clean sentences:  11%|█         | 4865/43613 [00:08<00:46, 838.37it/s]"
     ]
    },
    {
     "name": "stderr",
     "output_type": "stream",
     "text": [
      "\r",
      "clean sentences:  11%|█         | 4760/43613 [00:07<00:45, 859.46it/s]"
     ]
    },
    {
     "name": "stderr",
     "output_type": "stream",
     "text": [
      "\r",
      "clean sentences:  11%|█         | 4616/43613 [00:07<00:51, 758.20it/s]"
     ]
    },
    {
     "name": "stderr",
     "output_type": "stream",
     "text": [
      "\r",
      "clean sentences:  10%|█         | 4424/43613 [00:07<01:02, 623.12it/s]"
     ]
    },
    {
     "name": "stderr",
     "output_type": "stream",
     "text": [
      "\r",
      "clean sentences:  10%|▉         | 4312/43613 [00:07<01:04, 610.43it/s]"
     ]
    },
    {
     "name": "stderr",
     "output_type": "stream",
     "text": [
      "\r",
      "clean sentences:  10%|▉         | 4232/43613 [00:07<01:01, 642.40it/s]"
     ]
    },
    {
     "name": "stderr",
     "output_type": "stream",
     "text": [
      "\r",
      "clean sentences:   9%|▉         | 4088/43613 [00:07<01:14, 531.50it/s]"
     ]
    },
    {
     "name": "stderr",
     "output_type": "stream",
     "text": [
      "\r",
      "clean sentences:   9%|▉         | 3992/43613 [00:07<01:21, 487.28it/s]"
     ]
    },
    {
     "name": "stderr",
     "output_type": "stream",
     "text": [
      "\r",
      "clean sentences:   9%|▉         | 3896/43613 [00:06<01:35, 418.04it/s]"
     ]
    },
    {
     "name": "stderr",
     "output_type": "stream",
     "text": [
      "\r",
      "clean sentences:   9%|▉         | 3818/43613 [00:06<01:28, 451.45it/s]"
     ]
    },
    {
     "name": "stderr",
     "output_type": "stream",
     "text": [
      "\r",
      "clean sentences:   9%|▊         | 3763/43613 [00:06<01:27, 456.24it/s]"
     ]
    },
    {
     "name": "stderr",
     "output_type": "stream",
     "text": [
      "\r",
      "clean sentences:   8%|▊         | 3704/43613 [00:06<01:28, 451.41it/s]"
     ]
    },
    {
     "name": "stderr",
     "output_type": "stream",
     "text": [
      "\r",
      "clean sentences:   8%|▊         | 3635/43613 [00:06<01:32, 431.62it/s]"
     ]
    },
    {
     "name": "stderr",
     "output_type": "stream",
     "text": [
      "\r",
      "clean sentences:   8%|▊         | 3560/43613 [00:06<01:16, 523.34it/s]"
     ]
    },
    {
     "name": "stderr",
     "output_type": "stream",
     "text": [
      "\r",
      "clean sentences:   8%|▊         | 3416/43613 [00:05<01:30, 442.08it/s]"
     ]
    },
    {
     "name": "stderr",
     "output_type": "stream",
     "text": [
      "\r",
      "clean sentences:   7%|▋         | 3233/43613 [00:05<01:20, 498.83it/s]"
     ]
    },
    {
     "name": "stderr",
     "output_type": "stream",
     "text": [
      "\r",
      "clean sentences:   7%|▋         | 3146/43613 [00:05<01:30, 445.80it/s]"
     ]
    },
    {
     "name": "stderr",
     "output_type": "stream",
     "text": [
      "\r",
      "clean sentences:   7%|▋         | 3035/43613 [00:04<01:09, 582.02it/s] "
     ]
    },
    {
     "name": "stderr",
     "output_type": "stream",
     "text": [
      "\r",
      "clean sentences:   7%|▋         | 2888/43613 [00:04<00:34, 1181.23it/s]"
     ]
    },
    {
     "name": "stderr",
     "output_type": "stream",
     "text": [
      "\r",
      "clean sentences:   6%|▌         | 2648/43613 [00:04<00:41, 984.14it/s]"
     ]
    },
    {
     "name": "stderr",
     "output_type": "stream",
     "text": [
      "\r",
      "clean sentences:   6%|▌         | 2480/43613 [00:04<00:49, 836.71it/s]"
     ]
    },
    {
     "name": "stderr",
     "output_type": "stream",
     "text": [
      "\r",
      "clean sentences:   5%|▌         | 2341/43613 [00:04<00:57, 718.10it/s]"
     ]
    },
    {
     "name": "stderr",
     "output_type": "stream",
     "text": [
      "\r",
      "clean sentences:   5%|▌         | 2264/43613 [00:03<00:55, 747.38it/s]"
     ]
    },
    {
     "name": "stderr",
     "output_type": "stream",
     "text": [
      "\r",
      "clean sentences:   5%|▍         | 2168/43613 [00:03<00:58, 706.38it/s]"
     ]
    },
    {
     "name": "stderr",
     "output_type": "stream",
     "text": [
      "\r",
      "clean sentences:   5%|▍         | 2072/43613 [00:03<01:02, 661.60it/s]"
     ]
    },
    {
     "name": "stderr",
     "output_type": "stream",
     "text": [
      "\r",
      "clean sentences:   5%|▍         | 1976/43613 [00:03<01:05, 633.24it/s]"
     ]
    },
    {
     "name": "stderr",
     "output_type": "stream",
     "text": [
      "\r",
      "clean sentences:   4%|▍         | 1904/43613 [00:03<01:07, 616.60it/s]"
     ]
    },
    {
     "name": "stderr",
     "output_type": "stream",
     "text": [
      "\r",
      "clean sentences:   4%|▍         | 1826/43613 [00:03<01:09, 597.95it/s]"
     ]
    },
    {
     "name": "stderr",
     "output_type": "stream",
     "text": [
      "\r",
      "clean sentences:   4%|▍         | 1760/43613 [00:03<01:10, 589.60it/s]"
     ]
    },
    {
     "name": "stderr",
     "output_type": "stream",
     "text": [
      "\r",
      "clean sentences:   4%|▍         | 1648/43613 [00:03<01:21, 515.61it/s]"
     ]
    },
    {
     "name": "stderr",
     "output_type": "stream",
     "text": [
      "\r",
      "clean sentences:   4%|▎         | 1592/43613 [00:03<01:23, 500.83it/s]"
     ]
    },
    {
     "name": "stderr",
     "output_type": "stream",
     "text": [
      "\r",
      "clean sentences:   3%|▎         | 1525/43613 [00:02<01:19, 531.38it/s]"
     ]
    },
    {
     "name": "stderr",
     "output_type": "stream",
     "text": [
      "\r",
      "clean sentences:   3%|▎         | 1455/43613 [00:02<01:06, 630.97it/s]"
     ]
    },
    {
     "name": "stderr",
     "output_type": "stream",
     "text": [
      "\r",
      "clean sentences:   3%|▎         | 1383/43613 [00:02<01:08, 614.87it/s]"
     ]
    },
    {
     "name": "stderr",
     "output_type": "stream",
     "text": [
      "\r",
      "clean sentences:   3%|▎         | 1304/43613 [00:02<01:04, 657.56it/s]"
     ]
    },
    {
     "name": "stderr",
     "output_type": "stream",
     "text": [
      "\r",
      "clean sentences:   3%|▎         | 1184/43613 [00:02<01:16, 552.95it/s]"
     ]
    },
    {
     "name": "stderr",
     "output_type": "stream",
     "text": [
      "\r",
      "clean sentences:   3%|▎         | 1112/43613 [00:02<01:20, 529.40it/s]"
     ]
    },
    {
     "name": "stderr",
     "output_type": "stream",
     "text": [
      "\r",
      "clean sentences:   2%|▏         | 1040/43613 [00:02<01:27, 488.77it/s]"
     ]
    },
    {
     "name": "stderr",
     "output_type": "stream",
     "text": [
      "\r",
      "clean sentences:   2%|▏         | 872/43613 [00:01<01:47, 397.35it/s]"
     ]
    },
    {
     "name": "stderr",
     "output_type": "stream",
     "text": [
      "\r",
      "clean sentences:   2%|▏         | 800/43613 [00:01<01:38, 436.84it/s]"
     ]
    },
    {
     "name": "stderr",
     "output_type": "stream",
     "text": [
      "\r",
      "clean sentences:   2%|▏         | 752/43613 [00:01<01:33, 457.89it/s]"
     ]
    },
    {
     "name": "stderr",
     "output_type": "stream",
     "text": [
      "\r",
      "clean sentences:   2%|▏         | 680/43613 [00:01<01:42, 418.02it/s]"
     ]
    },
    {
     "name": "stderr",
     "output_type": "stream",
     "text": [
      "\r",
      "clean sentences:   1%|▏         | 608/43613 [00:01<01:42, 420.57it/s]"
     ]
    },
    {
     "name": "stderr",
     "output_type": "stream",
     "text": [
      "\r",
      "clean sentences:   1%|▏         | 560/43613 [00:01<01:38, 438.83it/s]"
     ]
    },
    {
     "name": "stderr",
     "output_type": "stream",
     "text": [
      "\r",
      "clean sentences:   1%|          | 512/43613 [00:01<01:35, 449.41it/s]"
     ]
    },
    {
     "name": "stderr",
     "output_type": "stream",
     "text": [
      "\r",
      "clean sentences:   1%|          | 462/43613 [00:00<01:35, 449.57it/s]"
     ]
    },
    {
     "name": "stderr",
     "output_type": "stream",
     "text": [
      "\r",
      "clean sentences:   1%|          | 416/43613 [00:00<01:34, 458.88it/s]"
     ]
    },
    {
     "name": "stderr",
     "output_type": "stream",
     "text": [
      "\r",
      "clean sentences:   1%|          | 344/43613 [00:00<01:44, 414.66it/s]"
     ]
    },
    {
     "name": "stderr",
     "output_type": "stream",
     "text": [
      "\r",
      "clean sentences:   1%|          | 296/43613 [00:00<01:43, 419.85it/s]"
     ]
    },
    {
     "name": "stderr",
     "output_type": "stream",
     "text": [
      "\r",
      "clean sentences:   1%|          | 248/43613 [00:00<01:45, 409.35it/s]"
     ]
    },
    {
     "name": "stderr",
     "output_type": "stream",
     "text": [
      "\r",
      "clean sentences:   0%|          | 200/43613 [00:00<01:37, 443.70it/s] "
     ]
    },
    {
     "name": "stderr",
     "output_type": "stream",
     "text": [
      "\r",
      "clean sentences:   0%|          | 152/43613 [00:00<00:29, 1474.35it/s]"
     ]
    },
    {
     "name": "stderr",
     "output_type": "stream",
     "text": [
      "\r",
      "clean sentences:   0%|          | 0/43613 [00:00<?, ?it/s]"
     ]
    }
   ],
   "source": [
    "training_info['body'] = stemmering_sentences_messages(training_info['body'])"
   ]
  },
  {
   "cell_type": "code",
   "execution_count": 8,
   "metadata": {
    "autoscroll": "json-false",
    "collapsed": false,
    "ein.tags": [
     "worksheet-0"
    ],
    "slideshow": {
     "slide_type": "-"
    }
   },
   "outputs": [
    {
     "name": "stderr",
     "output_type": "stream",
     "text": [
      "\n"
     ]
    },
    {
     "name": "stderr",
     "output_type": "stream",
     "text": [
      "\r",
      "clean sentences: 100%|██████████| 2362/2362 [00:04<00:00, 564.75it/s]"
     ]
    },
    {
     "name": "stderr",
     "output_type": "stream",
     "text": [
      "\r",
      "clean sentences:  99%|█████████▊| 2328/2362 [00:04<00:00, 363.38it/s]"
     ]
    },
    {
     "name": "stderr",
     "output_type": "stream",
     "text": [
      "\r",
      "clean sentences:  95%|█████████▌| 2248/2362 [00:03<00:00, 389.51it/s]"
     ]
    },
    {
     "name": "stderr",
     "output_type": "stream",
     "text": [
      "\r",
      "clean sentences:  88%|████████▊ | 2088/2362 [00:03<00:00, 319.57it/s]"
     ]
    },
    {
     "name": "stderr",
     "output_type": "stream",
     "text": [
      "\r",
      "clean sentences:  82%|████████▏ | 1928/2362 [00:03<00:01, 260.36it/s]"
     ]
    },
    {
     "name": "stderr",
     "output_type": "stream",
     "text": [
      "\r",
      "clean sentences:  78%|███████▊  | 1848/2362 [00:03<00:02, 203.66it/s]"
     ]
    },
    {
     "name": "stderr",
     "output_type": "stream",
     "text": [
      "\r",
      "clean sentences:  71%|███████▏  | 1688/2362 [00:03<00:04, 149.08it/s]"
     ]
    },
    {
     "name": "stderr",
     "output_type": "stream",
     "text": [
      "\r",
      "clean sentences:  68%|██████▊   | 1608/2362 [00:02<00:03, 200.54it/s]"
     ]
    },
    {
     "name": "stderr",
     "output_type": "stream",
     "text": [
      "\r",
      "clean sentences:  61%|██████▏   | 1448/2362 [00:02<00:06, 146.71it/s]"
     ]
    },
    {
     "name": "stderr",
     "output_type": "stream",
     "text": [
      "\r",
      "clean sentences:  58%|█████▊    | 1368/2362 [00:02<00:08, 117.48it/s]"
     ]
    },
    {
     "name": "stderr",
     "output_type": "stream",
     "text": [
      "\r",
      "clean sentences:  55%|█████▍    | 1288/2362 [00:01<00:12, 87.78it/s]"
     ]
    },
    {
     "name": "stderr",
     "output_type": "stream",
     "text": [
      "\r",
      "clean sentences:  51%|█████     | 1208/2362 [00:01<00:16, 71.13it/s]"
     ]
    },
    {
     "name": "stderr",
     "output_type": "stream",
     "text": [
      "\r",
      "clean sentences:  48%|████▊     | 1128/2362 [00:01<00:22, 53.92it/s]"
     ]
    },
    {
     "name": "stderr",
     "output_type": "stream",
     "text": [
      "\r",
      "clean sentences:  44%|████▍     | 1048/2362 [00:01<00:33, 38.80it/s]"
     ]
    },
    {
     "name": "stderr",
     "output_type": "stream",
     "text": [
      "\r",
      "clean sentences:  41%|████      | 968/2362 [00:00<00:50, 27.76it/s]"
     ]
    },
    {
     "name": "stderr",
     "output_type": "stream",
     "text": [
      "\r",
      "clean sentences:  38%|███▊      | 890/2362 [00:00<01:14, 19.81it/s]"
     ]
    },
    {
     "name": "stderr",
     "output_type": "stream",
     "text": [
      "\r",
      "clean sentences:  34%|███▍      | 808/2362 [00:00<01:50, 14.05it/s]"
     ]
    },
    {
     "name": "stderr",
     "output_type": "stream",
     "text": [
      "\r",
      "clean sentences:  27%|██▋       | 648/2362 [00:00<02:53,  9.87it/s]"
     ]
    },
    {
     "name": "stderr",
     "output_type": "stream",
     "text": [
      "\r",
      "clean sentences:   0%|          | 1/2362 [00:00<05:41,  6.92it/s]"
     ]
    },
    {
     "name": "stderr",
     "output_type": "stream",
     "text": [
      "\r",
      "clean sentences:   0%|          | 0/2362 [00:00<?, ?it/s]"
     ]
    }
   ],
   "source": [
    "test_info['body'] = stemmering_sentences_messages(test_info['body'])"
   ]
  },
  {
   "cell_type": "code",
   "execution_count": 9,
   "metadata": {
    "autoscroll": "json-false",
    "collapsed": false,
    "ein.tags": [
     "worksheet-0"
    ],
    "slideshow": {
     "slide_type": "-"
    }
   },
   "outputs": [],
   "source": [
    "X = training_info['body'].tolist() + test_info['body'].tolist()"
   ]
  },
  {
   "cell_type": "code",
   "execution_count": 10,
   "metadata": {
    "autoscroll": "json-false",
    "collapsed": false,
    "ein.tags": [
     "worksheet-0"
    ],
    "slideshow": {
     "slide_type": "-"
    }
   },
   "outputs": [],
   "source": [
    "import multiprocessing\n",
    "from gensim.models.word2vec import Word2Vec\n",
    "# 4 in pc\n",
    "cpu_count = multiprocessing.cpu_count()\n",
    "# the dimensionality of the feature vectors.\n",
    "vocab_dim = 50\n",
    "# ignore all words with total frequency lower than this. \n",
    "n_exposures = 5"
   ]
  },
  {
   "cell_type": "code",
   "execution_count": 11,
   "metadata": {
    "autoscroll": "json-false",
    "collapsed": false,
    "ein.tags": [
     "worksheet-0"
    ],
    "slideshow": {
     "slide_type": "-"
    }
   },
   "outputs": [
    {
     "name": "stdout",
     "output_type": "stream",
     "text": [
      "Training a Word2vec model is done!\n"
     ]
    },
    {
     "name": "stdout",
     "output_type": "stream",
     "text": [
      "Training a Word2vec model...\n"
     ]
    }
   ],
   "source": [
    "print('Training a Word2vec model...')\n",
    "model = Word2Vec(size=vocab_dim,\n",
    "                 min_count=n_exposures,\n",
    "                 workers=cpu_count)\n",
    "model.build_vocab(X)\n",
    "model.train(X)\n",
    "# # replace our empty word vectors with GNews ones, to fill\n",
    "# path_to_wv = '/Users/zacharie/Documents/AICCours/MVA/textGraphData/'\n",
    "# # we load only the Google word vectors corresponding to our vocabulary\n",
    "# model.intersect_word2vec_format(path_to_wv + 'GoogleNews-vectors-negative300.bin.gz', binary=True)\n",
    "print('Training a Word2vec model is done!')"
   ]
  },
  {
   "cell_type": "code",
   "execution_count": 61,
   "metadata": {
    "autoscroll": "json-false",
    "collapsed": false,
    "ein.tags": [
     "worksheet-0"
    ],
    "slideshow": {
     "slide_type": "-"
    }
   },
   "outputs": [],
   "source": []
  },
  {
   "cell_type": "code",
   "execution_count": 12,
   "metadata": {
    "autoscroll": "json-false",
    "collapsed": false,
    "ein.tags": [
     "worksheet-0"
    ],
    "slideshow": {
     "slide_type": "slide"
    }
   },
   "outputs": [],
   "source": [
    "from sklearn.decomposition import PCA\n",
    "# to preserve mapping, create (1) an array with the vectors of the words in vocab, (2) a list containg the actual words\n",
    "model_array = np.empty(shape=model.syn0.shape)\n",
    "mapping = []\n",
    "for i, elt in enumerate(model.vocab.items()):\n",
    "    word = elt[0]\n",
    "    mapping.append(word)\n",
    "    model_array[i,] = model[word]\n",
    "my_pca = PCA(n_components=20)\n",
    "wv_2d_values = my_pca.fit_transform(model_array)\n",
    "# finally, create dictionary with the words in vocab as keys and the 2-dimensional projections as values\n",
    "wv_2d = {}\n",
    "for i, word in enumerate(mapping):\n",
    "    wv_2d[word] =  wv_2d_values[i,]"
   ]
  },
  {
   "cell_type": "code",
   "execution_count": 13,
   "metadata": {
    "autoscroll": "json-false",
    "collapsed": false,
    "ein.tags": [
     "worksheet-0"
    ],
    "slideshow": {
     "slide_type": "-"
    }
   },
   "outputs": [
    {
     "name": "stdout",
     "output_type": "stream",
     "text": [
      "For the moment, we have already done 120  lines.\n"
     ]
    },
    {
     "name": "stdout",
     "output_type": "stream",
     "text": [
      "For the moment, we have already done 100  lines.\n"
     ]
    },
    {
     "name": "stdout",
     "output_type": "stream",
     "text": [
      "For the moment, we have already done 80  lines.\n"
     ]
    },
    {
     "name": "stdout",
     "output_type": "stream",
     "text": [
      "For the moment, we have already done 60  lines.\n"
     ]
    },
    {
     "name": "stdout",
     "output_type": "stream",
     "text": [
      "For the moment, we have already done 40  lines.\n"
     ]
    },
    {
     "name": "stdout",
     "output_type": "stream",
     "text": [
      "For the moment, we have already done 20  lines.\n"
     ]
    },
    {
     "name": "stdout",
     "output_type": "stream",
     "text": [
      "For the moment, we have already done 0  lines.\n"
     ]
    }
   ],
   "source": [
    "################################\n",
    "# create some handy structures #\n",
    "################################\n",
    "# convert training set to dictionary\n",
    "emails_ids_per_sender = {}\n",
    "for index, series in training.iterrows():\n",
    "    row = series.tolist()\n",
    "    sender = row[0]\n",
    "    ids = row[1:][0].split(' ')\n",
    "    emails_ids_per_sender[sender] = ids\n",
    "# save all unique sender names\n",
    "all_senders = emails_ids_per_sender.keys()\n",
    "# create address book with frequency information for each user\n",
    "address_books_messages = {}\n",
    "i = 0\n",
    "for sender, ids in emails_ids_per_sender.iteritems():\n",
    "    rec2mids = {}\n",
    "    for my_id in ids:\n",
    "        recipients = training_info[training_info['mid']==int(my_id)]['recipients'].tolist()\n",
    "        recipients = recipients[0].split(' ')\n",
    "        # keep only legitimate email addresses\n",
    "        recipients = [rec for rec in recipients if '@' in rec]\n",
    "        for rec in recipients:\n",
    "            if rec in rec2mids:\n",
    "                rec2mids[rec].append(my_id)\n",
    "            else:\n",
    "                rec2mids[rec] = [my_id]\n",
    "    address_books_messages[sender] = rec2mids\n",
    "    if i % 20 == 0:\n",
    "        print \"For the moment, we have already done\", i, \" lines.\"\n",
    "    i += 1"
   ]
  },
  {
   "cell_type": "code",
   "execution_count": 14,
   "metadata": {
    "autoscroll": "json-false",
    "collapsed": false,
    "ein.tags": [
     "worksheet-0"
    ],
    "slideshow": {
     "slide_type": "subslide"
    }
   },
   "outputs": [],
   "source": [
    "# print address_books.values()[0]\n",
    "# save all unique recipient names\n",
    "all_recs = list(set([elt for subdict in address_books_messages.values() for elt in subdict.keys()]))\n",
    "# save all unique user names\n",
    "all_users = []\n",
    "all_users.extend(all_senders)\n",
    "all_users.extend(all_recs)\n",
    "all_users = list(set(all_users))"
   ]
  },
  {
   "cell_type": "code",
   "execution_count": 15,
   "metadata": {
    "autoscroll": "json-false",
    "collapsed": false,
    "ein.tags": [
     "worksheet-0"
    ],
    "slideshow": {
     "slide_type": "-"
    }
   },
   "outputs": [
    {
     "name": "stdout",
     "output_type": "stream",
     "text": [
      "sender alex@pira.com has only 1 recipients.\n",
      "sender wsmith@wordsmith.org has only 1 recipients.\n",
      "sender schwabalerts.marketupdates@schwab.com has only 1 recipients.\n"
     ]
    }
   ],
   "source": [
    "for sender, subdict in address_books_messages.iteritems():\n",
    "    if len(subdict) < 10:\n",
    "        print \"sender\", sender, \"has only\", len(subdict), \"recipients.\""
   ]
  },
  {
   "cell_type": "code",
   "execution_count": 16,
   "metadata": {
    "autoscroll": "json-false",
    "collapsed": false,
    "ein.tags": [
     "worksheet-0"
    ],
    "slideshow": {
     "slide_type": "-"
    }
   },
   "outputs": [
    {
     "name": "stdout",
     "output_type": "stream",
     "text": [
      "the number of all users: 9783\n",
      "the number of all unique recipients: 9779\n",
      "the size of dictionary: 45194\n"
     ]
    }
   ],
   "source": [
    "print \"the number of all users:\", len(all_users)\n",
    "print \"the number of all unique recipients:\", len(all_recs)\n",
    "print \"the size of dictionary:\",len(model.vocab)"
   ]
  },
  {
   "cell_type": "code",
   "execution_count": 17,
   "metadata": {
    "autoscroll": "json-false",
    "collapsed": false,
    "ein.tags": [
     "worksheet-0"
    ],
    "slideshow": {
     "slide_type": "-"
    }
   },
   "outputs": [],
   "source": [
    "# random.sample(all_users, 9)\n",
    "# rec_occ = address_books_messages['jason.williams@enron.com']\n",
    "# rec_occ_occ = {}\n",
    "# for k, v in rec_occ.iteritems():\n",
    "#     rec_occ_occ[k] = len(v)\n",
    "# sorted_rec_occ = sorted(rec_occ_occ.items(), key=operator.itemgetter(1), reverse = True)\n",
    "# print sorted_rec_occ"
   ]
  },
  {
   "cell_type": "code",
   "execution_count": 18,
   "metadata": {
    "autoscroll": "json-false",
    "collapsed": false,
    "ein.tags": [
     "worksheet-0"
    ],
    "slideshow": {
     "slide_type": "-"
    }
   },
   "outputs": [],
   "source": [
    "k_constant = 10\n",
    "alpha = 1.0/2.0"
   ]
  },
  {
   "cell_type": "code",
   "execution_count": 19,
   "metadata": {
    "autoscroll": "json-false",
    "collapsed": false,
    "ein.tags": [
     "worksheet-0"
    ],
    "slideshow": {
     "slide_type": "-"
    }
   },
   "outputs": [],
   "source": [
    "def get_k_most(k_constant, sender, id_predict, alpha):\n",
    "    s_1 = test_info[test_info['mid'] == int(id_predict)]['body'].tolist()[0]\n",
    "    if len(s_1) == 0:\n",
    "        rec_occ = address_books_messages[sender]\n",
    "        rec_occ_tmp = {}\n",
    "        for k, v in rec_occ.iteritems():\n",
    "            rec_occ_tmp[k] = len(v)\n",
    "        sorted_rec_occ = sorted(rec_occ_tmp.items(), key=operator.itemgetter(1), reverse = True)\n",
    "        if len(sorted_rec_occ) < k_constant:\n",
    "            return [elt[0] for elt in sorted_rec_occ] + random.sample(all_users, k_constant-len(sorted_rec_occ))\n",
    "        else:\n",
    "            return [elt[0] for elt in sorted_rec_occ[:k_constant]]\n",
    "    else:\n",
    "        k_most = []\n",
    "        rec_list = []\n",
    "        simil_freq_list = []\n",
    "        for k_rec, v_mids_list in address_books_messages[sender].iteritems():\n",
    "            tmp = []\n",
    "            for mid in v_mids_list:\n",
    "                s_2 = training_info[training_info['mid'] == int(mid)]['body'].tolist()[0]\n",
    "                if len(s_2) == 0:\n",
    "                    tmp.append(-1)\n",
    "                    continue\n",
    "                else:\n",
    "                    tmp.append(model.wmdistance(s_1, s_2))\n",
    "            similarity = np.mean(tmp)\n",
    "            rec_list.append(k_rec)\n",
    "            simil_freq_list.append([similarity, len(v_mids_list)])\n",
    "        simil_freq_array = np.array(simil_freq_list)\n",
    "        rec_array = np.array(rec_list)\n",
    "        simil_freq_array[:,0] = (np.max(simil_freq_array[:,0]) - simil_freq_array[:,0]) / (np.max(simil_freq_array[:,0]) - np.min(simil_freq_array[:,0]))\n",
    "        simil_freq_array[:,-1] = (simil_freq_array[:,-1] - np.min(simil_freq_array[:,-1])) / (np.max(simil_freq_array[:,-1])-np.min(simil_freq_array[:,-1]))\n",
    "        socre = alpha * simil_freq_array[:,0] + (1-alpha)*simil_freq_array[:,-1]\n",
    "        if rec_array.shape[0] < k_constant:\n",
    "            return rec_array[np.argsort(socre)[::-1]].tolist() + random.sample(all_users, k_constant-rec_array.shape[0])\n",
    "        else:\n",
    "            return rec_array[np.argsort(socre)[::-1]][:k_constant].tolist()\n"
   ]
  },
  {
   "cell_type": "code",
   "execution_count": 20,
   "metadata": {
    "autoscroll": "json-false",
    "collapsed": false,
    "ein.tags": [
     "worksheet-0"
    ],
    "slideshow": {
     "slide_type": "-"
    }
   },
   "outputs": [],
   "source": [
    "def predict_each_test_line(row):\n",
    "    sender = row[0]\n",
    "    # get IDs of the emails for which recipient prediction is needed\n",
    "    ids_predict = row[1].split(' ')\n",
    "    ids_predict = [int(my_id) for my_id in ids_predict]\n",
    "    random_preds = []\n",
    "    freq_preds = []\n",
    "    # select k most frequent recipients for the user\n",
    "    # k_most = [elt[0] for elt in address_books[sender][:k]]\n",
    "    for id_predict in ids_predict:\n",
    "        # select k users at random\n",
    "        # random_preds.append(random.sample(all_users, k))\n",
    "        # for the frequency baseline, the predictions are always the same\n",
    "        k_most = get_k_most(k_constant, sender, id_predict, alpha)\n",
    "        freq_preds.append(k_most)\n",
    "    # predictions_per_sender[sender] = [ids_predict,random_preds,freq_preds]\n",
    "    return (sender, [ids_predict, freq_preds])"
   ]
  },
  {
   "cell_type": "code",
   "execution_count": 26,
   "metadata": {
    "autoscroll": "json-false",
    "collapsed": false,
    "ein.tags": [
     "worksheet-0"
    ],
    "slideshow": {
     "slide_type": "-"
    }
   },
   "outputs": [],
   "source": [
    "def speedup(X):\n",
    "    predictions_per_sender = Parallel(n_jobs=4, verbose=1, max_nbytes='1024M')(delayed(predict_each_test_line)(row) for row in tqdm.tqdm(X, desc=\"speed up test\"))\n",
    "    return predictions_per_sender"
   ]
  },
  {
   "cell_type": "code",
   "execution_count": 27,
   "metadata": {
    "autoscroll": "json-false",
    "collapsed": false,
    "ein.tags": [
     "worksheet-0"
    ],
    "slideshow": {
     "slide_type": "-"
    }
   },
   "outputs": [
    {
     "ename": "KeyboardInterrupt",
     "evalue": "",
     "output_type": "error",
     "traceback": [
      "\u001b[0;31m---------------------------------------------------------------------------\u001b[0m",
      "\u001b[0;31mKeyboardInterrupt\u001b[0m                         Traceback (most recent call last)",
      "\u001b[0;32m<ipython-input-27-3e6b236dc0a6>\u001b[0m in \u001b[0;36m<module>\u001b[0;34m()\u001b[0m\n\u001b[1;32m      1\u001b[0m \u001b[0;32mimport\u001b[0m \u001b[0mtime\u001b[0m\u001b[0;34m\u001b[0m\u001b[0m\n\u001b[1;32m      2\u001b[0m \u001b[0mstart\u001b[0m \u001b[0;34m=\u001b[0m \u001b[0mtime\u001b[0m\u001b[0;34m.\u001b[0m\u001b[0mctime\u001b[0m\u001b[0;34m(\u001b[0m\u001b[0;34m)\u001b[0m\u001b[0;34m\u001b[0m\u001b[0m\n\u001b[0;32m----> 3\u001b[0;31m \u001b[0mpredictions_per_sender\u001b[0m \u001b[0;34m=\u001b[0m \u001b[0mspeedup\u001b[0m\u001b[0;34m(\u001b[0m\u001b[0mtest\u001b[0m\u001b[0;34m.\u001b[0m\u001b[0mvalues\u001b[0m\u001b[0;34m[\u001b[0m\u001b[0;36m0\u001b[0m\u001b[0;34m:\u001b[0m\u001b[0;36m62\u001b[0m\u001b[0;34m]\u001b[0m\u001b[0;34m)\u001b[0m\u001b[0;34m\u001b[0m\u001b[0m\n\u001b[0m\u001b[1;32m      4\u001b[0m \u001b[0mend\u001b[0m \u001b[0;34m=\u001b[0m \u001b[0mtime\u001b[0m\u001b[0;34m.\u001b[0m\u001b[0mctime\u001b[0m\u001b[0;34m(\u001b[0m\u001b[0;34m)\u001b[0m\u001b[0;34m\u001b[0m\u001b[0m\n\u001b[1;32m      5\u001b[0m \u001b[0;32mprint\u001b[0m \u001b[0;34m\"Total time:\"\u001b[0m\u001b[0;34m,\u001b[0m \u001b[0mstart\u001b[0m \u001b[0;34m-\u001b[0m \u001b[0mend\u001b[0m\u001b[0;34m\u001b[0m\u001b[0m\n",
      "\u001b[0;32m<ipython-input-26-bbadd5baf360>\u001b[0m in \u001b[0;36mspeedup\u001b[0;34m(X)\u001b[0m\n\u001b[1;32m      1\u001b[0m \u001b[0;32mdef\u001b[0m \u001b[0mspeedup\u001b[0m\u001b[0;34m(\u001b[0m\u001b[0mX\u001b[0m\u001b[0;34m)\u001b[0m\u001b[0;34m:\u001b[0m\u001b[0;34m\u001b[0m\u001b[0m\n\u001b[0;32m----> 2\u001b[0;31m     \u001b[0mpredictions_per_sender\u001b[0m \u001b[0;34m=\u001b[0m \u001b[0mParallel\u001b[0m\u001b[0;34m(\u001b[0m\u001b[0mn_jobs\u001b[0m\u001b[0;34m=\u001b[0m\u001b[0;36m4\u001b[0m\u001b[0;34m,\u001b[0m \u001b[0mverbose\u001b[0m\u001b[0;34m=\u001b[0m\u001b[0;36m1\u001b[0m\u001b[0;34m,\u001b[0m \u001b[0mmax_nbytes\u001b[0m\u001b[0;34m=\u001b[0m\u001b[0;34m'1024M'\u001b[0m\u001b[0;34m)\u001b[0m\u001b[0;34m(\u001b[0m\u001b[0mdelayed\u001b[0m\u001b[0;34m(\u001b[0m\u001b[0mpredict_each_test_line\u001b[0m\u001b[0;34m)\u001b[0m\u001b[0;34m(\u001b[0m\u001b[0mrow\u001b[0m\u001b[0;34m)\u001b[0m \u001b[0;32mfor\u001b[0m \u001b[0mrow\u001b[0m \u001b[0;32min\u001b[0m \u001b[0mtqdm\u001b[0m\u001b[0;34m.\u001b[0m\u001b[0mtqdm\u001b[0m\u001b[0;34m(\u001b[0m\u001b[0mX\u001b[0m\u001b[0;34m,\u001b[0m \u001b[0mdesc\u001b[0m\u001b[0;34m=\u001b[0m\u001b[0;34m\"speed up test\"\u001b[0m\u001b[0;34m)\u001b[0m\u001b[0;34m)\u001b[0m\u001b[0;34m\u001b[0m\u001b[0m\n\u001b[0m\u001b[1;32m      3\u001b[0m     \u001b[0;32mreturn\u001b[0m \u001b[0mpredictions_per_sender\u001b[0m\u001b[0;34m\u001b[0m\u001b[0m\n",
      "\u001b[0;32m/usr/local/lib/python2.7/site-packages/joblib/parallel.pyc\u001b[0m in \u001b[0;36m__call__\u001b[0;34m(self, iterable)\u001b[0m\n\u001b[1;32m    766\u001b[0m                 \u001b[0;31m# consumption.\u001b[0m\u001b[0;34m\u001b[0m\u001b[0;34m\u001b[0m\u001b[0m\n\u001b[1;32m    767\u001b[0m                 \u001b[0mself\u001b[0m\u001b[0;34m.\u001b[0m\u001b[0m_iterating\u001b[0m \u001b[0;34m=\u001b[0m \u001b[0mFalse\u001b[0m\u001b[0;34m\u001b[0m\u001b[0m\n\u001b[0;32m--> 768\u001b[0;31m             \u001b[0mself\u001b[0m\u001b[0;34m.\u001b[0m\u001b[0mretrieve\u001b[0m\u001b[0;34m(\u001b[0m\u001b[0;34m)\u001b[0m\u001b[0;34m\u001b[0m\u001b[0m\n\u001b[0m\u001b[1;32m    769\u001b[0m             \u001b[0;31m# Make sure that we get a last message telling us we are done\u001b[0m\u001b[0;34m\u001b[0m\u001b[0;34m\u001b[0m\u001b[0m\n\u001b[1;32m    770\u001b[0m             \u001b[0melapsed_time\u001b[0m \u001b[0;34m=\u001b[0m \u001b[0mtime\u001b[0m\u001b[0;34m.\u001b[0m\u001b[0mtime\u001b[0m\u001b[0;34m(\u001b[0m\u001b[0;34m)\u001b[0m \u001b[0;34m-\u001b[0m \u001b[0mself\u001b[0m\u001b[0;34m.\u001b[0m\u001b[0m_start_time\u001b[0m\u001b[0;34m\u001b[0m\u001b[0m\n",
      "\u001b[0;32m/usr/local/lib/python2.7/site-packages/joblib/parallel.pyc\u001b[0m in \u001b[0;36mretrieve\u001b[0;34m(self)\u001b[0m\n\u001b[1;32m    717\u001b[0m                     \u001b[0mensure_ready\u001b[0m \u001b[0;34m=\u001b[0m \u001b[0mself\u001b[0m\u001b[0;34m.\u001b[0m\u001b[0m_managed_backend\u001b[0m\u001b[0;34m\u001b[0m\u001b[0m\n\u001b[1;32m    718\u001b[0m                     \u001b[0mbackend\u001b[0m\u001b[0;34m.\u001b[0m\u001b[0mabort_everything\u001b[0m\u001b[0;34m(\u001b[0m\u001b[0mensure_ready\u001b[0m\u001b[0;34m=\u001b[0m\u001b[0mensure_ready\u001b[0m\u001b[0;34m)\u001b[0m\u001b[0;34m\u001b[0m\u001b[0m\n\u001b[0;32m--> 719\u001b[0;31m                 \u001b[0;32mraise\u001b[0m \u001b[0mexception\u001b[0m\u001b[0;34m\u001b[0m\u001b[0m\n\u001b[0m\u001b[1;32m    720\u001b[0m \u001b[0;34m\u001b[0m\u001b[0m\n\u001b[1;32m    721\u001b[0m     \u001b[0;32mdef\u001b[0m \u001b[0m__call__\u001b[0m\u001b[0;34m(\u001b[0m\u001b[0mself\u001b[0m\u001b[0;34m,\u001b[0m \u001b[0miterable\u001b[0m\u001b[0;34m)\u001b[0m\u001b[0;34m:\u001b[0m\u001b[0;34m\u001b[0m\u001b[0m\n",
      "\u001b[0;31mKeyboardInterrupt\u001b[0m: "
     ]
    },
    {
     "name": "stderr",
     "output_type": "stream",
     "text": [
      "\u001b[A\u001b[A"
     ]
    },
    {
     "name": "stderr",
     "output_type": "stream",
     "text": [
      "\n",
      "\n",
      "\r",
      "speed up test:  32%|███▏      | 20/62 [6:26:35<36:16:42, 3109.58s/it]"
     ]
    },
    {
     "name": "stderr",
     "output_type": "stream",
     "text": [
      "\u001b[A\u001b[A"
     ]
    },
    {
     "name": "stderr",
     "output_type": "stream",
     "text": [
      "\n",
      "\n",
      "\r",
      "speed up test:  31%|███       | 19/62 [5:55:04<43:22:40, 3631.64s/it]"
     ]
    },
    {
     "name": "stderr",
     "output_type": "stream",
     "text": [
      "\u001b[A\u001b[A"
     ]
    },
    {
     "name": "stderr",
     "output_type": "stream",
     "text": [
      "\n",
      "\n",
      "\r",
      "speed up test:  29%|██▉       | 18/62 [3:07:05<10:36:51, 868.44s/it]"
     ]
    },
    {
     "name": "stderr",
     "output_type": "stream",
     "text": [
      "\u001b[A\u001b[A"
     ]
    },
    {
     "name": "stderr",
     "output_type": "stream",
     "text": [
      "\n",
      "\n",
      "\r",
      "speed up test:  27%|██▋       | 17/62 [2:45:48<8:40:06, 693.47s/it]"
     ]
    },
    {
     "name": "stderr",
     "output_type": "stream",
     "text": [
      "\u001b[A\u001b[A"
     ]
    },
    {
     "name": "stderr",
     "output_type": "stream",
     "text": [
      "\n",
      "\n",
      "\r",
      "speed up test:  26%|██▌       | 16/62 [2:35:44<9:21:12, 732.00s/it] "
     ]
    },
    {
     "name": "stderr",
     "output_type": "stream",
     "text": [
      "\u001b[A\u001b[A"
     ]
    },
    {
     "name": "stderr",
     "output_type": "stream",
     "text": [
      "\n",
      "\n",
      "\r",
      "speed up test:  24%|██▍       | 15/62 [2:29:04<11:24:47, 874.20s/it] "
     ]
    },
    {
     "name": "stderr",
     "output_type": "stream",
     "text": [
      "\u001b[A\u001b[A"
     ]
    },
    {
     "name": "stderr",
     "output_type": "stream",
     "text": [
      "\n",
      "\n",
      "\r",
      "speed up test:  23%|██▎       | 14/62 [2:26:14<15:40:36, 1175.75s/it]"
     ]
    },
    {
     "name": "stderr",
     "output_type": "stream",
     "text": [
      "\u001b[A\u001b[A"
     ]
    },
    {
     "name": "stderr",
     "output_type": "stream",
     "text": [
      "\n",
      "\n",
      "\r",
      "speed up test:  21%|██        | 13/62 [2:16:41<19:31:19, 1434.28s/it]"
     ]
    },
    {
     "name": "stderr",
     "output_type": "stream",
     "text": [
      "\u001b[A\u001b[A"
     ]
    },
    {
     "name": "stderr",
     "output_type": "stream",
     "text": [
      "\n",
      "\n",
      "\r",
      "speed up test:  19%|█▉        | 12/62 [2:16:37<28:26:01, 2047.23s/it]"
     ]
    },
    {
     "name": "stderr",
     "output_type": "stream",
     "text": [
      "\u001b[A\u001b[A"
     ]
    },
    {
     "name": "stderr",
     "output_type": "stream",
     "text": [
      "\n",
      "\n",
      "\r",
      "speed up test:  18%|█▊        | 11/62 [38:53<5:49:52, 411.61s/it]"
     ]
    },
    {
     "name": "stderr",
     "output_type": "stream",
     "text": [
      "\u001b[A\u001b[A"
     ]
    },
    {
     "name": "stderr",
     "output_type": "stream",
     "text": [
      "\n",
      "\n",
      "\r",
      "speed up test:  16%|█▌        | 10/62 [38:38<8:23:49, 581.33s/it]"
     ]
    },
    {
     "name": "stderr",
     "output_type": "stream",
     "text": [
      "\u001b[A\u001b[A"
     ]
    },
    {
     "name": "stderr",
     "output_type": "stream",
     "text": [
      "\n",
      "\n",
      "\r",
      "speed up test:  15%|█▍        | 9/62 [17:36<4:15:50, 289.63s/it]"
     ]
    },
    {
     "name": "stderr",
     "output_type": "stream",
     "text": [
      "\u001b[A\u001b[A"
     ]
    },
    {
     "name": "stderr",
     "output_type": "stream",
     "text": [
      "\n",
      "\n",
      "\r",
      "speed up test:  13%|█▎        | 8/62 [01:41<04:00,  4.45s/it]"
     ]
    },
    {
     "name": "stderr",
     "output_type": "stream",
     "text": [
      "\u001b[A\u001b[A"
     ]
    },
    {
     "name": "stderr",
     "output_type": "stream",
     "text": [
      "\n",
      "\n",
      "\r",
      "speed up test:   2%|▏         | 1/62 [00:00<00:10,  5.76it/s]"
     ]
    },
    {
     "name": "stderr",
     "output_type": "stream",
     "text": [
      "\u001b[A\u001b[A\n"
     ]
    },
    {
     "name": "stderr",
     "output_type": "stream",
     "text": [
      "\n",
      "\n",
      "\r",
      "speed up test:   0%|          | 0/62 [00:00<?, ?it/s]"
     ]
    }
   ],
   "source": [
    "import time\n",
    "start = time.ctime()\n",
    "predictions_per_sender = speedup(test.values[0:62])\n",
    "end = time.ctime()\n",
    "print \"Total time:\", start - end"
   ]
  },
  {
   "cell_type": "code",
   "execution_count": 28,
   "metadata": {
    "autoscroll": "json-false",
    "collapsed": false,
    "ein.tags": [
     "worksheet-0"
    ],
    "slideshow": {
     "slide_type": "-"
    }
   },
   "outputs": [
    {
     "ename": "NameError",
     "evalue": "name 'predictions_per_sender' is not defined",
     "output_type": "error",
     "traceback": [
      "\u001b[0;31m---------------------------------------------------------------------------\u001b[0m",
      "\u001b[0;31mNameError\u001b[0m                                 Traceback (most recent call last)",
      "\u001b[0;32m<ipython-input-28-3de80f220fc5>\u001b[0m in \u001b[0;36m<module>\u001b[0;34m()\u001b[0m\n\u001b[0;32m----> 1\u001b[0;31m \u001b[0mpredictions_per_sender\u001b[0m \u001b[0;34m=\u001b[0m \u001b[0mdict\u001b[0m\u001b[0;34m(\u001b[0m\u001b[0mpredictions_per_sender\u001b[0m\u001b[0;34m)\u001b[0m\u001b[0;34m\u001b[0m\u001b[0m\n\u001b[0m",
      "\u001b[0;31mNameError\u001b[0m: name 'predictions_per_sender' is not defined"
     ]
    }
   ],
   "source": [
    "predictions_per_sender = dict(predictions_per_sender)"
   ]
  },
  {
   "cell_type": "code",
   "execution_count": 0,
   "metadata": {
    "autoscroll": "json-false",
    "collapsed": false,
    "ein.tags": [
     "worksheet-0"
    ],
    "slideshow": {
     "slide_type": "slide"
    }
   },
   "outputs": [],
   "source": [
    "#################################################\n",
    "# write predictions in proper format for Kaggle #\n",
    "#################################################\n",
    "path_to_results = \"/Users/zacharie/Documents/AICCours/MVA/textGraphData/\"\n",
    "\n",
    "with open(path_to_results + 'predictions_frequency_1.txt', 'wb') as my_file:\n",
    "    my_file.write('mid,recipients' + '\\n')\n",
    "    for sender, preds in predictions_per_sender.iteritems():\n",
    "        ids = preds[0]\n",
    "        freq_preds = preds[1]\n",
    "        for index, my_preds in enumerate(freq_preds):\n",
    "            my_file.write(str(ids[index]) + ',' + ' '.join(my_preds) + '\\n')"
   ]
  },
  {
   "cell_type": "code",
   "execution_count": 0,
   "metadata": {
    "autoscroll": "json-false",
    "collapsed": false,
    "ein.tags": [
     "worksheet-0"
    ],
    "slideshow": {
     "slide_type": "-"
    }
   },
   "outputs": [],
   "source": [
    "def mean_average_precision(valid_2d, attempt_2d):\n",
    "    def aux(valid_list, attempt_list, at=10):\n",
    "        at = int(at)\n",
    "        total_correct_nb = len(valid_list)\n",
    "        mark_list = [1 if entry in valid_list else 0 for entry in attempt_list]\n",
    "        score = 0.0\n",
    "        for index, value in enumerate(mark_list):\n",
    "            score += mark[:index+1].count(1) / (index+1)\n",
    "        return score / min(total_correct_nb, at)\n",
    "    # make sure they have the same dimensions.\n",
    "    assert (len(valid_2d) == len(attempt_2d))\n",
    "    total_score = 0.0\n",
    "    for valid_list, attempt_list in zip(valide_2d, attempt_2d):\n",
    "        total_score += aux(valid_list, attempt_list)\n",
    "    return total_score / len(valid_2d)\n"
   ]
  },
  {
   "cell_type": "code",
   "execution_count": 68,
   "metadata": {
    "autoscroll": "json-false",
    "collapsed": false,
    "ein.tags": [
     "worksheet-0"
    ],
    "slideshow": {
     "slide_type": "-"
    }
   },
   "outputs": [],
   "source": [
    "def get_k_most(k, address_books_messages, sender, id_predict, alpha):\n",
    "    test_body = test_info[test_info['mid'] == int(id_predict)]['body'].tolist()[0]\n",
    "    k_most = []\n",
    "    count = 0\n",
    "    rec_list = []\n",
    "    simil_freq_list = []\n",
    "    # rec2similfreq = {}\n",
    "    for k_rec, v_mids_list in address_books_messages[sender].iteritems():\n",
    "        similarity = np.min([model.wmdistance(test_body, training_info[training_info['mid'] == int(mid)]['body'].tolist()[0]) for mid in v_mids_list])\n",
    "        # rec2similfreq[k_rec] = (similarity, len(v_mids_list))\n",
    "        rec_list.append(k_rec)\n",
    "        simil_freq_list.append([similarity, len(v_mids_list)])\n",
    "    simil_freq_list = np.array(simil_freq_list)\n",
    "    rec_list = np.array(rec_list)\n",
    "    simil_freq_list[:,0] = (np.max(simil_freq_list[:,0]) - simil_freq_list[:,0]) / (np.max(simil_freq_list[:,0]) - np.min(simil_freq_list[:,0]))\n",
    "    simil_freq_list[:,-1] = (simil_freq_list[:,-1] - np.min(simil_freq_list[:,-1])) / (np.max(simil_freq_list[:,-1])-np.min(simil_freq_list[:,-1]))\n",
    "    socre = alpha * simil_freq_list[:,0] + (1-alpha)*simil_freq_list[:,-1]\n",
    "    return simil_freq_list[np.argsort(socre)[::-1]][:k].tolist()\n"
   ]
  },
  {
   "cell_type": "code",
   "execution_count": 0,
   "metadata": {
    "autoscroll": "json-false",
    "collapsed": false,
    "ein.tags": [
     "worksheet-0"
    ],
    "slideshow": {
     "slide_type": "-"
    }
   },
   "outputs": [],
   "source": [
    "#############\n",
    "# baselines #\n",
    "#############\n",
    "# will contain email ids, predictions for random baseline, and predictions for frequency baseline\n",
    "predictions_per_sender = {}\n",
    "# number of recipients to predict\n",
    "k = 10\n",
    "for row in test.values:\n",
    "    sender = row[0]\n",
    "    # get IDs of the emails for which recipient prediction is needed\n",
    "    ids_predict = row[1].split(' ')\n",
    "    ids_predict = [int(my_id) for my_id in ids_predict]\n",
    "    random_preds = []\n",
    "    freq_preds = []\n",
    "    # select k most frequent recipients for the user\n",
    "    # k_most = [elt[0] for elt in address_books[sender][:k]]\n",
    "    for id_predict in ids_predict:\n",
    "        # select k users at random\n",
    "        random_preds.append(random.sample(all_users, k))\n",
    "        # for the frequency baseline, the predictions are always the same\n",
    "        k_most = get_k_most(k, address_books_messages, sender, id_predict, 1/2.0)\n",
    "        freq_preds.append(k_most)\n",
    "    predictions_per_sender[sender] = [ids_predict,random_preds,freq_preds]\n"
   ]
  }
 ],
 "metadata": {
  "kernelspec": {
   "display_name": "Python 2",
   "name": "python2"
  },
  "language_info": {
   "codemirror_mode": {
    "name": "ipython",
    "version": 2
   },
   "file_extension": ".py",
   "mimetype": "text/x-python",
   "name": "python",
   "nbconvert_exporter": "python",
   "pygments_lexer": "ipython2",
   "version": "2.7.12"
  },
  "name": "main_3.ipynb"
 },
 "nbformat": 4,
 "nbformat_minor": 1
}
