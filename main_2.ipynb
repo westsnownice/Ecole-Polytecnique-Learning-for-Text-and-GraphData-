{
 "cells": [
  {
   "cell_type": "code",
   "execution_count": 1,
   "metadata": {
    "autoscroll": "json-false",
    "collapsed": false,
    "ein.tags": [
     "worksheet-0"
    ],
    "slideshow": {
     "slide_type": "-"
    }
   },
   "outputs": [],
   "source": [
    "import random\n",
    "import operator\n",
    "import pandas as pd\n",
    "from collections import Counter\n",
    "import nltk\n",
    "from joblib import Parallel, delayed\n",
    "import tqdm\n",
    "import string\n",
    "import numpy as np\n",
    "from joblib import Parallel, delayed\n",
    "import re\n",
    "from sklearn.metrics.pairwise import cosine_similarity as cosine"
   ]
  },
  {
   "cell_type": "code",
   "execution_count": 2,
   "metadata": {
    "autoscroll": "json-false",
    "collapsed": false,
    "ein.tags": [
     "worksheet-0"
    ],
    "slideshow": {
     "slide_type": "-"
    }
   },
   "outputs": [],
   "source": [
    "path_to_data = \"/Users/zacharie/Documents/AICCours/MVA/textGraphData/\""
   ]
  },
  {
   "cell_type": "code",
   "execution_count": 3,
   "metadata": {
    "autoscroll": "json-false",
    "collapsed": false,
    "ein.tags": [
     "worksheet-0"
    ],
    "slideshow": {
     "slide_type": "-"
    }
   },
   "outputs": [],
   "source": [
    "training = pd.read_csv(path_to_data + 'training_set.csv', sep=',', header=0).values\n",
    "training_info = pd.read_csv(path_to_data + 'training_info.csv', sep=',', header=0, parse_dates = [1]).values\n",
    "test = pd.read_csv(path_to_data + 'test_set.csv', sep=',', header=0).values\n",
    "test_info = pd.read_csv(path_to_data + 'test_info.csv', sep=',', header=0, parse_dates = [1]).values"
   ]
  },
  {
   "cell_type": "code",
   "execution_count": 7,
   "metadata": {
    "autoscroll": "json-false",
    "collapsed": false,
    "ein.tags": [
     "worksheet-0"
    ],
    "slideshow": {
     "slide_type": "-"
    }
   },
   "outputs": [],
   "source": [
    "integrate_training = []\n",
    "for each_line in training:\n",
    "    sender = each_line[0]\n",
    "    ids = each_line[-1].split(' ')\n",
    "    for my_id in ids:\n",
    "        tmp = training_info[training_info[:,0]==int(my_id)]\n",
    "        integrate_training.append([sender,tmp[0,0],tmp[0,1],tmp[0,2], tmp[0,3]])"
   ]
  },
  {
   "cell_type": "code",
   "execution_count": 8,
   "metadata": {
    "autoscroll": "json-false",
    "collapsed": false,
    "ein.tags": [
     "worksheet-0"
    ],
    "slideshow": {
     "slide_type": "-"
    }
   },
   "outputs": [],
   "source": [
    "integrate_training = pd.DataFrame(integrate_training, columns=['sender','mid','date','body','recipients'])"
   ]
  },
  {
   "cell_type": "code",
   "execution_count": 9,
   "metadata": {
    "autoscroll": "json-false",
    "collapsed": false,
    "ein.tags": [
     "worksheet-0"
    ],
    "slideshow": {
     "slide_type": "-"
    }
   },
   "outputs": [
    {
     "name": "stdout",
     "output_type": "stream",
     "text": [
      "RangeIndex(start=0, stop=43613, step=1)\n"
     ]
    }
   ],
   "source": [
    "print integrate_training.index"
   ]
  },
  {
   "cell_type": "code",
   "execution_count": 10,
   "metadata": {
    "autoscroll": "json-false",
    "collapsed": false,
    "ein.tags": [
     "worksheet-0"
    ],
    "slideshow": {
     "slide_type": "-"
    }
   },
   "outputs": [],
   "source": [
    "integrate_test = []\n",
    "for each_line in test:\n",
    "    sender = each_line[0]\n",
    "    ids = each_line[-1].split(' ')\n",
    "    for my_id in ids:\n",
    "        tmp = test_info[test_info[:,0]==int(my_id)]\n",
    "        integrate_test.append([sender,tmp[0,0],tmp[0,1],tmp[0,2]])"
   ]
  },
  {
   "cell_type": "code",
   "execution_count": 11,
   "metadata": {
    "autoscroll": "json-false",
    "collapsed": false,
    "ein.tags": [
     "worksheet-0"
    ],
    "slideshow": {
     "slide_type": "-"
    }
   },
   "outputs": [],
   "source": [
    "integrate_test = pd.DataFrame(integrate_test, columns=['sender','mid','date','body'])"
   ]
  },
  {
   "cell_type": "code",
   "execution_count": 12,
   "metadata": {
    "autoscroll": "json-false",
    "collapsed": false,
    "ein.tags": [
     "worksheet-0"
    ],
    "slideshow": {
     "slide_type": "-"
    }
   },
   "outputs": [
    {
     "name": "stdout",
     "output_type": "stream",
     "text": [
      "RangeIndex(start=0, stop=2362, step=1)\n"
     ]
    }
   ],
   "source": [
    "print integrate_test.index"
   ]
  },
  {
   "cell_type": "code",
   "execution_count": 14,
   "metadata": {
    "autoscroll": "json-false",
    "collapsed": false,
    "ein.tags": [
     "worksheet-0"
    ],
    "slideshow": {
     "slide_type": "-"
    }
   },
   "outputs": [],
   "source": [
    "# remove dashes and apostrophes from punctuation marks\n",
    "punct = string.punctuation.replace('-', '').replace(\"'\",'')\n",
    "stpwds = nltk.corpus.stopwords.words('english')\n",
    "# regex to match intra-word dashes and intra-word apostrophes\n",
    "my_regex = re.compile(r\"(\\b[-']\\b)|[\\W_]\")\n",
    "stemmering = nltk.PorterStemmer()\n",
    "# performs basic pre-processing\n",
    "# note: we do not lowercase for consistency with Google News embeddings\n",
    "def clean_string(string, punct=punct, my_regex=my_regex):\n",
    "    # remove formatting\n",
    "    str = re.sub('\\s+', ' ', string)\n",
    "    # remove punctuation (preserving dashes)\n",
    "    str = ''.join(l for l in str if l not in punct)\n",
    "    # remove dashes that are not intra-word\n",
    "    str = my_regex.sub(lambda x: (x.group(1) if x.group(1) else ' '), str)\n",
    "    # strip extra white space\n",
    "    str = re.sub(' +',' ',str)\n",
    "    # strip leading and trailing white space\n",
    "    str = str.strip()\n",
    "    # tokenize (split based on whitespace)\n",
    "    tokens = str.split(' ')\n",
    "    # remove stopwords\n",
    "    tokens = [token for token in tokens if token not in stpwds]\n",
    "    # remove tokens less than 2 characters in size\n",
    "    # tokens = [token for token in tokens if len(token)>=2]\n",
    "    tokens = [stemmering.stem(token.lower()) for token in tokens if len(token)>=2]\n",
    "    return tokens\n",
    "\n",
    "def stemmering_sentences_messages(X):\n",
    "    sentences_stem = Parallel(n_jobs=4)(delayed(clean_string)(sentence) for sentence in tqdm.tqdm(X, desc=\"clean sentences\"))\n",
    "    return sentences_stem\n"
   ]
  },
  {
   "cell_type": "code",
   "execution_count": 15,
   "metadata": {
    "autoscroll": "json-false",
    "collapsed": false,
    "ein.tags": [
     "worksheet-0"
    ],
    "slideshow": {
     "slide_type": "-"
    }
   },
   "outputs": [
    {
     "name": "stderr",
     "output_type": "stream",
     "text": [
      "\n"
     ]
    },
    {
     "name": "stderr",
     "output_type": "stream",
     "text": [
      "\r",
      "clean sentences: 100%|██████████| 43613/43613 [01:33<00:00, 464.62it/s]"
     ]
    },
    {
     "name": "stderr",
     "output_type": "stream",
     "text": [
      "\r",
      "clean sentences: 100%|█████████▉| 43538/43613 [01:33<00:00, 648.03it/s]"
     ]
    },
    {
     "name": "stderr",
     "output_type": "stream",
     "text": [
      "\r",
      "clean sentences: 100%|█████████▉| 43436/43613 [01:33<00:00, 594.24it/s]"
     ]
    },
    {
     "name": "stderr",
     "output_type": "stream",
     "text": [
      "\r",
      "clean sentences:  99%|█████████▉| 43363/43613 [01:33<00:00, 551.81it/s]"
     ]
    },
    {
     "name": "stderr",
     "output_type": "stream",
     "text": [
      "\r",
      "clean sentences:  99%|█████████▉| 43272/43613 [01:33<00:00, 848.69it/s]"
     ]
    },
    {
     "name": "stderr",
     "output_type": "stream",
     "text": [
      "\r",
      "clean sentences:  99%|█████████▉| 43158/43613 [01:33<00:00, 793.47it/s]"
     ]
    },
    {
     "name": "stderr",
     "output_type": "stream",
     "text": [
      "\r",
      "clean sentences:  99%|█████████▊| 43006/43613 [01:33<00:00, 732.97it/s]"
     ]
    },
    {
     "name": "stderr",
     "output_type": "stream",
     "text": [
      "\r",
      "clean sentences:  98%|█████████▊| 42892/43613 [01:32<00:01, 648.78it/s]"
     ]
    },
    {
     "name": "stderr",
     "output_type": "stream",
     "text": [
      "\r",
      "clean sentences:  98%|█████████▊| 42778/43613 [01:32<00:01, 584.74it/s]"
     ]
    },
    {
     "name": "stderr",
     "output_type": "stream",
     "text": [
      "\r",
      "clean sentences:  98%|█████████▊| 42702/43613 [01:32<00:01, 568.15it/s]"
     ]
    },
    {
     "name": "stderr",
     "output_type": "stream",
     "text": [
      "\r",
      "clean sentences:  98%|█████████▊| 42626/43613 [01:32<00:01, 552.25it/s]"
     ]
    },
    {
     "name": "stderr",
     "output_type": "stream",
     "text": [
      "\r",
      "clean sentences:  98%|█████████▊| 42550/43613 [01:32<00:01, 579.61it/s]"
     ]
    },
    {
     "name": "stderr",
     "output_type": "stream",
     "text": [
      "\r",
      "clean sentences:  97%|█████████▋| 42474/43613 [01:32<00:01, 634.99it/s]"
     ]
    },
    {
     "name": "stderr",
     "output_type": "stream",
     "text": [
      "\r",
      "clean sentences:  97%|█████████▋| 42361/43613 [01:32<00:02, 588.13it/s]"
     ]
    },
    {
     "name": "stderr",
     "output_type": "stream",
     "text": [
      "\r",
      "clean sentences:  97%|█████████▋| 42284/43613 [01:31<00:02, 648.25it/s]"
     ]
    },
    {
     "name": "stderr",
     "output_type": "stream",
     "text": [
      "\r",
      "clean sentences:  97%|█████████▋| 42170/43613 [01:31<00:02, 572.33it/s]"
     ]
    },
    {
     "name": "stderr",
     "output_type": "stream",
     "text": [
      "\r",
      "clean sentences:  96%|█████████▋| 42056/43613 [01:31<00:02, 749.61it/s]"
     ]
    },
    {
     "name": "stderr",
     "output_type": "stream",
     "text": [
      "\r",
      "clean sentences:  96%|█████████▌| 41904/43613 [01:31<00:02, 754.60it/s]"
     ]
    },
    {
     "name": "stderr",
     "output_type": "stream",
     "text": [
      "\r",
      "clean sentences:  96%|█████████▌| 41790/43613 [01:31<00:02, 665.60it/s]"
     ]
    },
    {
     "name": "stderr",
     "output_type": "stream",
     "text": [
      "\r",
      "clean sentences:  96%|█████████▌| 41676/43613 [01:31<00:03, 566.80it/s]"
     ]
    },
    {
     "name": "stderr",
     "output_type": "stream",
     "text": [
      "\r",
      "clean sentences:  95%|█████████▌| 41600/43613 [01:30<00:03, 529.00it/s]"
     ]
    },
    {
     "name": "stderr",
     "output_type": "stream",
     "text": [
      "\r",
      "clean sentences:  95%|█████████▌| 41524/43613 [01:30<00:04, 491.08it/s]"
     ]
    },
    {
     "name": "stderr",
     "output_type": "stream",
     "text": [
      "\r",
      "clean sentences:  95%|█████████▍| 41410/43613 [01:30<00:04, 483.99it/s]"
     ]
    },
    {
     "name": "stderr",
     "output_type": "stream",
     "text": [
      "\r",
      "clean sentences:  95%|█████████▍| 41318/43613 [01:30<00:03, 583.26it/s]"
     ]
    },
    {
     "name": "stderr",
     "output_type": "stream",
     "text": [
      "\r",
      "clean sentences:  95%|█████████▍| 41220/43613 [01:30<00:02, 833.54it/s]"
     ]
    },
    {
     "name": "stderr",
     "output_type": "stream",
     "text": [
      "\r",
      "clean sentences:  94%|█████████▍| 41106/43613 [01:29<00:03, 794.64it/s]"
     ]
    },
    {
     "name": "stderr",
     "output_type": "stream",
     "text": [
      "\r",
      "clean sentences:  94%|█████████▍| 40916/43613 [01:29<00:03, 699.79it/s]"
     ]
    },
    {
     "name": "stderr",
     "output_type": "stream",
     "text": [
      "\r",
      "clean sentences:  94%|█████████▎| 40802/43613 [01:29<00:04, 611.37it/s]"
     ]
    },
    {
     "name": "stderr",
     "output_type": "stream",
     "text": [
      "\r",
      "clean sentences:  93%|█████████▎| 40688/43613 [01:29<00:05, 515.86it/s]"
     ]
    },
    {
     "name": "stderr",
     "output_type": "stream",
     "text": [
      "\r",
      "clean sentences:  93%|█████████▎| 40536/43613 [01:29<00:07, 407.20it/s]"
     ]
    },
    {
     "name": "stderr",
     "output_type": "stream",
     "text": [
      "\r",
      "clean sentences:  93%|█████████▎| 40472/43613 [01:29<00:07, 408.62it/s]"
     ]
    },
    {
     "name": "stderr",
     "output_type": "stream",
     "text": [
      "\r",
      "clean sentences:  93%|█████████▎| 40410/43613 [01:29<00:05, 535.73it/s]"
     ]
    },
    {
     "name": "stderr",
     "output_type": "stream",
     "text": [
      "\r",
      "clean sentences:  93%|█████████▎| 40346/43613 [01:28<00:06, 518.39it/s]"
     ]
    },
    {
     "name": "stderr",
     "output_type": "stream",
     "text": [
      "\r",
      "clean sentences:  92%|█████████▏| 40270/43613 [01:28<00:06, 546.77it/s]"
     ]
    },
    {
     "name": "stderr",
     "output_type": "stream",
     "text": [
      "\r",
      "clean sentences:  92%|█████████▏| 40176/43613 [01:28<00:06, 528.44it/s]"
     ]
    },
    {
     "name": "stderr",
     "output_type": "stream",
     "text": [
      "\r",
      "clean sentences:  92%|█████████▏| 40080/43613 [01:28<00:04, 819.84it/s]"
     ]
    },
    {
     "name": "stderr",
     "output_type": "stream",
     "text": [
      "\r",
      "clean sentences:  92%|█████████▏| 39968/43613 [01:28<00:04, 737.26it/s]"
     ]
    },
    {
     "name": "stderr",
     "output_type": "stream",
     "text": [
      "\r",
      "clean sentences:  91%|█████████▏| 39861/43613 [01:28<00:03, 948.58it/s] "
     ]
    },
    {
     "name": "stderr",
     "output_type": "stream",
     "text": [
      "\r",
      "clean sentences:  91%|█████████ | 39738/43613 [01:27<00:03, 1123.70it/s]"
     ]
    },
    {
     "name": "stderr",
     "output_type": "stream",
     "text": [
      "\r",
      "clean sentences:  91%|█████████ | 39515/43613 [01:27<00:03, 1049.41it/s]"
     ]
    },
    {
     "name": "stderr",
     "output_type": "stream",
     "text": [
      "\r",
      "clean sentences:  90%|█████████ | 39396/43613 [01:27<00:04, 1019.74it/s]"
     ]
    },
    {
     "name": "stderr",
     "output_type": "stream",
     "text": [
      "\r",
      "clean sentences:  90%|████████▉ | 39206/43613 [01:27<00:05, 866.15it/s]"
     ]
    },
    {
     "name": "stderr",
     "output_type": "stream",
     "text": [
      "\r",
      "clean sentences:  90%|████████▉ | 39054/43613 [01:27<00:05, 787.03it/s]"
     ]
    },
    {
     "name": "stderr",
     "output_type": "stream",
     "text": [
      "\r",
      "clean sentences:  89%|████████▉ | 38940/43613 [01:27<00:06, 745.36it/s]"
     ]
    },
    {
     "name": "stderr",
     "output_type": "stream",
     "text": [
      "\r",
      "clean sentences:  89%|████████▉ | 38833/43613 [01:27<00:07, 670.42it/s]"
     ]
    },
    {
     "name": "stderr",
     "output_type": "stream",
     "text": [
      "\r",
      "clean sentences:  89%|████████▉ | 38750/43613 [01:26<00:07, 667.61it/s]"
     ]
    },
    {
     "name": "stderr",
     "output_type": "stream",
     "text": [
      "\r",
      "clean sentences:  89%|████████▊ | 38636/43613 [01:26<00:08, 577.38it/s]"
     ]
    },
    {
     "name": "stderr",
     "output_type": "stream",
     "text": [
      "\r",
      "clean sentences:  88%|████████▊ | 38560/43613 [01:26<00:09, 537.64it/s]"
     ]
    },
    {
     "name": "stderr",
     "output_type": "stream",
     "text": [
      "\r",
      "clean sentences:  88%|████████▊ | 38408/43613 [01:26<00:08, 604.09it/s]"
     ]
    },
    {
     "name": "stderr",
     "output_type": "stream",
     "text": [
      "\r",
      "clean sentences:  88%|████████▊ | 38218/43613 [01:26<00:11, 471.59it/s]"
     ]
    },
    {
     "name": "stderr",
     "output_type": "stream",
     "text": [
      "\r",
      "clean sentences:  87%|████████▋ | 38150/43613 [01:26<00:12, 421.86it/s]"
     ]
    },
    {
     "name": "stderr",
     "output_type": "stream",
     "text": [
      "\r",
      "clean sentences:  87%|████████▋ | 38104/43613 [01:26<00:13, 421.11it/s]"
     ]
    },
    {
     "name": "stderr",
     "output_type": "stream",
     "text": [
      "\r",
      "clean sentences:  87%|████████▋ | 37952/43613 [01:25<00:14, 396.89it/s]"
     ]
    },
    {
     "name": "stderr",
     "output_type": "stream",
     "text": [
      "\r",
      "clean sentences:  87%|████████▋ | 37876/43613 [01:25<00:14, 382.52it/s]"
     ]
    },
    {
     "name": "stderr",
     "output_type": "stream",
     "text": [
      "\r",
      "clean sentences:  87%|████████▋ | 37800/43613 [01:25<00:17, 334.11it/s]"
     ]
    },
    {
     "name": "stderr",
     "output_type": "stream",
     "text": [
      "\r",
      "clean sentences:  86%|████████▋ | 37700/43613 [01:25<00:17, 347.57it/s]"
     ]
    },
    {
     "name": "stderr",
     "output_type": "stream",
     "text": [
      "\r",
      "clean sentences:  86%|████████▋ | 37659/43613 [01:25<00:17, 340.24it/s]"
     ]
    },
    {
     "name": "stderr",
     "output_type": "stream",
     "text": [
      "\r",
      "clean sentences:  86%|████████▌ | 37610/43613 [01:24<00:14, 423.78it/s]"
     ]
    },
    {
     "name": "stderr",
     "output_type": "stream",
     "text": [
      "\r",
      "clean sentences:  86%|████████▌ | 37534/43613 [01:24<00:16, 359.68it/s]"
     ]
    },
    {
     "name": "stderr",
     "output_type": "stream",
     "text": [
      "\r",
      "clean sentences:  86%|████████▌ | 37461/43613 [01:24<00:18, 335.81it/s]"
     ]
    },
    {
     "name": "stderr",
     "output_type": "stream",
     "text": [
      "\r",
      "clean sentences:  86%|████████▌ | 37420/43613 [01:24<00:16, 377.38it/s]"
     ]
    },
    {
     "name": "stderr",
     "output_type": "stream",
     "text": [
      "\r",
      "clean sentences:  86%|████████▌ | 37312/43613 [01:24<00:17, 363.00it/s]"
     ]
    },
    {
     "name": "stderr",
     "output_type": "stream",
     "text": [
      "\r",
      "clean sentences:  85%|████████▌ | 37268/43613 [01:23<00:15, 399.75it/s]"
     ]
    },
    {
     "name": "stderr",
     "output_type": "stream",
     "text": [
      "\r",
      "clean sentences:  85%|████████▌ | 37192/43613 [01:23<00:15, 424.80it/s]"
     ]
    },
    {
     "name": "stderr",
     "output_type": "stream",
     "text": [
      "\r",
      "clean sentences:  85%|████████▌ | 37136/43613 [01:23<00:13, 489.07it/s]"
     ]
    },
    {
     "name": "stderr",
     "output_type": "stream",
     "text": [
      "\r",
      "clean sentences:  85%|████████▌ | 37078/43613 [01:23<00:12, 518.17it/s]"
     ]
    },
    {
     "name": "stderr",
     "output_type": "stream",
     "text": [
      "\r",
      "clean sentences:  85%|████████▍ | 36964/43613 [01:23<00:14, 454.89it/s]"
     ]
    },
    {
     "name": "stderr",
     "output_type": "stream",
     "text": [
      "\r",
      "clean sentences:  84%|████████▍ | 36850/43613 [01:23<00:14, 462.79it/s]"
     ]
    },
    {
     "name": "stderr",
     "output_type": "stream",
     "text": [
      "\r",
      "clean sentences:  84%|████████▍ | 36774/43613 [01:22<00:16, 421.92it/s]"
     ]
    },
    {
     "name": "stderr",
     "output_type": "stream",
     "text": [
      "\r",
      "clean sentences:  84%|████████▍ | 36698/43613 [01:22<00:13, 502.73it/s]"
     ]
    },
    {
     "name": "stderr",
     "output_type": "stream",
     "text": [
      "\r",
      "clean sentences:  84%|████████▍ | 36628/43613 [01:22<00:15, 458.17it/s]"
     ]
    },
    {
     "name": "stderr",
     "output_type": "stream",
     "text": [
      "\r",
      "clean sentences:  84%|████████▍ | 36568/43613 [01:22<00:14, 487.32it/s]"
     ]
    },
    {
     "name": "stderr",
     "output_type": "stream",
     "text": [
      "\r",
      "clean sentences:  84%|████████▎ | 36508/43613 [01:22<00:15, 455.98it/s]"
     ]
    },
    {
     "name": "stderr",
     "output_type": "stream",
     "text": [
      "\r",
      "clean sentences:  84%|████████▎ | 36432/43613 [01:22<00:16, 430.57it/s]"
     ]
    },
    {
     "name": "stderr",
     "output_type": "stream",
     "text": [
      "\r",
      "clean sentences:  83%|████████▎ | 36291/43613 [01:21<00:20, 360.03it/s]"
     ]
    },
    {
     "name": "stderr",
     "output_type": "stream",
     "text": [
      "\r",
      "clean sentences:  83%|████████▎ | 36223/43613 [01:21<00:16, 440.81it/s]"
     ]
    },
    {
     "name": "stderr",
     "output_type": "stream",
     "text": [
      "\r",
      "clean sentences:  83%|████████▎ | 36151/43613 [01:21<00:18, 400.82it/s]"
     ]
    },
    {
     "name": "stderr",
     "output_type": "stream",
     "text": [
      "\r",
      "clean sentences:  83%|████████▎ | 36058/43613 [01:21<00:13, 547.49it/s]"
     ]
    },
    {
     "name": "stderr",
     "output_type": "stream",
     "text": [
      "\r",
      "clean sentences:  82%|████████▏ | 35938/43613 [01:20<00:08, 883.20it/s]"
     ]
    },
    {
     "name": "stderr",
     "output_type": "stream",
     "text": [
      "\r",
      "clean sentences:  82%|████████▏ | 35672/43613 [01:20<00:10, 764.95it/s]"
     ]
    },
    {
     "name": "stderr",
     "output_type": "stream",
     "text": [
      "\r",
      "clean sentences:  81%|████████▏ | 35520/43613 [01:20<00:12, 656.92it/s]"
     ]
    },
    {
     "name": "stderr",
     "output_type": "stream",
     "text": [
      "\r",
      "clean sentences:  81%|████████  | 35368/43613 [01:20<00:15, 542.21it/s]"
     ]
    },
    {
     "name": "stderr",
     "output_type": "stream",
     "text": [
      "\r",
      "clean sentences:  81%|████████  | 35140/43613 [01:20<00:20, 413.51it/s]"
     ]
    },
    {
     "name": "stderr",
     "output_type": "stream",
     "text": [
      "\r",
      "clean sentences:  80%|████████  | 35064/43613 [01:20<00:23, 363.62it/s]"
     ]
    },
    {
     "name": "stderr",
     "output_type": "stream",
     "text": [
      "\r",
      "clean sentences:  80%|████████  | 34950/43613 [01:19<00:29, 296.00it/s]"
     ]
    },
    {
     "name": "stderr",
     "output_type": "stream",
     "text": [
      "\r",
      "clean sentences:  80%|███████▉  | 34880/43613 [01:19<00:33, 262.98it/s]"
     ]
    },
    {
     "name": "stderr",
     "output_type": "stream",
     "text": [
      "\r",
      "clean sentences:  80%|███████▉  | 34847/43613 [01:19<00:34, 255.43it/s]"
     ]
    },
    {
     "name": "stderr",
     "output_type": "stream",
     "text": [
      "\r",
      "clean sentences:  80%|███████▉  | 34814/43613 [01:19<00:37, 235.37it/s]"
     ]
    },
    {
     "name": "stderr",
     "output_type": "stream",
     "text": [
      "\r",
      "clean sentences:  80%|███████▉  | 34780/43613 [01:19<00:40, 216.52it/s]"
     ]
    },
    {
     "name": "stderr",
     "output_type": "stream",
     "text": [
      "\r",
      "clean sentences:  80%|███████▉  | 34738/43613 [01:19<00:32, 271.35it/s]"
     ]
    },
    {
     "name": "stderr",
     "output_type": "stream",
     "text": [
      "\r",
      "clean sentences:  80%|███████▉  | 34684/43613 [01:18<00:18, 495.16it/s]"
     ]
    },
    {
     "name": "stderr",
     "output_type": "stream",
     "text": [
      "\r",
      "clean sentences:  79%|███████▉  | 34570/43613 [01:18<00:17, 526.20it/s]"
     ]
    },
    {
     "name": "stderr",
     "output_type": "stream",
     "text": [
      "\r",
      "clean sentences:  79%|███████▉  | 34479/43613 [01:18<00:17, 535.38it/s]"
     ]
    },
    {
     "name": "stderr",
     "output_type": "stream",
     "text": [
      "\r",
      "clean sentences:  79%|███████▉  | 34418/43613 [01:18<00:17, 512.42it/s]"
     ]
    },
    {
     "name": "stderr",
     "output_type": "stream",
     "text": [
      "\r",
      "clean sentences:  79%|███████▊  | 34342/43613 [01:18<00:19, 469.43it/s]"
     ]
    },
    {
     "name": "stderr",
     "output_type": "stream",
     "text": [
      "\r",
      "clean sentences:  79%|███████▊  | 34266/43613 [01:18<00:22, 413.73it/s]"
     ]
    },
    {
     "name": "stderr",
     "output_type": "stream",
     "text": [
      "\r",
      "clean sentences:  78%|███████▊  | 34190/43613 [01:17<00:25, 364.01it/s]"
     ]
    },
    {
     "name": "stderr",
     "output_type": "stream",
     "text": [
      "\r",
      "clean sentences:  78%|███████▊  | 34114/43613 [01:17<00:31, 303.83it/s]"
     ]
    },
    {
     "name": "stderr",
     "output_type": "stream",
     "text": [
      "\r",
      "clean sentences:  78%|███████▊  | 34038/43613 [01:17<00:36, 265.50it/s]"
     ]
    },
    {
     "name": "stderr",
     "output_type": "stream",
     "text": [
      "\r",
      "clean sentences:  78%|███████▊  | 33930/43613 [01:17<00:45, 211.68it/s]"
     ]
    },
    {
     "name": "stderr",
     "output_type": "stream",
     "text": [
      "\r",
      "clean sentences:  78%|███████▊  | 33888/43613 [01:17<00:33, 286.45it/s]"
     ]
    },
    {
     "name": "stderr",
     "output_type": "stream",
     "text": [
      "\r",
      "clean sentences:  78%|███████▊  | 33837/43613 [01:16<00:28, 347.59it/s]"
     ]
    },
    {
     "name": "stderr",
     "output_type": "stream",
     "text": [
      "\r",
      "clean sentences:  77%|███████▋  | 33771/43613 [01:16<00:16, 594.40it/s]"
     ]
    },
    {
     "name": "stderr",
     "output_type": "stream",
     "text": [
      "\r",
      "clean sentences:  77%|███████▋  | 33696/43613 [01:16<00:14, 705.45it/s]"
     ]
    },
    {
     "name": "stderr",
     "output_type": "stream",
     "text": [
      "\r",
      "clean sentences:  77%|███████▋  | 33544/43613 [01:16<00:14, 702.74it/s]"
     ]
    },
    {
     "name": "stderr",
     "output_type": "stream",
     "text": [
      "\r",
      "clean sentences:  77%|███████▋  | 33431/43613 [01:15<00:14, 685.76it/s]"
     ]
    },
    {
     "name": "stderr",
     "output_type": "stream",
     "text": [
      "\r",
      "clean sentences:  76%|███████▋  | 33354/43613 [01:15<00:15, 659.61it/s]"
     ]
    },
    {
     "name": "stderr",
     "output_type": "stream",
     "text": [
      "\r",
      "clean sentences:  76%|███████▌  | 33240/43613 [01:15<00:17, 577.38it/s]"
     ]
    },
    {
     "name": "stderr",
     "output_type": "stream",
     "text": [
      "\r",
      "clean sentences:  76%|███████▌  | 33126/43613 [01:15<00:18, 565.62it/s]"
     ]
    },
    {
     "name": "stderr",
     "output_type": "stream",
     "text": [
      "\r",
      "clean sentences:  76%|███████▌  | 33012/43613 [01:15<00:22, 476.91it/s]"
     ]
    },
    {
     "name": "stderr",
     "output_type": "stream",
     "text": [
      "\r",
      "clean sentences:  75%|███████▌  | 32910/43613 [01:15<00:26, 401.36it/s]"
     ]
    },
    {
     "name": "stderr",
     "output_type": "stream",
     "text": [
      "\r",
      "clean sentences:  75%|███████▌  | 32860/43613 [01:15<00:22, 471.62it/s]"
     ]
    },
    {
     "name": "stderr",
     "output_type": "stream",
     "text": [
      "\r",
      "clean sentences:  75%|███████▌  | 32746/43613 [01:14<00:24, 448.33it/s]"
     ]
    },
    {
     "name": "stderr",
     "output_type": "stream",
     "text": [
      "\r",
      "clean sentences:  75%|███████▍  | 32670/43613 [01:14<00:21, 512.06it/s]"
     ]
    },
    {
     "name": "stderr",
     "output_type": "stream",
     "text": [
      "\r",
      "clean sentences:  75%|███████▍  | 32556/43613 [01:14<00:22, 491.80it/s]"
     ]
    },
    {
     "name": "stderr",
     "output_type": "stream",
     "text": [
      "\r",
      "clean sentences:  74%|███████▍  | 32480/43613 [01:14<00:24, 446.39it/s]"
     ]
    },
    {
     "name": "stderr",
     "output_type": "stream",
     "text": [
      "\r",
      "clean sentences:  74%|███████▍  | 32404/43613 [01:14<00:24, 451.04it/s]"
     ]
    },
    {
     "name": "stderr",
     "output_type": "stream",
     "text": [
      "\r",
      "clean sentences:  74%|███████▍  | 32328/43613 [01:14<00:28, 392.62it/s]"
     ]
    },
    {
     "name": "stderr",
     "output_type": "stream",
     "text": [
      "\r",
      "clean sentences:  74%|███████▍  | 32239/43613 [01:13<00:27, 411.87it/s]"
     ]
    },
    {
     "name": "stderr",
     "output_type": "stream",
     "text": [
      "\r",
      "clean sentences:  74%|███████▍  | 32190/43613 [01:13<00:26, 430.89it/s]"
     ]
    },
    {
     "name": "stderr",
     "output_type": "stream",
     "text": [
      "\r",
      "clean sentences:  74%|███████▎  | 32138/43613 [01:13<00:26, 440.11it/s]"
     ]
    },
    {
     "name": "stderr",
     "output_type": "stream",
     "text": [
      "\r",
      "clean sentences:  73%|███████▎  | 32024/43613 [01:13<00:29, 388.77it/s]"
     ]
    },
    {
     "name": "stderr",
     "output_type": "stream",
     "text": [
      "\r",
      "clean sentences:  73%|███████▎  | 31925/43613 [01:13<00:28, 411.36it/s]"
     ]
    },
    {
     "name": "stderr",
     "output_type": "stream",
     "text": [
      "\r",
      "clean sentences:  73%|███████▎  | 31872/43613 [01:13<00:29, 394.61it/s]"
     ]
    },
    {
     "name": "stderr",
     "output_type": "stream",
     "text": [
      "\r",
      "clean sentences:  73%|███████▎  | 31812/43613 [01:12<00:33, 350.39it/s]"
     ]
    },
    {
     "name": "stderr",
     "output_type": "stream",
     "text": [
      "\r",
      "clean sentences:  73%|███████▎  | 31758/43613 [01:12<00:37, 314.84it/s]"
     ]
    },
    {
     "name": "stderr",
     "output_type": "stream",
     "text": [
      "\r",
      "clean sentences:  73%|███████▎  | 31660/43613 [01:12<00:44, 267.48it/s]"
     ]
    },
    {
     "name": "stderr",
     "output_type": "stream",
     "text": [
      "\r",
      "clean sentences:  72%|███████▏  | 31606/43613 [01:12<00:54, 220.76it/s]"
     ]
    },
    {
     "name": "stderr",
     "output_type": "stream",
     "text": [
      "\r",
      "clean sentences:  72%|███████▏  | 31492/43613 [01:12<01:13, 165.58it/s]"
     ]
    },
    {
     "name": "stderr",
     "output_type": "stream",
     "text": [
      "\r",
      "clean sentences:  72%|███████▏  | 31419/43613 [01:12<01:31, 132.58it/s]"
     ]
    },
    {
     "name": "stderr",
     "output_type": "stream",
     "text": [
      "\r",
      "clean sentences:  72%|███████▏  | 31377/43613 [01:11<00:40, 302.31it/s]"
     ]
    },
    {
     "name": "stderr",
     "output_type": "stream",
     "text": [
      "\r",
      "clean sentences:  72%|███████▏  | 31334/43613 [01:11<00:44, 277.98it/s]"
     ]
    },
    {
     "name": "stderr",
     "output_type": "stream",
     "text": [
      "\r",
      "clean sentences:  72%|███████▏  | 31291/43613 [01:11<00:50, 243.27it/s]"
     ]
    },
    {
     "name": "stderr",
     "output_type": "stream",
     "text": [
      "\r",
      "clean sentences:  72%|███████▏  | 31247/43613 [01:11<00:59, 206.25it/s]"
     ]
    },
    {
     "name": "stderr",
     "output_type": "stream",
     "text": [
      "\r",
      "clean sentences:  72%|███████▏  | 31188/43613 [01:10<00:23, 528.01it/s]"
     ]
    },
    {
     "name": "stderr",
     "output_type": "stream",
     "text": [
      "\r",
      "clean sentences:  71%|███████   | 31036/43613 [01:10<00:27, 462.87it/s]"
     ]
    },
    {
     "name": "stderr",
     "output_type": "stream",
     "text": [
      "\r",
      "clean sentences:  71%|███████   | 30922/43613 [01:10<00:27, 468.94it/s]"
     ]
    },
    {
     "name": "stderr",
     "output_type": "stream",
     "text": [
      "\r",
      "clean sentences:  71%|███████   | 30846/43613 [01:09<00:26, 483.41it/s]"
     ]
    },
    {
     "name": "stderr",
     "output_type": "stream",
     "text": [
      "\r",
      "clean sentences:  71%|███████   | 30770/43613 [01:09<00:29, 435.43it/s]"
     ]
    },
    {
     "name": "stderr",
     "output_type": "stream",
     "text": [
      "\r",
      "clean sentences:  70%|███████   | 30682/43613 [01:09<00:26, 490.14it/s]"
     ]
    },
    {
     "name": "stderr",
     "output_type": "stream",
     "text": [
      "\r",
      "clean sentences:  70%|███████   | 30618/43613 [01:09<00:23, 563.58it/s]"
     ]
    },
    {
     "name": "stderr",
     "output_type": "stream",
     "text": [
      "\r",
      "clean sentences:  70%|██████▉   | 30526/43613 [01:09<00:26, 487.85it/s]"
     ]
    },
    {
     "name": "stderr",
     "output_type": "stream",
     "text": [
      "\r",
      "clean sentences:  70%|██████▉   | 30466/43613 [01:09<00:24, 536.49it/s]"
     ]
    },
    {
     "name": "stderr",
     "output_type": "stream",
     "text": [
      "\r",
      "clean sentences:  70%|██████▉   | 30352/43613 [01:08<00:28, 460.67it/s]"
     ]
    },
    {
     "name": "stderr",
     "output_type": "stream",
     "text": [
      "\r",
      "clean sentences:  69%|██████▉   | 30200/43613 [01:08<00:30, 443.44it/s]"
     ]
    },
    {
     "name": "stderr",
     "output_type": "stream",
     "text": [
      "\r",
      "clean sentences:  69%|██████▉   | 30124/43613 [01:08<00:29, 452.67it/s]"
     ]
    },
    {
     "name": "stderr",
     "output_type": "stream",
     "text": [
      "\r",
      "clean sentences:  69%|██████▉   | 30063/43613 [01:08<00:29, 456.33it/s]"
     ]
    },
    {
     "name": "stderr",
     "output_type": "stream",
     "text": [
      "\r",
      "clean sentences:  69%|██████▉   | 30010/43613 [01:08<00:27, 491.16it/s]"
     ]
    },
    {
     "name": "stderr",
     "output_type": "stream",
     "text": [
      "\r",
      "clean sentences:  69%|██████▊   | 29934/43613 [01:08<00:30, 454.20it/s]"
     ]
    },
    {
     "name": "stderr",
     "output_type": "stream",
     "text": [
      "\r",
      "clean sentences:  68%|██████▊   | 29858/43613 [01:07<00:28, 488.98it/s]"
     ]
    },
    {
     "name": "stderr",
     "output_type": "stream",
     "text": [
      "\r",
      "clean sentences:  68%|██████▊   | 29782/43613 [01:07<00:30, 460.92it/s]"
     ]
    },
    {
     "name": "stderr",
     "output_type": "stream",
     "text": [
      "\r",
      "clean sentences:  68%|██████▊   | 29706/43613 [01:07<00:25, 538.92it/s]"
     ]
    },
    {
     "name": "stderr",
     "output_type": "stream",
     "text": [
      "\r",
      "clean sentences:  68%|██████▊   | 29630/43613 [01:07<00:27, 502.09it/s]"
     ]
    },
    {
     "name": "stderr",
     "output_type": "stream",
     "text": [
      "\r",
      "clean sentences:  68%|██████▊   | 29554/43613 [01:07<00:25, 553.73it/s]"
     ]
    },
    {
     "name": "stderr",
     "output_type": "stream",
     "text": [
      "\r",
      "clean sentences:  68%|██████▊   | 29478/43613 [01:07<00:24, 570.52it/s]"
     ]
    },
    {
     "name": "stderr",
     "output_type": "stream",
     "text": [
      "\r",
      "clean sentences:  67%|██████▋   | 29364/43613 [01:06<00:29, 484.41it/s]"
     ]
    },
    {
     "name": "stderr",
     "output_type": "stream",
     "text": [
      "\r",
      "clean sentences:  67%|██████▋   | 29288/43613 [01:06<00:24, 589.42it/s]"
     ]
    },
    {
     "name": "stderr",
     "output_type": "stream",
     "text": [
      "\r",
      "clean sentences:  67%|██████▋   | 29192/43613 [01:06<00:27, 526.14it/s]"
     ]
    },
    {
     "name": "stderr",
     "output_type": "stream",
     "text": [
      "\r",
      "clean sentences:  67%|██████▋   | 29136/43613 [01:06<00:27, 519.07it/s]"
     ]
    },
    {
     "name": "stderr",
     "output_type": "stream",
     "text": [
      "\r",
      "clean sentences:  67%|██████▋   | 29060/43613 [01:06<00:31, 461.06it/s]"
     ]
    },
    {
     "name": "stderr",
     "output_type": "stream",
     "text": [
      "\r",
      "clean sentences:  66%|██████▋   | 28984/43613 [01:06<00:30, 477.13it/s]"
     ]
    },
    {
     "name": "stderr",
     "output_type": "stream",
     "text": [
      "\r",
      "clean sentences:  66%|██████▋   | 28908/43613 [01:06<00:32, 455.14it/s]"
     ]
    },
    {
     "name": "stderr",
     "output_type": "stream",
     "text": [
      "\r",
      "clean sentences:  66%|██████▌   | 28840/43613 [01:05<00:36, 410.12it/s]"
     ]
    },
    {
     "name": "stderr",
     "output_type": "stream",
     "text": [
      "\r",
      "clean sentences:  66%|██████▌   | 28794/43613 [01:05<00:35, 422.43it/s]"
     ]
    },
    {
     "name": "stderr",
     "output_type": "stream",
     "text": [
      "\r",
      "clean sentences:  66%|██████▌   | 28723/43613 [01:05<00:39, 378.94it/s]"
     ]
    },
    {
     "name": "stderr",
     "output_type": "stream",
     "text": [
      "\r",
      "clean sentences:  66%|██████▌   | 28680/43613 [01:05<00:38, 386.80it/s]"
     ]
    },
    {
     "name": "stderr",
     "output_type": "stream",
     "text": [
      "\r",
      "clean sentences:  66%|██████▌   | 28604/43613 [01:05<00:33, 447.88it/s]"
     ]
    },
    {
     "name": "stderr",
     "output_type": "stream",
     "text": [
      "\r",
      "clean sentences:  65%|██████▌   | 28545/43613 [01:05<00:30, 501.50it/s]"
     ]
    },
    {
     "name": "stderr",
     "output_type": "stream",
     "text": [
      "\r",
      "clean sentences:  65%|██████▌   | 28490/43613 [01:05<00:29, 506.68it/s]"
     ]
    },
    {
     "name": "stderr",
     "output_type": "stream",
     "text": [
      "\r",
      "clean sentences:  65%|██████▌   | 28376/43613 [01:04<00:32, 464.87it/s]"
     ]
    },
    {
     "name": "stderr",
     "output_type": "stream",
     "text": [
      "\r",
      "clean sentences:  65%|██████▍   | 28300/43613 [01:04<00:30, 498.08it/s]"
     ]
    },
    {
     "name": "stderr",
     "output_type": "stream",
     "text": [
      "\r",
      "clean sentences:  65%|██████▍   | 28224/43613 [01:04<00:33, 465.54it/s]"
     ]
    },
    {
     "name": "stderr",
     "output_type": "stream",
     "text": [
      "\r",
      "clean sentences:  64%|██████▍   | 28110/43613 [01:04<00:37, 410.03it/s]"
     ]
    },
    {
     "name": "stderr",
     "output_type": "stream",
     "text": [
      "\r",
      "clean sentences:  64%|██████▍   | 28034/43613 [01:04<00:38, 401.88it/s]"
     ]
    },
    {
     "name": "stderr",
     "output_type": "stream",
     "text": [
      "\r",
      "clean sentences:  64%|██████▍   | 27958/43613 [01:04<00:41, 377.19it/s]"
     ]
    },
    {
     "name": "stderr",
     "output_type": "stream",
     "text": [
      "\r",
      "clean sentences:  64%|██████▍   | 27887/43613 [01:03<00:49, 315.38it/s]"
     ]
    },
    {
     "name": "stderr",
     "output_type": "stream",
     "text": [
      "\r",
      "clean sentences:  64%|██████▍   | 27844/43613 [01:03<00:42, 374.35it/s]"
     ]
    },
    {
     "name": "stderr",
     "output_type": "stream",
     "text": [
      "\r",
      "clean sentences:  64%|██████▎   | 27784/43613 [01:03<00:40, 395.24it/s]"
     ]
    },
    {
     "name": "stderr",
     "output_type": "stream",
     "text": [
      "\r",
      "clean sentences:  64%|██████▎   | 27730/43613 [01:03<00:33, 470.06it/s]"
     ]
    },
    {
     "name": "stderr",
     "output_type": "stream",
     "text": [
      "\r",
      "clean sentences:  63%|██████▎   | 27634/43613 [01:03<00:38, 412.90it/s]"
     ]
    },
    {
     "name": "stderr",
     "output_type": "stream",
     "text": [
      "\r",
      "clean sentences:  63%|██████▎   | 27578/43613 [01:03<00:30, 534.49it/s]"
     ]
    },
    {
     "name": "stderr",
     "output_type": "stream",
     "text": [
      "\r",
      "clean sentences:  63%|██████▎   | 27502/43613 [01:02<00:29, 538.24it/s]"
     ]
    },
    {
     "name": "stderr",
     "output_type": "stream",
     "text": [
      "\r",
      "clean sentences:  63%|██████▎   | 27426/43613 [01:02<00:31, 506.71it/s]"
     ]
    },
    {
     "name": "stderr",
     "output_type": "stream",
     "text": [
      "\r",
      "clean sentences:  63%|██████▎   | 27334/43613 [01:02<00:31, 515.07it/s]"
     ]
    },
    {
     "name": "stderr",
     "output_type": "stream",
     "text": [
      "\r",
      "clean sentences:  63%|██████▎   | 27267/43613 [01:02<00:26, 612.06it/s]"
     ]
    },
    {
     "name": "stderr",
     "output_type": "stream",
     "text": [
      "\r",
      "clean sentences:  62%|██████▏   | 27198/43613 [01:02<00:26, 610.14it/s]"
     ]
    },
    {
     "name": "stderr",
     "output_type": "stream",
     "text": [
      "\r",
      "clean sentences:  62%|██████▏   | 27084/43613 [01:02<00:30, 540.95it/s]"
     ]
    },
    {
     "name": "stderr",
     "output_type": "stream",
     "text": [
      "\r",
      "clean sentences:  62%|██████▏   | 27008/43613 [01:02<00:30, 538.54it/s]"
     ]
    },
    {
     "name": "stderr",
     "output_type": "stream",
     "text": [
      "\r",
      "clean sentences:  62%|██████▏   | 26894/43613 [01:01<00:36, 462.48it/s]"
     ]
    },
    {
     "name": "stderr",
     "output_type": "stream",
     "text": [
      "\r",
      "clean sentences:  61%|██████▏   | 26818/43613 [01:01<00:38, 441.38it/s]"
     ]
    },
    {
     "name": "stderr",
     "output_type": "stream",
     "text": [
      "\r",
      "clean sentences:  61%|██████▏   | 26742/43613 [01:01<00:37, 447.78it/s]"
     ]
    },
    {
     "name": "stderr",
     "output_type": "stream",
     "text": [
      "\r",
      "clean sentences:  61%|██████    | 26658/43613 [01:01<00:34, 489.62it/s]"
     ]
    },
    {
     "name": "stderr",
     "output_type": "stream",
     "text": [
      "\r",
      "clean sentences:  61%|██████    | 26590/43613 [01:01<00:35, 481.57it/s]"
     ]
    },
    {
     "name": "stderr",
     "output_type": "stream",
     "text": [
      "\r",
      "clean sentences:  61%|██████    | 26476/43613 [01:01<00:44, 387.11it/s]"
     ]
    },
    {
     "name": "stderr",
     "output_type": "stream",
     "text": [
      "\r",
      "clean sentences:  60%|██████    | 26362/43613 [01:00<00:50, 342.52it/s]"
     ]
    },
    {
     "name": "stderr",
     "output_type": "stream",
     "text": [
      "\r",
      "clean sentences:  60%|██████    | 26248/43613 [01:00<00:58, 294.43it/s]"
     ]
    },
    {
     "name": "stderr",
     "output_type": "stream",
     "text": [
      "\r",
      "clean sentences:  60%|██████    | 26172/43613 [01:00<01:01, 283.79it/s]"
     ]
    },
    {
     "name": "stderr",
     "output_type": "stream",
     "text": [
      "\r",
      "clean sentences:  60%|█████▉    | 26096/43613 [01:00<00:52, 331.10it/s]"
     ]
    },
    {
     "name": "stderr",
     "output_type": "stream",
     "text": [
      "\r",
      "clean sentences:  59%|█████▉    | 25944/43613 [00:59<01:08, 259.66it/s]"
     ]
    },
    {
     "name": "stderr",
     "output_type": "stream",
     "text": [
      "\r",
      "clean sentences:  59%|█████▉    | 25868/43613 [00:59<01:27, 203.12it/s]"
     ]
    },
    {
     "name": "stderr",
     "output_type": "stream",
     "text": [
      "\r",
      "clean sentences:  59%|█████▉    | 25792/43613 [00:59<01:38, 181.68it/s]"
     ]
    },
    {
     "name": "stderr",
     "output_type": "stream",
     "text": [
      "\r",
      "clean sentences:  59%|█████▉    | 25754/43613 [00:59<01:28, 202.50it/s]"
     ]
    },
    {
     "name": "stderr",
     "output_type": "stream",
     "text": [
      "\r",
      "clean sentences:  59%|█████▉    | 25716/43613 [00:59<01:03, 280.32it/s]"
     ]
    },
    {
     "name": "stderr",
     "output_type": "stream",
     "text": [
      "\r",
      "clean sentences:  59%|█████▉    | 25674/43613 [00:58<01:02, 285.13it/s]"
     ]
    },
    {
     "name": "stderr",
     "output_type": "stream",
     "text": [
      "\r",
      "clean sentences:  59%|█████▉    | 25625/43613 [00:58<00:51, 352.67it/s]"
     ]
    },
    {
     "name": "stderr",
     "output_type": "stream",
     "text": [
      "\r",
      "clean sentences:  59%|█████▊    | 25564/43613 [00:58<00:34, 520.81it/s]"
     ]
    },
    {
     "name": "stderr",
     "output_type": "stream",
     "text": [
      "\r",
      "clean sentences:  58%|█████▊    | 25450/43613 [00:58<00:40, 449.76it/s]"
     ]
    },
    {
     "name": "stderr",
     "output_type": "stream",
     "text": [
      "\r",
      "clean sentences:  58%|█████▊    | 25354/43613 [00:57<00:34, 534.26it/s]"
     ]
    },
    {
     "name": "stderr",
     "output_type": "stream",
     "text": [
      "\r",
      "clean sentences:  58%|█████▊    | 25287/43613 [00:57<00:30, 595.90it/s]"
     ]
    },
    {
     "name": "stderr",
     "output_type": "stream",
     "text": [
      "\r",
      "clean sentences:  58%|█████▊    | 25218/43613 [00:57<00:31, 592.27it/s]"
     ]
    },
    {
     "name": "stderr",
     "output_type": "stream",
     "text": [
      "\r",
      "clean sentences:  58%|█████▊    | 25146/43613 [00:57<00:31, 582.96it/s]"
     ]
    },
    {
     "name": "stderr",
     "output_type": "stream",
     "text": [
      "\r",
      "clean sentences:  57%|█████▋    | 25055/43613 [00:57<00:24, 747.74it/s]"
     ]
    },
    {
     "name": "stderr",
     "output_type": "stream",
     "text": [
      "\r",
      "clean sentences:  57%|█████▋    | 24953/43613 [00:57<00:19, 935.07it/s] "
     ]
    },
    {
     "name": "stderr",
     "output_type": "stream",
     "text": [
      "\r",
      "clean sentences:  57%|█████▋    | 24842/43613 [00:56<00:18, 1015.99it/s]"
     ]
    },
    {
     "name": "stderr",
     "output_type": "stream",
     "text": [
      "\r",
      "clean sentences:  57%|█████▋    | 24690/43613 [00:56<00:21, 900.56it/s]"
     ]
    },
    {
     "name": "stderr",
     "output_type": "stream",
     "text": [
      "\r",
      "clean sentences:  56%|█████▋    | 24576/43613 [00:56<00:21, 871.16it/s]"
     ]
    },
    {
     "name": "stderr",
     "output_type": "stream",
     "text": [
      "\r",
      "clean sentences:  56%|█████▌    | 24424/43613 [00:56<00:24, 769.58it/s]"
     ]
    },
    {
     "name": "stderr",
     "output_type": "stream",
     "text": [
      "\r",
      "clean sentences:  56%|█████▌    | 24275/43613 [00:56<00:27, 711.85it/s]"
     ]
    },
    {
     "name": "stderr",
     "output_type": "stream",
     "text": [
      "\r",
      "clean sentences:  55%|█████▌    | 24196/43613 [00:56<00:26, 722.82it/s]"
     ]
    },
    {
     "name": "stderr",
     "output_type": "stream",
     "text": [
      "\r",
      "clean sentences:  55%|█████▌    | 24082/43613 [00:56<00:29, 670.22it/s]"
     ]
    },
    {
     "name": "stderr",
     "output_type": "stream",
     "text": [
      "\r",
      "clean sentences:  55%|█████▍    | 23930/43613 [00:56<00:33, 592.29it/s]"
     ]
    },
    {
     "name": "stderr",
     "output_type": "stream",
     "text": [
      "\r",
      "clean sentences:  55%|█████▍    | 23816/43613 [00:55<00:35, 556.09it/s]"
     ]
    },
    {
     "name": "stderr",
     "output_type": "stream",
     "text": [
      "\r",
      "clean sentences:  54%|█████▍    | 23702/43613 [00:55<00:41, 484.45it/s]"
     ]
    },
    {
     "name": "stderr",
     "output_type": "stream",
     "text": [
      "\r",
      "clean sentences:  54%|█████▍    | 23638/43613 [00:55<00:41, 482.37it/s]"
     ]
    },
    {
     "name": "stderr",
     "output_type": "stream",
     "text": [
      "\r",
      "clean sentences:  54%|█████▍    | 23576/43613 [00:55<00:40, 494.19it/s]"
     ]
    },
    {
     "name": "stderr",
     "output_type": "stream",
     "text": [
      "\r",
      "clean sentences:  54%|█████▍    | 23512/43613 [00:55<00:43, 465.13it/s]"
     ]
    },
    {
     "name": "stderr",
     "output_type": "stream",
     "text": [
      "\r",
      "clean sentences:  54%|█████▎    | 23398/43613 [00:55<00:53, 377.36it/s]"
     ]
    },
    {
     "name": "stderr",
     "output_type": "stream",
     "text": [
      "\r",
      "clean sentences:  53%|█████▎    | 23307/43613 [00:55<00:55, 364.45it/s]"
     ]
    },
    {
     "name": "stderr",
     "output_type": "stream",
     "text": [
      "\r",
      "clean sentences:  53%|█████▎    | 23246/43613 [00:54<00:47, 430.32it/s]"
     ]
    },
    {
     "name": "stderr",
     "output_type": "stream",
     "text": [
      "\r",
      "clean sentences:  53%|█████▎    | 23142/43613 [00:54<00:59, 345.38it/s]"
     ]
    },
    {
     "name": "stderr",
     "output_type": "stream",
     "text": [
      "\r",
      "clean sentences:  53%|█████▎    | 23094/43613 [00:54<00:57, 359.87it/s]"
     ]
    },
    {
     "name": "stderr",
     "output_type": "stream",
     "text": [
      "\r",
      "clean sentences:  53%|█████▎    | 22980/43613 [00:54<01:10, 291.06it/s]"
     ]
    },
    {
     "name": "stderr",
     "output_type": "stream",
     "text": [
      "\r",
      "clean sentences:  53%|█████▎    | 22943/43613 [00:54<01:13, 281.93it/s]"
     ]
    },
    {
     "name": "stderr",
     "output_type": "stream",
     "text": [
      "\r",
      "clean sentences:  53%|█████▎    | 22904/43613 [00:54<01:08, 300.22it/s]"
     ]
    },
    {
     "name": "stderr",
     "output_type": "stream",
     "text": [
      "\r",
      "clean sentences:  52%|█████▏    | 22828/43613 [00:53<01:25, 244.16it/s]"
     ]
    },
    {
     "name": "stderr",
     "output_type": "stream",
     "text": [
      "\r",
      "clean sentences:  52%|█████▏    | 22790/43613 [00:53<01:18, 265.11it/s]"
     ]
    },
    {
     "name": "stderr",
     "output_type": "stream",
     "text": [
      "\r",
      "clean sentences:  52%|█████▏    | 22752/43613 [00:53<01:24, 248.32it/s]"
     ]
    },
    {
     "name": "stderr",
     "output_type": "stream",
     "text": [
      "\r",
      "clean sentences:  52%|█████▏    | 22714/43613 [00:53<01:18, 267.65it/s]"
     ]
    },
    {
     "name": "stderr",
     "output_type": "stream",
     "text": [
      "\r",
      "clean sentences:  52%|█████▏    | 22676/43613 [00:53<01:21, 257.15it/s]"
     ]
    },
    {
     "name": "stderr",
     "output_type": "stream",
     "text": [
      "\r",
      "clean sentences:  52%|█████▏    | 22638/43613 [00:53<01:22, 252.99it/s]"
     ]
    },
    {
     "name": "stderr",
     "output_type": "stream",
     "text": [
      "\r",
      "clean sentences:  52%|█████▏    | 22562/43613 [00:52<01:07, 312.27it/s]"
     ]
    },
    {
     "name": "stderr",
     "output_type": "stream",
     "text": [
      "\r",
      "clean sentences:  52%|█████▏    | 22502/43613 [00:52<01:16, 274.77it/s]"
     ]
    },
    {
     "name": "stderr",
     "output_type": "stream",
     "text": [
      "\r",
      "clean sentences:  51%|█████▏    | 22448/43613 [00:52<00:44, 472.96it/s]"
     ]
    },
    {
     "name": "stderr",
     "output_type": "stream",
     "text": [
      "\r",
      "clean sentences:  51%|█████▏    | 22361/43613 [00:52<00:43, 484.27it/s]"
     ]
    },
    {
     "name": "stderr",
     "output_type": "stream",
     "text": [
      "\r",
      "clean sentences:  51%|█████     | 22296/43613 [00:51<00:40, 532.82it/s]"
     ]
    },
    {
     "name": "stderr",
     "output_type": "stream",
     "text": [
      "\r",
      "clean sentences:  51%|█████     | 22220/43613 [00:51<00:44, 484.80it/s]"
     ]
    },
    {
     "name": "stderr",
     "output_type": "stream",
     "text": [
      "\r",
      "clean sentences:  51%|█████     | 22124/43613 [00:51<00:52, 409.49it/s]"
     ]
    },
    {
     "name": "stderr",
     "output_type": "stream",
     "text": [
      "\r",
      "clean sentences:  51%|█████     | 22068/43613 [00:51<00:55, 390.23it/s]"
     ]
    },
    {
     "name": "stderr",
     "output_type": "stream",
     "text": [
      "\r",
      "clean sentences:  50%|█████     | 21924/43613 [00:51<01:09, 310.93it/s]"
     ]
    },
    {
     "name": "stderr",
     "output_type": "stream",
     "text": [
      "\r",
      "clean sentences:  50%|█████     | 21878/43613 [00:51<00:55, 389.87it/s]"
     ]
    },
    {
     "name": "stderr",
     "output_type": "stream",
     "text": [
      "\r",
      "clean sentences:  50%|████▉     | 21788/43613 [00:51<01:01, 353.19it/s]"
     ]
    },
    {
     "name": "stderr",
     "output_type": "stream",
     "text": [
      "\r",
      "clean sentences:  50%|████▉     | 21739/43613 [00:50<00:53, 407.35it/s]"
     ]
    },
    {
     "name": "stderr",
     "output_type": "stream",
     "text": [
      "\r",
      "clean sentences:  50%|████▉     | 21688/43613 [00:50<00:56, 388.09it/s]"
     ]
    },
    {
     "name": "stderr",
     "output_type": "stream",
     "text": [
      "\r",
      "clean sentences:  50%|████▉     | 21612/43613 [00:50<01:06, 330.17it/s]"
     ]
    },
    {
     "name": "stderr",
     "output_type": "stream",
     "text": [
      "\r",
      "clean sentences:  49%|████▉     | 21544/43613 [00:50<00:46, 470.19it/s]"
     ]
    },
    {
     "name": "stderr",
     "output_type": "stream",
     "text": [
      "\r",
      "clean sentences:  49%|████▉     | 21485/43613 [00:50<00:44, 500.65it/s]"
     ]
    },
    {
     "name": "stderr",
     "output_type": "stream",
     "text": [
      "\r",
      "clean sentences:  49%|████▉     | 21422/43613 [00:50<00:44, 497.31it/s]"
     ]
    },
    {
     "name": "stderr",
     "output_type": "stream",
     "text": [
      "\r",
      "clean sentences:  49%|████▉     | 21330/43613 [00:49<00:46, 479.25it/s]"
     ]
    },
    {
     "name": "stderr",
     "output_type": "stream",
     "text": [
      "\r",
      "clean sentences:  49%|████▊     | 21252/43613 [00:49<00:41, 536.48it/s]"
     ]
    },
    {
     "name": "stderr",
     "output_type": "stream",
     "text": [
      "\r",
      "clean sentences:  48%|████▊     | 21118/43613 [00:49<00:52, 426.80it/s]"
     ]
    },
    {
     "name": "stderr",
     "output_type": "stream",
     "text": [
      "\r",
      "clean sentences:  48%|████▊     | 21042/43613 [00:49<00:57, 390.60it/s]"
     ]
    },
    {
     "name": "stderr",
     "output_type": "stream",
     "text": [
      "\r",
      "clean sentences:  48%|████▊     | 20966/43613 [00:49<01:08, 333.01it/s]"
     ]
    },
    {
     "name": "stderr",
     "output_type": "stream",
     "text": [
      "\r",
      "clean sentences:  48%|████▊     | 20896/43613 [00:49<01:07, 338.75it/s]"
     ]
    },
    {
     "name": "stderr",
     "output_type": "stream",
     "text": [
      "\r",
      "clean sentences:  48%|████▊     | 20828/43613 [00:48<00:38, 592.86it/s]"
     ]
    },
    {
     "name": "stderr",
     "output_type": "stream",
     "text": [
      "\r",
      "clean sentences:  48%|████▊     | 20749/43613 [00:48<00:31, 735.33it/s]"
     ]
    },
    {
     "name": "stderr",
     "output_type": "stream",
     "text": [
      "\r",
      "clean sentences:  47%|████▋     | 20662/43613 [00:48<00:28, 801.31it/s]"
     ]
    },
    {
     "name": "stderr",
     "output_type": "stream",
     "text": [
      "\r",
      "clean sentences:  47%|████▋     | 20548/43613 [00:48<00:30, 762.49it/s]"
     ]
    },
    {
     "name": "stderr",
     "output_type": "stream",
     "text": [
      "\r",
      "clean sentences:  47%|████▋     | 20396/43613 [00:48<00:31, 725.93it/s]"
     ]
    },
    {
     "name": "stderr",
     "output_type": "stream",
     "text": [
      "\r",
      "clean sentences:  47%|████▋     | 20282/43613 [00:47<00:33, 699.25it/s]"
     ]
    },
    {
     "name": "stderr",
     "output_type": "stream",
     "text": [
      "\r",
      "clean sentences:  46%|████▌     | 20168/43613 [00:47<00:35, 664.07it/s]"
     ]
    },
    {
     "name": "stderr",
     "output_type": "stream",
     "text": [
      "\r",
      "clean sentences:  46%|████▌     | 20054/43613 [00:47<00:40, 581.43it/s]"
     ]
    },
    {
     "name": "stderr",
     "output_type": "stream",
     "text": [
      "\r",
      "clean sentences:  46%|████▌     | 19906/43613 [00:47<00:48, 486.04it/s]"
     ]
    },
    {
     "name": "stderr",
     "output_type": "stream",
     "text": [
      "\r",
      "clean sentences:  45%|████▌     | 19826/43613 [00:47<00:48, 494.26it/s]"
     ]
    },
    {
     "name": "stderr",
     "output_type": "stream",
     "text": [
      "\r",
      "clean sentences:  45%|████▌     | 19712/43613 [00:47<00:58, 408.78it/s]"
     ]
    },
    {
     "name": "stderr",
     "output_type": "stream",
     "text": [
      "\r",
      "clean sentences:  45%|████▍     | 19598/43613 [00:47<01:14, 322.70it/s]"
     ]
    },
    {
     "name": "stderr",
     "output_type": "stream",
     "text": [
      "\r",
      "clean sentences:  45%|████▍     | 19522/43613 [00:46<01:28, 273.03it/s]"
     ]
    },
    {
     "name": "stderr",
     "output_type": "stream",
     "text": [
      "\r",
      "clean sentences:  45%|████▍     | 19408/43613 [00:46<01:41, 238.77it/s]"
     ]
    },
    {
     "name": "stderr",
     "output_type": "stream",
     "text": [
      "\r",
      "clean sentences:  44%|████▍     | 19294/43613 [00:46<01:57, 206.89it/s]"
     ]
    },
    {
     "name": "stderr",
     "output_type": "stream",
     "text": [
      "\r",
      "clean sentences:  44%|████▍     | 19102/43613 [00:46<02:41, 151.98it/s]"
     ]
    },
    {
     "name": "stderr",
     "output_type": "stream",
     "text": [
      "\r",
      "clean sentences:  44%|████▎     | 19032/43613 [00:44<00:40, 610.23it/s]"
     ]
    },
    {
     "name": "stderr",
     "output_type": "stream",
     "text": [
      "\r",
      "clean sentences:  43%|████▎     | 18950/43613 [00:44<00:32, 755.08it/s]"
     ]
    },
    {
     "name": "stderr",
     "output_type": "stream",
     "text": [
      "\r",
      "clean sentences:  43%|████▎     | 18857/43613 [00:44<00:27, 892.63it/s]"
     ]
    },
    {
     "name": "stderr",
     "output_type": "stream",
     "text": [
      "\r",
      "clean sentences:  43%|████▎     | 18762/43613 [00:44<00:27, 904.60it/s]"
     ]
    },
    {
     "name": "stderr",
     "output_type": "stream",
     "text": [
      "\r",
      "clean sentences:  43%|████▎     | 18648/43613 [00:44<00:29, 856.97it/s]"
     ]
    },
    {
     "name": "stderr",
     "output_type": "stream",
     "text": [
      "\r",
      "clean sentences:  42%|████▏     | 18534/43613 [00:44<00:29, 840.24it/s]"
     ]
    },
    {
     "name": "stderr",
     "output_type": "stream",
     "text": [
      "\r",
      "clean sentences:  42%|████▏     | 18382/43613 [00:44<00:30, 814.10it/s]"
     ]
    },
    {
     "name": "stderr",
     "output_type": "stream",
     "text": [
      "\r",
      "clean sentences:  42%|████▏     | 18268/43613 [00:43<00:32, 771.26it/s]"
     ]
    },
    {
     "name": "stderr",
     "output_type": "stream",
     "text": [
      "\r",
      "clean sentences:  42%|████▏     | 18154/43613 [00:43<00:35, 710.88it/s]"
     ]
    },
    {
     "name": "stderr",
     "output_type": "stream",
     "text": [
      "\r",
      "clean sentences:  41%|████▏     | 18002/43613 [00:43<00:42, 605.11it/s]"
     ]
    },
    {
     "name": "stderr",
     "output_type": "stream",
     "text": [
      "\r",
      "clean sentences:  41%|████      | 17888/43613 [00:43<00:49, 516.55it/s]"
     ]
    },
    {
     "name": "stderr",
     "output_type": "stream",
     "text": [
      "\r",
      "clean sentences:  41%|████      | 17774/43613 [00:43<00:56, 458.77it/s]"
     ]
    },
    {
     "name": "stderr",
     "output_type": "stream",
     "text": [
      "\r",
      "clean sentences:  41%|████      | 17698/43613 [00:43<01:01, 424.20it/s]"
     ]
    },
    {
     "name": "stderr",
     "output_type": "stream",
     "text": [
      "\r",
      "clean sentences:  40%|████      | 17622/43613 [00:43<01:05, 398.86it/s]"
     ]
    },
    {
     "name": "stderr",
     "output_type": "stream",
     "text": [
      "\r",
      "clean sentences:  40%|████      | 17546/43613 [00:42<00:59, 440.02it/s]"
     ]
    },
    {
     "name": "stderr",
     "output_type": "stream",
     "text": [
      "\r",
      "clean sentences:  40%|████      | 17462/43613 [00:42<01:04, 404.82it/s]"
     ]
    },
    {
     "name": "stderr",
     "output_type": "stream",
     "text": [
      "\r",
      "clean sentences:  40%|███▉      | 17375/43613 [00:42<00:41, 627.15it/s]"
     ]
    },
    {
     "name": "stderr",
     "output_type": "stream",
     "text": [
      "\r",
      "clean sentences:  40%|███▉      | 17280/43613 [00:42<00:43, 609.39it/s]"
     ]
    },
    {
     "name": "stderr",
     "output_type": "stream",
     "text": [
      "\r",
      "clean sentences:  39%|███▉      | 17166/43613 [00:42<00:51, 511.67it/s]"
     ]
    },
    {
     "name": "stderr",
     "output_type": "stream",
     "text": [
      "\r",
      "clean sentences:  39%|███▉      | 17052/43613 [00:42<01:02, 421.96it/s]"
     ]
    },
    {
     "name": "stderr",
     "output_type": "stream",
     "text": [
      "\r",
      "clean sentences:  39%|███▊      | 16900/43613 [00:41<01:21, 328.60it/s]"
     ]
    },
    {
     "name": "stderr",
     "output_type": "stream",
     "text": [
      "\r",
      "clean sentences:  38%|███▊      | 16786/43613 [00:41<01:43, 259.22it/s]"
     ]
    },
    {
     "name": "stderr",
     "output_type": "stream",
     "text": [
      "\r",
      "clean sentences:  38%|███▊      | 16716/43613 [00:41<01:51, 241.78it/s]"
     ]
    },
    {
     "name": "stderr",
     "output_type": "stream",
     "text": [
      "\r",
      "clean sentences:  38%|███▊      | 16637/43613 [00:41<02:02, 220.76it/s]"
     ]
    },
    {
     "name": "stderr",
     "output_type": "stream",
     "text": [
      "\r",
      "clean sentences:  38%|███▊      | 16558/43613 [00:41<02:40, 169.08it/s]"
     ]
    },
    {
     "name": "stderr",
     "output_type": "stream",
     "text": [
      "\r",
      "clean sentences:  38%|███▊      | 16444/43613 [00:41<03:37, 124.85it/s]"
     ]
    },
    {
     "name": "stderr",
     "output_type": "stream",
     "text": [
      "\r",
      "clean sentences:  37%|███▋      | 16260/43613 [00:40<05:05, 89.47it/s] "
     ]
    },
    {
     "name": "stderr",
     "output_type": "stream",
     "text": [
      "\r",
      "clean sentences:  37%|███▋      | 16216/43613 [00:39<01:18, 347.24it/s]"
     ]
    },
    {
     "name": "stderr",
     "output_type": "stream",
     "text": [
      "\r",
      "clean sentences:  37%|███▋      | 16140/43613 [00:39<01:26, 316.91it/s]"
     ]
    },
    {
     "name": "stderr",
     "output_type": "stream",
     "text": [
      "\r",
      "clean sentences:  37%|███▋      | 16090/43613 [00:39<01:28, 309.41it/s]"
     ]
    },
    {
     "name": "stderr",
     "output_type": "stream",
     "text": [
      "\r",
      "clean sentences:  37%|███▋      | 16040/43613 [00:39<01:37, 284.02it/s]"
     ]
    },
    {
     "name": "stderr",
     "output_type": "stream",
     "text": [
      "\r",
      "clean sentences:  37%|███▋      | 15976/43613 [00:38<01:04, 430.64it/s]"
     ]
    },
    {
     "name": "stderr",
     "output_type": "stream",
     "text": [
      "\r",
      "clean sentences:  36%|███▋      | 15906/43613 [00:38<01:08, 406.29it/s]"
     ]
    },
    {
     "name": "stderr",
     "output_type": "stream",
     "text": [
      "\r",
      "clean sentences:  36%|███▋      | 15836/43613 [00:38<01:20, 346.10it/s]"
     ]
    },
    {
     "name": "stderr",
     "output_type": "stream",
     "text": [
      "\r",
      "clean sentences:  36%|███▌      | 15668/43613 [00:38<01:45, 265.49it/s]"
     ]
    },
    {
     "name": "stderr",
     "output_type": "stream",
     "text": [
      "\r",
      "clean sentences:  36%|███▌      | 15560/43613 [00:38<02:19, 201.53it/s]"
     ]
    },
    {
     "name": "stderr",
     "output_type": "stream",
     "text": [
      "\r",
      "clean sentences:  36%|███▌      | 15506/43613 [00:38<02:50, 164.65it/s]"
     ]
    },
    {
     "name": "stderr",
     "output_type": "stream",
     "text": [
      "\r",
      "clean sentences:  35%|███▌      | 15472/43613 [00:37<02:47, 168.10it/s]"
     ]
    },
    {
     "name": "stderr",
     "output_type": "stream",
     "text": [
      "\r",
      "clean sentences:  35%|███▌      | 15452/43613 [00:37<02:51, 164.48it/s]"
     ]
    },
    {
     "name": "stderr",
     "output_type": "stream",
     "text": [
      "\r",
      "clean sentences:  35%|███▌      | 15416/43613 [00:37<03:05, 152.13it/s]"
     ]
    },
    {
     "name": "stderr",
     "output_type": "stream",
     "text": [
      "\r",
      "clean sentences:  35%|███▌      | 15380/43613 [00:37<03:16, 143.71it/s]"
     ]
    },
    {
     "name": "stderr",
     "output_type": "stream",
     "text": [
      "\r",
      "clean sentences:  35%|███▌      | 15344/43613 [00:37<03:45, 125.40it/s]"
     ]
    },
    {
     "name": "stderr",
     "output_type": "stream",
     "text": [
      "\r",
      "clean sentences:  35%|███▌      | 15308/43613 [00:37<04:24, 106.89it/s]"
     ]
    },
    {
     "name": "stderr",
     "output_type": "stream",
     "text": [
      "\r",
      "clean sentences:  35%|███▍      | 15254/43613 [00:36<05:38, 83.75it/s]"
     ]
    },
    {
     "name": "stderr",
     "output_type": "stream",
     "text": [
      "\r",
      "clean sentences:  35%|███▍      | 15218/43613 [00:36<05:38, 83.88it/s]"
     ]
    },
    {
     "name": "stderr",
     "output_type": "stream",
     "text": [
      "\r",
      "clean sentences:  35%|███▍      | 15182/43613 [00:36<07:24, 63.97it/s]"
     ]
    },
    {
     "name": "stderr",
     "output_type": "stream",
     "text": [
      "\r",
      "clean sentences:  35%|███▍      | 15165/43613 [00:36<08:15, 57.40it/s]"
     ]
    },
    {
     "name": "stderr",
     "output_type": "stream",
     "text": [
      "\r",
      "clean sentences:  35%|███▍      | 15151/43613 [00:35<08:32, 55.57it/s]"
     ]
    },
    {
     "name": "stderr",
     "output_type": "stream",
     "text": [
      "\r",
      "clean sentences:  35%|███▍      | 15134/43613 [00:35<09:40, 49.07it/s]"
     ]
    },
    {
     "name": "stderr",
     "output_type": "stream",
     "text": [
      "\r",
      "clean sentences:  35%|███▍      | 15115/43613 [00:35<11:54, 39.88it/s]"
     ]
    },
    {
     "name": "stderr",
     "output_type": "stream",
     "text": [
      "\r",
      "clean sentences:  35%|███▍      | 15092/43613 [00:35<14:56, 31.82it/s]"
     ]
    },
    {
     "name": "stderr",
     "output_type": "stream",
     "text": [
      "\r",
      "clean sentences:  34%|███▍      | 15038/43613 [00:35<20:26, 23.29it/s]"
     ]
    },
    {
     "name": "stderr",
     "output_type": "stream",
     "text": [
      "\r",
      "clean sentences:  34%|███▍      | 14992/43613 [00:34<28:27, 16.77it/s]"
     ]
    },
    {
     "name": "stderr",
     "output_type": "stream",
     "text": [
      "\r",
      "clean sentences:  34%|███▍      | 14962/43613 [00:33<30:28, 15.67it/s]"
     ]
    },
    {
     "name": "stderr",
     "output_type": "stream",
     "text": [
      "\r",
      "clean sentences:  34%|███▍      | 14920/43613 [00:27<15:06, 31.64it/s] "
     ]
    },
    {
     "name": "stderr",
     "output_type": "stream",
     "text": [
      "\r",
      "clean sentences:  34%|███▍      | 14860/43613 [00:21<01:06, 431.22it/s]"
     ]
    },
    {
     "name": "stderr",
     "output_type": "stream",
     "text": [
      "\r",
      "clean sentences:  34%|███▍      | 14786/43613 [00:21<00:45, 630.73it/s]"
     ]
    },
    {
     "name": "stderr",
     "output_type": "stream",
     "text": [
      "\r",
      "clean sentences:  34%|███▎      | 14701/43613 [00:21<00:39, 729.79it/s]"
     ]
    },
    {
     "name": "stderr",
     "output_type": "stream",
     "text": [
      "\r",
      "clean sentences:  33%|███▎      | 14602/43613 [00:20<00:33, 857.18it/s]"
     ]
    },
    {
     "name": "stderr",
     "output_type": "stream",
     "text": [
      "\r",
      "clean sentences:  33%|███▎      | 14456/43613 [00:20<00:37, 778.27it/s]"
     ]
    },
    {
     "name": "stderr",
     "output_type": "stream",
     "text": [
      "\r",
      "clean sentences:  33%|███▎      | 14310/43613 [00:20<00:31, 922.08it/s]"
     ]
    },
    {
     "name": "stderr",
     "output_type": "stream",
     "text": [
      "\r",
      "clean sentences:  32%|███▏      | 14164/43613 [00:20<00:36, 803.18it/s]"
     ]
    },
    {
     "name": "stderr",
     "output_type": "stream",
     "text": [
      "\r",
      "clean sentences:  32%|███▏      | 14038/43613 [00:20<00:30, 972.58it/s] "
     ]
    },
    {
     "name": "stderr",
     "output_type": "stream",
     "text": [
      "\r",
      "clean sentences:  32%|███▏      | 13921/43613 [00:20<00:28, 1025.62it/s]"
     ]
    },
    {
     "name": "stderr",
     "output_type": "stream",
     "text": [
      "\r",
      "clean sentences:  32%|███▏      | 13799/43613 [00:19<00:29, 1013.36it/s]"
     ]
    },
    {
     "name": "stderr",
     "output_type": "stream",
     "text": [
      "\r",
      "clean sentences:  31%|███       | 13580/43613 [00:19<00:32, 935.73it/s]"
     ]
    },
    {
     "name": "stderr",
     "output_type": "stream",
     "text": [
      "\r",
      "clean sentences:  31%|███       | 13416/43613 [00:19<00:37, 797.10it/s] "
     ]
    },
    {
     "name": "stderr",
     "output_type": "stream",
     "text": [
      "\r",
      "clean sentences:  30%|███       | 13288/43613 [00:19<00:28, 1069.59it/s]"
     ]
    },
    {
     "name": "stderr",
     "output_type": "stream",
     "text": [
      "\r",
      "clean sentences:  30%|███       | 13142/43613 [00:19<00:27, 1112.58it/s]"
     ]
    },
    {
     "name": "stderr",
     "output_type": "stream",
     "text": [
      "\r",
      "clean sentences:  29%|██▉       | 12850/43613 [00:18<00:24, 1238.59it/s]"
     ]
    },
    {
     "name": "stderr",
     "output_type": "stream",
     "text": [
      "\r",
      "clean sentences:  29%|██▉       | 12631/43613 [00:18<00:29, 1061.08it/s]"
     ]
    },
    {
     "name": "stderr",
     "output_type": "stream",
     "text": [
      "\r",
      "clean sentences:  28%|██▊       | 12339/43613 [00:18<00:36, 855.69it/s]"
     ]
    },
    {
     "name": "stderr",
     "output_type": "stream",
     "text": [
      "\r",
      "clean sentences:  28%|██▊       | 12125/43613 [00:18<00:37, 848.99it/s] "
     ]
    },
    {
     "name": "stderr",
     "output_type": "stream",
     "text": [
      "\r",
      "clean sentences:  28%|██▊       | 11998/43613 [00:18<00:30, 1036.74it/s]"
     ]
    },
    {
     "name": "stderr",
     "output_type": "stream",
     "text": [
      "\r",
      "clean sentences:  27%|██▋       | 11854/43613 [00:18<00:28, 1122.28it/s]"
     ]
    },
    {
     "name": "stderr",
     "output_type": "stream",
     "text": [
      "\r",
      "clean sentences:  27%|██▋       | 11706/43613 [00:17<00:30, 1051.92it/s]"
     ]
    },
    {
     "name": "stderr",
     "output_type": "stream",
     "text": [
      "\r",
      "clean sentences:  26%|██▋       | 11536/43613 [00:17<00:29, 1094.48it/s]"
     ]
    },
    {
     "name": "stderr",
     "output_type": "stream",
     "text": [
      "\r",
      "clean sentences:  26%|██▌       | 11171/43613 [00:17<00:38, 848.54it/s]"
     ]
    },
    {
     "name": "stderr",
     "output_type": "stream",
     "text": [
      "\r",
      "clean sentences:  25%|██▌       | 11025/43613 [00:17<00:44, 724.19it/s]"
     ]
    },
    {
     "name": "stderr",
     "output_type": "stream",
     "text": [
      "\r",
      "clean sentences:  25%|██▍       | 10806/43613 [00:17<00:48, 682.52it/s]"
     ]
    },
    {
     "name": "stderr",
     "output_type": "stream",
     "text": [
      "\r",
      "clean sentences:  24%|██▍       | 10660/43613 [00:17<00:47, 690.41it/s]"
     ]
    },
    {
     "name": "stderr",
     "output_type": "stream",
     "text": [
      "\r",
      "clean sentences:  24%|██▍       | 10441/43613 [00:16<00:48, 682.14it/s]"
     ]
    },
    {
     "name": "stderr",
     "output_type": "stream",
     "text": [
      "\r",
      "clean sentences:  24%|██▎       | 10295/43613 [00:16<00:57, 575.77it/s]"
     ]
    },
    {
     "name": "stderr",
     "output_type": "stream",
     "text": [
      "\r",
      "clean sentences:  23%|██▎       | 10149/43613 [00:16<00:59, 559.91it/s]"
     ]
    },
    {
     "name": "stderr",
     "output_type": "stream",
     "text": [
      "\r",
      "clean sentences:  23%|██▎       | 10003/43613 [00:16<01:09, 481.14it/s]"
     ]
    },
    {
     "name": "stderr",
     "output_type": "stream",
     "text": [
      "\r",
      "clean sentences:  23%|██▎       | 9857/43613 [00:16<01:10, 475.84it/s]"
     ]
    },
    {
     "name": "stderr",
     "output_type": "stream",
     "text": [
      "\r",
      "clean sentences:  22%|██▏       | 9784/43613 [00:15<01:15, 445.67it/s]"
     ]
    },
    {
     "name": "stderr",
     "output_type": "stream",
     "text": [
      "\r",
      "clean sentences:  22%|██▏       | 9711/43613 [00:15<01:25, 396.44it/s]"
     ]
    },
    {
     "name": "stderr",
     "output_type": "stream",
     "text": [
      "\r",
      "clean sentences:  22%|██▏       | 9638/43613 [00:15<01:10, 482.93it/s]"
     ]
    },
    {
     "name": "stderr",
     "output_type": "stream",
     "text": [
      "\r",
      "clean sentences:  22%|██▏       | 9496/43613 [00:15<01:24, 401.95it/s]"
     ]
    },
    {
     "name": "stderr",
     "output_type": "stream",
     "text": [
      "\r",
      "clean sentences:  22%|██▏       | 9419/43613 [00:14<00:49, 685.48it/s]"
     ]
    },
    {
     "name": "stderr",
     "output_type": "stream",
     "text": [
      "\r",
      "clean sentences:  21%|██▏       | 9273/43613 [00:14<00:55, 613.31it/s]"
     ]
    },
    {
     "name": "stderr",
     "output_type": "stream",
     "text": [
      "\r",
      "clean sentences:  21%|██        | 9074/43613 [00:14<00:52, 658.11it/s]"
     ]
    },
    {
     "name": "stderr",
     "output_type": "stream",
     "text": [
      "\r",
      "clean sentences:  21%|██        | 8992/43613 [00:14<00:49, 694.24it/s]"
     ]
    },
    {
     "name": "stderr",
     "output_type": "stream",
     "text": [
      "\r",
      "clean sentences:  20%|██        | 8908/43613 [00:14<00:52, 662.77it/s]"
     ]
    },
    {
     "name": "stderr",
     "output_type": "stream",
     "text": [
      "\r",
      "clean sentences:  20%|██        | 8762/43613 [00:14<01:02, 557.31it/s]"
     ]
    },
    {
     "name": "stderr",
     "output_type": "stream",
     "text": [
      "\r",
      "clean sentences:  20%|█▉        | 8562/43613 [00:13<01:10, 494.84it/s]"
     ]
    },
    {
     "name": "stderr",
     "output_type": "stream",
     "text": [
      "\r",
      "clean sentences:  19%|█▉        | 8484/43613 [00:13<00:49, 710.03it/s]"
     ]
    },
    {
     "name": "stderr",
     "output_type": "stream",
     "text": [
      "\r",
      "clean sentences:  19%|█▉        | 8397/43613 [00:13<00:45, 780.93it/s]"
     ]
    },
    {
     "name": "stderr",
     "output_type": "stream",
     "text": [
      "\r",
      "clean sentences:  19%|█▉        | 8251/43613 [00:13<00:50, 702.14it/s]"
     ]
    },
    {
     "name": "stderr",
     "output_type": "stream",
     "text": [
      "\r",
      "clean sentences:  19%|█▊        | 8105/43613 [00:13<00:57, 612.88it/s]"
     ]
    },
    {
     "name": "stderr",
     "output_type": "stream",
     "text": [
      "\r",
      "clean sentences:  18%|█▊        | 8032/43613 [00:12<00:53, 666.82it/s]"
     ]
    },
    {
     "name": "stderr",
     "output_type": "stream",
     "text": [
      "\r",
      "clean sentences:  18%|█▊        | 7959/43613 [00:12<00:54, 657.58it/s]"
     ]
    },
    {
     "name": "stderr",
     "output_type": "stream",
     "text": [
      "\r",
      "clean sentences:  18%|█▊        | 7826/43613 [00:12<00:49, 730.12it/s]"
     ]
    },
    {
     "name": "stderr",
     "output_type": "stream",
     "text": [
      "\r",
      "clean sentences:  18%|█▊        | 7740/43613 [00:12<00:48, 745.89it/s]"
     ]
    },
    {
     "name": "stderr",
     "output_type": "stream",
     "text": [
      "\r",
      "clean sentences:  17%|█▋        | 7594/43613 [00:12<00:48, 740.62it/s]"
     ]
    },
    {
     "name": "stderr",
     "output_type": "stream",
     "text": [
      "\r",
      "clean sentences:  17%|█▋        | 7380/43613 [00:12<00:58, 619.00it/s]"
     ]
    },
    {
     "name": "stderr",
     "output_type": "stream",
     "text": [
      "\r",
      "clean sentences:  17%|█▋        | 7302/43613 [00:12<00:54, 665.20it/s]"
     ]
    },
    {
     "name": "stderr",
     "output_type": "stream",
     "text": [
      "\r",
      "clean sentences:  16%|█▋        | 7156/43613 [00:11<00:52, 693.32it/s]"
     ]
    },
    {
     "name": "stderr",
     "output_type": "stream",
     "text": [
      "\r",
      "clean sentences:  16%|█▌        | 7010/43613 [00:11<00:49, 746.18it/s]"
     ]
    },
    {
     "name": "stderr",
     "output_type": "stream",
     "text": [
      "\r",
      "clean sentences:  16%|█▌        | 6887/43613 [00:11<00:40, 900.82it/s]"
     ]
    },
    {
     "name": "stderr",
     "output_type": "stream",
     "text": [
      "\r",
      "clean sentences:  15%|█▌        | 6718/43613 [00:11<00:49, 750.61it/s]"
     ]
    },
    {
     "name": "stderr",
     "output_type": "stream",
     "text": [
      "\r",
      "clean sentences:  15%|█▌        | 6572/43613 [00:11<00:55, 668.77it/s]"
     ]
    },
    {
     "name": "stderr",
     "output_type": "stream",
     "text": [
      "\r",
      "clean sentences:  15%|█▍        | 6426/43613 [00:10<01:07, 552.73it/s]"
     ]
    },
    {
     "name": "stderr",
     "output_type": "stream",
     "text": [
      "\r",
      "clean sentences:  15%|█▍        | 6357/43613 [00:10<01:07, 552.44it/s]"
     ]
    },
    {
     "name": "stderr",
     "output_type": "stream",
     "text": [
      "\r",
      "clean sentences:  14%|█▍        | 6280/43613 [00:10<01:03, 589.37it/s]"
     ]
    },
    {
     "name": "stderr",
     "output_type": "stream",
     "text": [
      "\r",
      "clean sentences:  14%|█▍        | 6134/43613 [00:10<01:18, 479.47it/s]"
     ]
    },
    {
     "name": "stderr",
     "output_type": "stream",
     "text": [
      "\r",
      "clean sentences:  14%|█▍        | 6061/43613 [00:10<01:10, 534.60it/s]"
     ]
    },
    {
     "name": "stderr",
     "output_type": "stream",
     "text": [
      "\r",
      "clean sentences:  14%|█▎        | 5988/43613 [00:10<01:05, 577.09it/s]"
     ]
    },
    {
     "name": "stderr",
     "output_type": "stream",
     "text": [
      "\r",
      "clean sentences:  13%|█▎        | 5842/43613 [00:09<01:04, 584.42it/s]"
     ]
    },
    {
     "name": "stderr",
     "output_type": "stream",
     "text": [
      "\r",
      "clean sentences:  13%|█▎        | 5755/43613 [00:09<00:59, 641.14it/s]"
     ]
    },
    {
     "name": "stderr",
     "output_type": "stream",
     "text": [
      "\r",
      "clean sentences:  13%|█▎        | 5659/43613 [00:09<00:59, 642.42it/s]"
     ]
    },
    {
     "name": "stderr",
     "output_type": "stream",
     "text": [
      "\r",
      "clean sentences:  13%|█▎        | 5550/43613 [00:09<00:59, 634.83it/s]"
     ]
    },
    {
     "name": "stderr",
     "output_type": "stream",
     "text": [
      "\r",
      "clean sentences:  12%|█▏        | 5341/43613 [00:09<01:17, 490.73it/s]"
     ]
    },
    {
     "name": "stderr",
     "output_type": "stream",
     "text": [
      "\r",
      "clean sentences:  12%|█▏        | 5258/43613 [00:09<01:07, 570.84it/s]"
     ]
    },
    {
     "name": "stderr",
     "output_type": "stream",
     "text": [
      "\r",
      "clean sentences:  12%|█▏        | 5039/43613 [00:08<01:25, 450.61it/s]"
     ]
    },
    {
     "name": "stderr",
     "output_type": "stream",
     "text": [
      "\r",
      "clean sentences:  11%|█▏        | 4966/43613 [00:08<01:15, 509.32it/s]"
     ]
    },
    {
     "name": "stderr",
     "output_type": "stream",
     "text": [
      "\r",
      "clean sentences:  11%|█         | 4840/43613 [00:08<01:17, 499.49it/s]"
     ]
    },
    {
     "name": "stderr",
     "output_type": "stream",
     "text": [
      "\r",
      "clean sentences:  11%|█         | 4765/43613 [00:08<01:08, 564.48it/s]"
     ]
    },
    {
     "name": "stderr",
     "output_type": "stream",
     "text": [
      "\r",
      "clean sentences:  11%|█         | 4674/43613 [00:08<00:53, 731.98it/s]"
     ]
    },
    {
     "name": "stderr",
     "output_type": "stream",
     "text": [
      "\r",
      "clean sentences:  10%|█         | 4455/43613 [00:07<01:04, 605.33it/s]"
     ]
    },
    {
     "name": "stderr",
     "output_type": "stream",
     "text": [
      "\r",
      "clean sentences:  10%|▉         | 4309/43613 [00:07<01:09, 569.28it/s]"
     ]
    },
    {
     "name": "stderr",
     "output_type": "stream",
     "text": [
      "\r",
      "clean sentences:  10%|▉         | 4189/43613 [00:07<01:14, 529.09it/s]"
     ]
    },
    {
     "name": "stderr",
     "output_type": "stream",
     "text": [
      "\r",
      "clean sentences:   9%|▉         | 4111/43613 [00:07<00:58, 672.16it/s]"
     ]
    },
    {
     "name": "stderr",
     "output_type": "stream",
     "text": [
      "\r",
      "clean sentences:   9%|▉         | 4033/43613 [00:07<01:02, 635.01it/s]"
     ]
    },
    {
     "name": "stderr",
     "output_type": "stream",
     "text": [
      "\r",
      "clean sentences:   9%|▉         | 3944/43613 [00:07<00:56, 705.79it/s]"
     ]
    },
    {
     "name": "stderr",
     "output_type": "stream",
     "text": [
      "\r",
      "clean sentences:   9%|▊         | 3798/43613 [00:06<01:07, 592.54it/s]"
     ]
    },
    {
     "name": "stderr",
     "output_type": "stream",
     "text": [
      "\r",
      "clean sentences:   8%|▊         | 3652/43613 [00:06<01:19, 500.14it/s]"
     ]
    },
    {
     "name": "stderr",
     "output_type": "stream",
     "text": [
      "\r",
      "clean sentences:   8%|▊         | 3579/43613 [00:06<01:25, 465.79it/s]"
     ]
    },
    {
     "name": "stderr",
     "output_type": "stream",
     "text": [
      "\r",
      "clean sentences:   8%|▊         | 3433/43613 [00:06<01:42, 392.71it/s]"
     ]
    },
    {
     "name": "stderr",
     "output_type": "stream",
     "text": [
      "\r",
      "clean sentences:   8%|▊         | 3287/43613 [00:06<01:36, 419.61it/s]"
     ]
    },
    {
     "name": "stderr",
     "output_type": "stream",
     "text": [
      "\r",
      "clean sentences:   7%|▋         | 3214/43613 [00:05<01:35, 421.92it/s]"
     ]
    },
    {
     "name": "stderr",
     "output_type": "stream",
     "text": [
      "\r",
      "clean sentences:   7%|▋         | 3141/43613 [00:05<01:31, 441.45it/s]"
     ]
    },
    {
     "name": "stderr",
     "output_type": "stream",
     "text": [
      "\r",
      "clean sentences:   7%|▋         | 3068/43613 [00:05<01:21, 496.29it/s]"
     ]
    },
    {
     "name": "stderr",
     "output_type": "stream",
     "text": [
      "\r",
      "clean sentences:   7%|▋         | 2922/43613 [00:05<01:41, 402.24it/s]"
     ]
    },
    {
     "name": "stderr",
     "output_type": "stream",
     "text": [
      "\r",
      "clean sentences:   6%|▋         | 2776/43613 [00:05<01:52, 361.83it/s]"
     ]
    },
    {
     "name": "stderr",
     "output_type": "stream",
     "text": [
      "\r",
      "clean sentences:   6%|▌         | 2703/43613 [00:04<02:12, 309.00it/s]"
     ]
    },
    {
     "name": "stderr",
     "output_type": "stream",
     "text": [
      "\r",
      "clean sentences:   6%|▌         | 2630/43613 [00:04<02:25, 282.52it/s]"
     ]
    },
    {
     "name": "stderr",
     "output_type": "stream",
     "text": [
      "\r",
      "clean sentences:   6%|▌         | 2557/43613 [00:04<02:24, 284.20it/s]"
     ]
    },
    {
     "name": "stderr",
     "output_type": "stream",
     "text": [
      "\r",
      "clean sentences:   6%|▌         | 2484/43613 [00:04<01:42, 402.04it/s]"
     ]
    },
    {
     "name": "stderr",
     "output_type": "stream",
     "text": [
      "\r",
      "clean sentences:   5%|▌         | 2338/43613 [00:03<01:55, 357.01it/s]"
     ]
    },
    {
     "name": "stderr",
     "output_type": "stream",
     "text": [
      "\r",
      "clean sentences:   5%|▌         | 2192/43613 [00:03<01:49, 379.70it/s]"
     ]
    },
    {
     "name": "stderr",
     "output_type": "stream",
     "text": [
      "\r",
      "clean sentences:   5%|▍         | 2046/43613 [00:02<01:28, 470.12it/s]"
     ]
    },
    {
     "name": "stderr",
     "output_type": "stream",
     "text": [
      "\r",
      "clean sentences:   4%|▍         | 1900/43613 [00:02<01:37, 429.36it/s]"
     ]
    },
    {
     "name": "stderr",
     "output_type": "stream",
     "text": [
      "\r",
      "clean sentences:   4%|▍         | 1754/43613 [00:02<01:54, 364.52it/s]"
     ]
    },
    {
     "name": "stderr",
     "output_type": "stream",
     "text": [
      "\r",
      "clean sentences:   4%|▎         | 1608/43613 [00:01<01:24, 496.09it/s] "
     ]
    },
    {
     "name": "stderr",
     "output_type": "stream",
     "text": [
      "\r",
      "clean sentences:   3%|▎         | 1462/43613 [00:00<00:30, 1367.98it/s]"
     ]
    },
    {
     "name": "stderr",
     "output_type": "stream",
     "text": [
      "\r",
      "clean sentences:   3%|▎         | 1170/43613 [00:00<00:34, 1217.17it/s]"
     ]
    },
    {
     "name": "stderr",
     "output_type": "stream",
     "text": [
      "\r",
      "clean sentences:   2%|▏         | 878/43613 [00:00<00:30, 1388.87it/s]"
     ]
    },
    {
     "name": "stderr",
     "output_type": "stream",
     "text": [
      "\r",
      "clean sentences:   2%|▏         | 732/43613 [00:00<00:20, 2071.81it/s]"
     ]
    },
    {
     "name": "stderr",
     "output_type": "stream",
     "text": [
      "\r",
      "clean sentences:   1%|          | 440/43613 [00:00<00:21, 2041.72it/s]"
     ]
    },
    {
     "name": "stderr",
     "output_type": "stream",
     "text": [
      "\r",
      "clean sentences:   0%|          | 0/43613 [00:00<?, ?it/s]"
     ]
    }
   ],
   "source": [
    "integrate_training['body'] = stemmering_sentences_messages(integrate_training['body'])"
   ]
  },
  {
   "cell_type": "code",
   "execution_count": 16,
   "metadata": {
    "autoscroll": "json-false",
    "collapsed": false,
    "ein.tags": [
     "worksheet-0"
    ],
    "slideshow": {
     "slide_type": "-"
    }
   },
   "outputs": [
    {
     "name": "stderr",
     "output_type": "stream",
     "text": [
      "\n"
     ]
    },
    {
     "name": "stderr",
     "output_type": "stream",
     "text": [
      "\r",
      "clean sentences: 100%|██████████| 2362/2362 [00:04<00:00, 507.20it/s]"
     ]
    },
    {
     "name": "stderr",
     "output_type": "stream",
     "text": [
      "\r",
      "clean sentences:  94%|█████████▎| 2212/2362 [00:04<00:00, 284.62it/s]"
     ]
    },
    {
     "name": "stderr",
     "output_type": "stream",
     "text": [
      "\r",
      "clean sentences:  91%|█████████ | 2154/2362 [00:04<00:00, 265.29it/s]"
     ]
    },
    {
     "name": "stderr",
     "output_type": "stream",
     "text": [
      "\r",
      "clean sentences:  89%|████████▊ | 2096/2362 [00:04<00:01, 229.58it/s]"
     ]
    },
    {
     "name": "stderr",
     "output_type": "stream",
     "text": [
      "\r",
      "clean sentences:  84%|████████▍ | 1980/2362 [00:03<00:01, 208.89it/s]"
     ]
    },
    {
     "name": "stderr",
     "output_type": "stream",
     "text": [
      "\r",
      "clean sentences:  81%|████████▏ | 1922/2362 [00:03<00:01, 224.83it/s]"
     ]
    },
    {
     "name": "stderr",
     "output_type": "stream",
     "text": [
      "\r",
      "clean sentences:  79%|███████▉  | 1864/2362 [00:03<00:01, 308.76it/s]"
     ]
    },
    {
     "name": "stderr",
     "output_type": "stream",
     "text": [
      "\r",
      "clean sentences:  76%|███████▋  | 1806/2362 [00:02<00:01, 317.19it/s]"
     ]
    },
    {
     "name": "stderr",
     "output_type": "stream",
     "text": [
      "\r",
      "clean sentences:  72%|███████▏  | 1690/2362 [00:02<00:02, 279.48it/s]"
     ]
    },
    {
     "name": "stderr",
     "output_type": "stream",
     "text": [
      "\r",
      "clean sentences:  67%|██████▋   | 1574/2362 [00:02<00:03, 229.70it/s]"
     ]
    },
    {
     "name": "stderr",
     "output_type": "stream",
     "text": [
      "\r",
      "clean sentences:  64%|██████▍   | 1516/2362 [00:02<00:04, 202.25it/s]"
     ]
    },
    {
     "name": "stderr",
     "output_type": "stream",
     "text": [
      "\r",
      "clean sentences:  62%|██████▏   | 1458/2362 [00:02<00:05, 162.62it/s]"
     ]
    },
    {
     "name": "stderr",
     "output_type": "stream",
     "text": [
      "\r",
      "clean sentences:  59%|█████▉    | 1400/2362 [00:02<00:07, 126.50it/s]"
     ]
    },
    {
     "name": "stderr",
     "output_type": "stream",
     "text": [
      "\r",
      "clean sentences:  54%|█████▍    | 1284/2362 [00:01<00:11, 97.31it/s]"
     ]
    },
    {
     "name": "stderr",
     "output_type": "stream",
     "text": [
      "\r",
      "clean sentences:  50%|████▉     | 1176/2362 [00:01<00:16, 71.66it/s]"
     ]
    },
    {
     "name": "stderr",
     "output_type": "stream",
     "text": [
      "\r",
      "clean sentences:  47%|████▋     | 1110/2362 [00:01<00:22, 54.74it/s]"
     ]
    },
    {
     "name": "stderr",
     "output_type": "stream",
     "text": [
      "\r",
      "clean sentences:  37%|███▋      | 881/2362 [00:01<00:37, 39.02it/s]"
     ]
    },
    {
     "name": "stderr",
     "output_type": "stream",
     "text": [
      "\r",
      "clean sentences:  35%|███▍      | 820/2362 [00:00<00:54, 28.13it/s]"
     ]
    },
    {
     "name": "stderr",
     "output_type": "stream",
     "text": [
      "\r",
      "clean sentences:  27%|██▋       | 646/2362 [00:00<01:26, 19.89it/s]"
     ]
    },
    {
     "name": "stderr",
     "output_type": "stream",
     "text": [
      "\r",
      "clean sentences:  22%|██▏       | 530/2362 [00:00<02:09, 14.12it/s]"
     ]
    },
    {
     "name": "stderr",
     "output_type": "stream",
     "text": [
      "\r",
      "clean sentences:  20%|█▉        | 472/2362 [00:00<03:09,  9.96it/s]"
     ]
    },
    {
     "name": "stderr",
     "output_type": "stream",
     "text": [
      "\r",
      "clean sentences:   0%|          | 1/2362 [00:00<05:38,  6.98it/s]"
     ]
    },
    {
     "name": "stderr",
     "output_type": "stream",
     "text": [
      "\r",
      "clean sentences:   0%|          | 0/2362 [00:00<?, ?it/s]"
     ]
    }
   ],
   "source": [
    "integrate_test['body'] = stemmering_sentences_messages(integrate_test['body'])"
   ]
  },
  {
   "cell_type": "code",
   "execution_count": 0,
   "metadata": {
    "autoscroll": "json-false",
    "collapsed": false,
    "ein.tags": [
     "worksheet-0"
    ],
    "slideshow": {
     "slide_type": "-"
    }
   },
   "outputs": [],
   "source": [
    "from sklearn.feature_extraction.text import HashingVectorizer\n",
    "from sklearn.feature_extraction.text import TfidfTransformer\n",
    "from sklearn.feature_extraction import FeatureHasher\n",
    "from sklearn.pipeline import Pipeline\n"
   ]
  },
  {
   "cell_type": "code",
   "execution_count": 0,
   "metadata": {
    "autoscroll": "json-false",
    "collapsed": false,
    "ein.tags": [
     "worksheet-0"
    ],
    "slideshow": {
     "slide_type": "-"
    }
   },
   "outputs": [],
   "source": [
    "hasher = HashingVectorizer(n_features=2 ** 18, stop_words='english', norm=None, ngram_range=(1, 2))\n",
    "tfidf_transformer = TfidfTransformer()\n",
    "vectorizer = Pipeline([('hasher', hasher), ('tf_idf', TfidfTransformer())])\n"
   ]
  },
  {
   "cell_type": "code",
   "execution_count": 52,
   "metadata": {
    "autoscroll": "json-false",
    "collapsed": false,
    "ein.tags": [
     "worksheet-0"
    ],
    "slideshow": {
     "slide_type": "-"
    }
   },
   "outputs": [],
   "source": [
    "X = training_info['body'].tolist() + test_info['body'].tolist()"
   ]
  },
  {
   "cell_type": "code",
   "execution_count": 53,
   "metadata": {
    "autoscroll": "json-false",
    "collapsed": false,
    "ein.tags": [
     "worksheet-0"
    ],
    "slideshow": {
     "slide_type": "-"
    }
   },
   "outputs": [],
   "source": [
    "import multiprocessing\n",
    "from gensim.models.word2vec import Word2Vec\n",
    "# 4 in pc\n",
    "cpu_count = multiprocessing.cpu_count()\n",
    "# the dimensionality of the feature vectors.\n",
    "vocab_dim = 100\n",
    "# ignore all words with total frequency lower than this. \n",
    "n_exposures = 5"
   ]
  },
  {
   "cell_type": "code",
   "execution_count": 54,
   "metadata": {
    "autoscroll": "json-false",
    "collapsed": false,
    "ein.tags": [
     "worksheet-0"
    ],
    "slideshow": {
     "slide_type": "-"
    }
   },
   "outputs": [
    {
     "name": "stdout",
     "output_type": "stream",
     "text": [
      "Training a Word2vec model...\n"
     ]
    },
    {
     "name": "stdout",
     "output_type": "stream",
     "text": [
      "Training a Word2vec model is done!\n"
     ]
    }
   ],
   "source": [
    "print('Training a Word2vec model...')\n",
    "model = Word2Vec(size=vocab_dim,\n",
    "                 min_count=n_exposures,\n",
    "                 workers=cpu_count)\n",
    "model.build_vocab(X)\n",
    "model.train(X)\n",
    "# # replace our empty word vectors with GNews ones, to fill\n",
    "# path_to_wv = '/Users/zacharie/Documents/AICCours/MVA/textGraphData/'\n",
    "# # we load only the Google word vectors corresponding to our vocabulary\n",
    "# model.intersect_word2vec_format(path_to_wv + 'GoogleNews-vectors-negative300.bin.gz', binary=True)\n",
    "print('Training a Word2vec model is done!')"
   ]
  },
  {
   "cell_type": "code",
   "execution_count": 61,
   "metadata": {
    "autoscroll": "json-false",
    "collapsed": false,
    "ein.tags": [
     "worksheet-0"
    ],
    "slideshow": {
     "slide_type": "-"
    }
   },
   "outputs": [],
   "source": []
  },
  {
   "cell_type": "code",
   "execution_count": 64,
   "metadata": {
    "autoscroll": "json-false",
    "collapsed": false,
    "ein.tags": [
     "worksheet-0"
    ],
    "slideshow": {
     "slide_type": "slide"
    }
   },
   "outputs": [],
   "source": [
    "from sklearn.decomposition import PCA\n",
    "# to preserve mapping, create (1) an array with the vectors of the words in vocab, (2) a list containg the actual words\n",
    "model_array = np.empty(shape=model.syn0.shape)\n",
    "mapping = []\n",
    "for i, elt in enumerate(model.vocab.items()):\n",
    "    word = elt[0]\n",
    "    mapping.append(word)\n",
    "    model_array[i,] = model[word]\n",
    "my_pca = PCA(n_components=50)\n",
    "wv_2d_values = my_pca.fit_transform(model_array)\n",
    "# finally, create dictionary with the words in vocab as keys and the 2-dimensional projections as values\n",
    "wv_2d = {}\n",
    "for i, word in enumerate(mapping):\n",
    "    wv_2d[word] =  wv_2d_values[i,]"
   ]
  },
  {
   "cell_type": "code",
   "execution_count": 55,
   "metadata": {
    "autoscroll": "json-false",
    "collapsed": false,
    "ein.tags": [
     "worksheet-0"
    ],
    "slideshow": {
     "slide_type": "-"
    }
   },
   "outputs": [
    {
     "name": "stdout",
     "output_type": "stream",
     "text": [
      "For the moment, we have already done 0  lines.\n"
     ]
    },
    {
     "name": "stdout",
     "output_type": "stream",
     "text": [
      "For the moment, we have already done 20  lines.\n"
     ]
    },
    {
     "name": "stdout",
     "output_type": "stream",
     "text": [
      "For the moment, we have already done 40  lines.\n"
     ]
    },
    {
     "name": "stdout",
     "output_type": "stream",
     "text": [
      "For the moment, we have already done 60  lines.\n"
     ]
    },
    {
     "name": "stdout",
     "output_type": "stream",
     "text": [
      "For the moment, we have already done 80  lines.\n"
     ]
    },
    {
     "name": "stdout",
     "output_type": "stream",
     "text": [
      "For the moment, we have already done 100  lines.\n"
     ]
    },
    {
     "name": "stdout",
     "output_type": "stream",
     "text": [
      "For the moment, we have already done 120  lines.\n"
     ]
    }
   ],
   "source": [
    "################################\n",
    "# create some handy structures #\n",
    "################################\n",
    "# convert training set to dictionary\n",
    "emails_ids_per_sender = {}\n",
    "for index, series in training.iterrows():\n",
    "    row = series.tolist()\n",
    "    sender = row[0]\n",
    "    ids = row[1:][0].split(' ')\n",
    "    emails_ids_per_sender[sender] = ids\n",
    "# save all unique sender names\n",
    "all_senders = emails_ids_per_sender.keys()\n",
    "# create address book with frequency information for each user\n",
    "address_books_messages = {}\n",
    "i = 0\n",
    "for sender, ids in emails_ids_per_sender.iteritems():\n",
    "    rec2mids = {}\n",
    "    for my_id in ids:\n",
    "        recipients = training_info[training_info['mid']==int(my_id)]['recipients'].tolist()\n",
    "        recipients = recipients[0].split(' ')\n",
    "        # keep only legitimate email addresses\n",
    "        recipients = [rec for rec in recipients if '@' in rec]\n",
    "        for rec in recipients:\n",
    "            if rec in rec2mids:\n",
    "                rec2mids[rec].append(my_id)\n",
    "            else:\n",
    "                rec2mids[rec] = [my_id]\n",
    "    address_books_messages[sender] = rec2mids\n",
    "    if i % 20 == 0:\n",
    "        print \"For the moment, we have already done\", i, \" lines.\"\n",
    "    i += 1"
   ]
  },
  {
   "cell_type": "code",
   "execution_count": 56,
   "metadata": {
    "autoscroll": "json-false",
    "collapsed": false,
    "ein.tags": [
     "worksheet-0"
    ],
    "slideshow": {
     "slide_type": "subslide"
    }
   },
   "outputs": [],
   "source": [
    "# print address_books.values()[0]\n",
    "# save all unique recipient names\n",
    "all_recs = list(set([elt for subdict in address_books_messages.values() for elt in subdict.keys()]))\n",
    "# save all unique user names\n",
    "all_users = []\n",
    "all_users.extend(all_senders)\n",
    "all_users.extend(all_recs)\n",
    "all_users = list(set(all_users))"
   ]
  },
  {
   "cell_type": "code",
   "execution_count": 57,
   "metadata": {
    "autoscroll": "json-false",
    "collapsed": false,
    "ein.tags": [
     "worksheet-0"
    ],
    "slideshow": {
     "slide_type": "-"
    }
   },
   "outputs": [
    {
     "name": "stdout",
     "output_type": "stream",
     "text": [
      "sender alex@pira.com has only 1 recipients.\n",
      "sender wsmith@wordsmith.org has only 1 recipients.\n",
      "sender schwabalerts.marketupdates@schwab.com has only 1 recipients.\n"
     ]
    }
   ],
   "source": [
    "for sender, subdict in address_books_messages.iteritems():\n",
    "    if len(subdict) < 10:\n",
    "        print \"sender\", sender, \"has only\", len(subdict), \"recipients.\""
   ]
  },
  {
   "cell_type": "code",
   "execution_count": 58,
   "metadata": {
    "autoscroll": "json-false",
    "collapsed": false,
    "ein.tags": [
     "worksheet-0"
    ],
    "slideshow": {
     "slide_type": "-"
    }
   },
   "outputs": [
    {
     "name": "stdout",
     "output_type": "stream",
     "text": [
      "the number of all users: 9783\n",
      "the number of all unique recipients: 9779\n",
      "the size of dictionary: 45194\n"
     ]
    }
   ],
   "source": [
    "print \"the number of all users:\", len(all_users)\n",
    "print \"the number of all unique recipients:\", len(all_recs)\n",
    "print \"the size of dictionary:\",len(model.vocab)"
   ]
  },
  {
   "cell_type": "code",
   "execution_count": 80,
   "metadata": {
    "autoscroll": "json-false",
    "collapsed": false,
    "ein.tags": [
     "worksheet-0"
    ],
    "slideshow": {
     "slide_type": "-"
    }
   },
   "outputs": [],
   "source": [
    "# random.sample(all_users, 9)\n",
    "# rec_occ = address_books_messages['jason.williams@enron.com']\n",
    "# rec_occ_occ = {}\n",
    "# for k, v in rec_occ.iteritems():\n",
    "#     rec_occ_occ[k] = len(v)\n",
    "# sorted_rec_occ = sorted(rec_occ_occ.items(), key=operator.itemgetter(1), reverse = True)\n",
    "# print sorted_rec_occ"
   ]
  },
  {
   "cell_type": "code",
   "execution_count": 65,
   "metadata": {
    "autoscroll": "json-false",
    "collapsed": false,
    "ein.tags": [
     "worksheet-0"
    ],
    "slideshow": {
     "slide_type": "-"
    }
   },
   "outputs": [],
   "source": [
    "k_constant = 10\n",
    "alpha = 1.0/3.0"
   ]
  },
  {
   "cell_type": "code",
   "execution_count": 66,
   "metadata": {
    "autoscroll": "json-false",
    "collapsed": false,
    "ein.tags": [
     "worksheet-0"
    ],
    "slideshow": {
     "slide_type": "-"
    }
   },
   "outputs": [],
   "source": [
    "def get_k_most(k_constant, sender, id_predict, alpha):\n",
    "    s_1 = test_info[test_info['mid'] == int(id_predict)]['body'].tolist()[0]\n",
    "    s_1_vec = [wv_2d[word].reshape(1,-1) for word in s_1 if word in wv_2d]\n",
    "    if len(s_1_vec) == 0:\n",
    "        rec_occ = address_books_messages[sender]\n",
    "        rec_occ_tmp = {}\n",
    "        for k, v in rec_occ.iteritems():\n",
    "            rec_occ_tmp[k] = len(v)\n",
    "        sorted_rec_occ = sorted(rec_occ_tmp.items(), key=operator.itemgetter(1), reverse = True)\n",
    "        if len(sorted_rec_occ) < k_constant:\n",
    "            return [elt[0] for elt in sorted_rec_occ] + random.sample(all_users, k_constant-len(sorted_rec_occ))\n",
    "        else:\n",
    "            return [elt[0] for elt in sorted_rec_occ[:k_constant]]\n",
    "    else:\n",
    "        p_1_embeddings = np.concatenate(s_1_vec)\n",
    "        centroid_1 = np.mean(p_1_embeddings, axis=0).reshape(1,-1)\n",
    "        k_most = []\n",
    "        rec_list = []\n",
    "        simil_freq_list = []\n",
    "        for k_rec, v_mids_list in address_books_messages[sender].iteritems():\n",
    "            tmp = []\n",
    "            for mid in v_mids_list:\n",
    "                s_2 = training_info[training_info['mid'] == int(mid)]['body'].tolist()[0]\n",
    "                s_2_vec = [wv_2d[word].reshape(1,-1) for word in s_2 if word in wv_2d]\n",
    "                if len(s_2_vec) == 0:\n",
    "                    tmp.append(-1)\n",
    "                    continue\n",
    "                else:\n",
    "                    p_2_embeddings = np.concatenate(s_2_vec)\n",
    "                    centroid_2 = np.mean(p_2_embeddings, axis=0).reshape(1,-1)\n",
    "                    tmp.append(round(cosine(centroid_1, centroid_2),6))\n",
    "            similarity = np.max(tmp)\n",
    "            rec_list.append(k_rec)\n",
    "            simil_freq_list.append([similarity, len(v_mids_list)])\n",
    "        simil_freq_array = np.array(simil_freq_list)\n",
    "        rec_array = np.array(rec_list)\n",
    "        simil_freq_array = (simil_freq_array - np.min(simil_freq_array, axis=0))/(np.max(simil_freq_array, axis=0)-np.min(simil_freq_array, axis=0))\n",
    "        socre = alpha * simil_freq_array[:,0] + (1-alpha)*simil_freq_array[:,-1]\n",
    "        if rec_array.shape[0] < k_constant:\n",
    "            return rec_array[np.argsort(socre)[::-1]].tolist() + random.sample(all_users, k_constant-rec_array.shape[0])\n",
    "        else:\n",
    "            return rec_array[np.argsort(socre)[::-1]][:k_constant].tolist()\n"
   ]
  },
  {
   "cell_type": "code",
   "execution_count": 67,
   "metadata": {
    "autoscroll": "json-false",
    "collapsed": false,
    "ein.tags": [
     "worksheet-0"
    ],
    "slideshow": {
     "slide_type": "-"
    }
   },
   "outputs": [],
   "source": [
    "def predict_each_test_line(row):\n",
    "    sender = row[0]\n",
    "    # get IDs of the emails for which recipient prediction is needed\n",
    "    ids_predict = row[1].split(' ')\n",
    "    ids_predict = [int(my_id) for my_id in ids_predict]\n",
    "    random_preds = []\n",
    "    freq_preds = []\n",
    "    # select k most frequent recipients for the user\n",
    "    # k_most = [elt[0] for elt in address_books[sender][:k]]\n",
    "    for id_predict in ids_predict:\n",
    "        # select k users at random\n",
    "        # random_preds.append(random.sample(all_users, k))\n",
    "        # for the frequency baseline, the predictions are always the same\n",
    "        k_most = get_k_most(k_constant, sender, id_predict, alpha)\n",
    "        freq_preds.append(k_most)\n",
    "    # predictions_per_sender[sender] = [ids_predict,random_preds,freq_preds]\n",
    "    return (sender, [ids_predict, freq_preds])"
   ]
  },
  {
   "cell_type": "code",
   "execution_count": 68,
   "metadata": {
    "autoscroll": "json-false",
    "collapsed": false,
    "ein.tags": [
     "worksheet-0"
    ],
    "slideshow": {
     "slide_type": "-"
    }
   },
   "outputs": [],
   "source": [
    "def speedup(X):\n",
    "    predictions_per_sender = Parallel(n_jobs=4, verbose=1)(delayed(predict_each_test_line)(row) for row in tqdm.tqdm(X, desc=\"speed up test\"))\n",
    "    return predictions_per_sender"
   ]
  },
  {
   "cell_type": "code",
   "execution_count": 0,
   "metadata": {
    "autoscroll": "json-false",
    "collapsed": false,
    "ein.tags": [
     "worksheet-0"
    ],
    "slideshow": {
     "slide_type": "-"
    }
   },
   "outputs": [
    {
     "name": "stdout",
     "output_type": "stream",
     "text": [
      "\n",
      "\r",
      "speed up test:   0%|          | 0/125 [00:00<?, ?it/s]"
     ]
    },
    {
     "name": "stdout",
     "output_type": "stream",
     "text": [
      "\u001b[A"
     ]
    },
    {
     "name": "stdout",
     "output_type": "stream",
     "text": [
      "\n",
      "\r",
      "speed up test:   1%|          | 1/125 [00:00<00:24,  5.08it/s]"
     ]
    },
    {
     "name": "stdout",
     "output_type": "stream",
     "text": [
      "\u001b[A"
     ]
    },
    {
     "name": "stdout",
     "output_type": "stream",
     "text": [
      "\n",
      "\r",
      "speed up test:   6%|▋         | 8/125 [00:01<00:21,  5.32it/s]"
     ]
    },
    {
     "name": "stdout",
     "output_type": "stream",
     "text": [
      "\u001b[A"
     ]
    },
    {
     "name": "stdout",
     "output_type": "stream",
     "text": [
      "\n",
      "\r",
      "speed up test:   7%|▋         | 9/125 [00:05<02:27,  1.27s/it]"
     ]
    },
    {
     "name": "stdout",
     "output_type": "stream",
     "text": [
      "\u001b[A"
     ]
    },
    {
     "name": "stdout",
     "output_type": "stream",
     "text": [
      "\n",
      "\r",
      "speed up test:   8%|▊         | 10/125 [00:40<22:11, 11.58s/it]"
     ]
    },
    {
     "name": "stdout",
     "output_type": "stream",
     "text": [
      "\u001b[A"
     ]
    },
    {
     "name": "stdout",
     "output_type": "stream",
     "text": [
      "\n",
      "\r",
      "speed up test:   9%|▉         | 11/125 [00:41<16:04,  8.46s/it]"
     ]
    },
    {
     "name": "stdout",
     "output_type": "stream",
     "text": [
      "\u001b[A"
     ]
    },
    {
     "name": "stdout",
     "output_type": "stream",
     "text": [
      "\n",
      "\r",
      "speed up test:  10%|▉         | 12/125 [01:17<31:05, 16.51s/it]"
     ]
    },
    {
     "name": "stdout",
     "output_type": "stream",
     "text": [
      "\u001b[A"
     ]
    },
    {
     "name": "stdout",
     "output_type": "stream",
     "text": [
      "\n",
      "\r",
      "speed up test:  10%|█         | 13/125 [01:19<22:43, 12.17s/it]"
     ]
    },
    {
     "name": "stdout",
     "output_type": "stream",
     "text": [
      "\u001b[A"
     ]
    },
    {
     "name": "stdout",
     "output_type": "stream",
     "text": [
      "\n",
      "\r",
      "speed up test:  11%|█         | 14/125 [01:23<17:51,  9.65s/it]"
     ]
    },
    {
     "name": "stdout",
     "output_type": "stream",
     "text": [
      "\u001b[A"
     ]
    },
    {
     "name": "stdout",
     "output_type": "stream",
     "text": [
      "\n",
      "\r",
      "speed up test:  12%|█▏        | 15/125 [01:30<16:27,  8.98s/it]"
     ]
    },
    {
     "name": "stdout",
     "output_type": "stream",
     "text": [
      "\u001b[A"
     ]
    },
    {
     "name": "stdout",
     "output_type": "stream",
     "text": [
      "\n",
      "\r",
      "speed up test:  13%|█▎        | 16/125 [01:35<14:10,  7.80s/it]"
     ]
    },
    {
     "name": "stdout",
     "output_type": "stream",
     "text": [
      "\u001b[A"
     ]
    },
    {
     "name": "stdout",
     "output_type": "stream",
     "text": [
      "\n",
      "\r",
      "speed up test:  14%|█▎        | 17/125 [01:45<15:10,  8.43s/it]"
     ]
    },
    {
     "name": "stdout",
     "output_type": "stream",
     "text": [
      "\u001b[A"
     ]
    },
    {
     "name": "stdout",
     "output_type": "stream",
     "text": [
      "\n",
      "\r",
      "speed up test:  14%|█▍        | 18/125 [01:59<18:00, 10.10s/it]"
     ]
    },
    {
     "name": "stdout",
     "output_type": "stream",
     "text": [
      "\u001b[A"
     ]
    },
    {
     "name": "stdout",
     "output_type": "stream",
     "text": [
      "\n",
      "\r",
      "speed up test:  15%|█▌        | 19/125 [02:05<15:28,  8.76s/it]"
     ]
    },
    {
     "name": "stdout",
     "output_type": "stream",
     "text": [
      "\u001b[A"
     ]
    },
    {
     "name": "stdout",
     "output_type": "stream",
     "text": [
      "\n",
      "\r",
      "speed up test:  16%|█▌        | 20/125 [02:05<11:03,  6.31s/it]"
     ]
    },
    {
     "name": "stdout",
     "output_type": "stream",
     "text": [
      "\u001b[A"
     ]
    },
    {
     "name": "stdout",
     "output_type": "stream",
     "text": [
      "\n",
      "\r",
      "speed up test:  17%|█▋        | 21/125 [02:27<19:09, 11.06s/it]"
     ]
    },
    {
     "name": "stdout",
     "output_type": "stream",
     "text": [
      "\u001b[A"
     ]
    },
    {
     "name": "stdout",
     "output_type": "stream",
     "text": [
      "\n",
      "\r",
      "speed up test:  18%|█▊        | 22/125 [02:52<26:03, 15.18s/it]"
     ]
    },
    {
     "name": "stdout",
     "output_type": "stream",
     "text": [
      "\u001b[A"
     ]
    },
    {
     "name": "stdout",
     "output_type": "stream",
     "text": [
      "\n",
      "\r",
      "speed up test:  18%|█▊        | 23/125 [03:09<26:29, 15.58s/it]"
     ]
    },
    {
     "name": "stdout",
     "output_type": "stream",
     "text": [
      "\u001b[A"
     ]
    },
    {
     "name": "stdout",
     "output_type": "stream",
     "text": [
      "\n",
      "\r",
      "speed up test:  19%|█▉        | 24/125 [03:15<21:21, 12.68s/it]"
     ]
    },
    {
     "name": "stdout",
     "output_type": "stream",
     "text": [
      "\u001b[A"
     ]
    },
    {
     "name": "stdout",
     "output_type": "stream",
     "text": [
      "\n",
      "\r",
      "speed up test:  20%|██        | 25/125 [03:37<25:49, 15.50s/it]"
     ]
    },
    {
     "name": "stdout",
     "output_type": "stream",
     "text": [
      "\u001b[A"
     ]
    },
    {
     "name": "stdout",
     "output_type": "stream",
     "text": [
      "\n",
      "\r",
      "speed up test:  21%|██        | 26/125 [03:41<20:11, 12.23s/it]"
     ]
    },
    {
     "name": "stdout",
     "output_type": "stream",
     "text": [
      "\u001b[A"
     ]
    },
    {
     "name": "stdout",
     "output_type": "stream",
     "text": [
      "\n",
      "\r",
      "speed up test:  22%|██▏       | 27/125 [04:11<28:24, 17.40s/it]"
     ]
    },
    {
     "name": "stdout",
     "output_type": "stream",
     "text": [
      "\u001b[A"
     ]
    },
    {
     "name": "stdout",
     "output_type": "stream",
     "text": [
      "\n",
      "\r",
      "speed up test:  22%|██▏       | 28/125 [05:43<1:04:33, 39.93s/it]"
     ]
    },
    {
     "name": "stdout",
     "output_type": "stream",
     "text": [
      "\u001b[A"
     ]
    },
    {
     "name": "stdout",
     "output_type": "stream",
     "text": [
      "\n",
      "\r",
      "speed up test:  23%|██▎       | 29/125 [06:53<1:18:06, 48.82s/it]"
     ]
    },
    {
     "name": "stdout",
     "output_type": "stream",
     "text": [
      "\u001b[A"
     ]
    },
    {
     "name": "stdout",
     "output_type": "stream",
     "text": [
      "\n",
      "\r",
      "speed up test:  24%|██▍       | 30/125 [07:11<1:02:36, 39.55s/it]"
     ]
    },
    {
     "name": "stdout",
     "output_type": "stream",
     "text": [
      "\u001b[A"
     ]
    },
    {
     "name": "stdout",
     "output_type": "stream",
     "text": [
      "\n",
      "\r",
      "speed up test:  25%|██▍       | 31/125 [07:33<53:41, 34.28s/it]  "
     ]
    },
    {
     "name": "stdout",
     "output_type": "stream",
     "text": [
      "\u001b[A"
     ]
    },
    {
     "name": "stdout",
     "output_type": "stream",
     "text": [
      "\n",
      "\r",
      "speed up test:  26%|██▌       | 32/125 [07:58<49:11, 31.74s/it]"
     ]
    },
    {
     "name": "stdout",
     "output_type": "stream",
     "text": [
      "\u001b[A"
     ]
    },
    {
     "name": "stdout",
     "output_type": "stream",
     "text": [
      "\n",
      "\r",
      "speed up test:  26%|██▋       | 33/125 [08:29<48:19, 31.51s/it]"
     ]
    },
    {
     "name": "stdout",
     "output_type": "stream",
     "text": [
      "\u001b[A"
     ]
    },
    {
     "name": "stdout",
     "output_type": "stream",
     "text": [
      "\n",
      "\r",
      "speed up test:  27%|██▋       | 34/125 [08:31<34:16, 22.60s/it]"
     ]
    },
    {
     "name": "stdout",
     "output_type": "stream",
     "text": [
      "\u001b[A"
     ]
    },
    {
     "name": "stdout",
     "output_type": "stream",
     "text": [
      "\n",
      "\r",
      "speed up test:  28%|██▊       | 35/125 [08:48<31:19, 20.88s/it]"
     ]
    },
    {
     "name": "stdout",
     "output_type": "stream",
     "text": [
      "\u001b[A"
     ]
    },
    {
     "name": "stdout",
     "output_type": "stream",
     "text": [
      "\n",
      "\r",
      "speed up test:  29%|██▉       | 36/125 [09:01<27:36, 18.61s/it]"
     ]
    },
    {
     "name": "stdout",
     "output_type": "stream",
     "text": [
      "\u001b[A"
     ]
    },
    {
     "name": "stdout",
     "output_type": "stream",
     "text": [
      "\n",
      "\r",
      "speed up test:  30%|██▉       | 37/125 [09:02<19:24, 13.24s/it]"
     ]
    },
    {
     "name": "stdout",
     "output_type": "stream",
     "text": [
      "\u001b[A"
     ]
    },
    {
     "name": "stdout",
     "output_type": "stream",
     "text": [
      "\n",
      "\r",
      "speed up test:  30%|███       | 38/125 [09:14<18:31, 12.78s/it]"
     ]
    },
    {
     "name": "stdout",
     "output_type": "stream",
     "text": [
      "\u001b[A"
     ]
    },
    {
     "name": "stdout",
     "output_type": "stream",
     "text": [
      "\n",
      "\r",
      "speed up test:  31%|███       | 39/125 [09:20<15:24, 10.75s/it]"
     ]
    },
    {
     "name": "stdout",
     "output_type": "stream",
     "text": [
      "\u001b[A"
     ]
    },
    {
     "name": "stdout",
     "output_type": "stream",
     "text": [
      "\n",
      "\r",
      "speed up test:  32%|███▏      | 40/125 [09:38<18:29, 13.05s/it]"
     ]
    },
    {
     "name": "stdout",
     "output_type": "stream",
     "text": [
      "\u001b[A"
     ]
    },
    {
     "name": "stdout",
     "output_type": "stream",
     "text": [
      "\n",
      "\r",
      "speed up test:  33%|███▎      | 41/125 [09:48<16:45, 11.96s/it]"
     ]
    },
    {
     "name": "stdout",
     "output_type": "stream",
     "text": [
      "\u001b[A"
     ]
    },
    {
     "name": "stdout",
     "output_type": "stream",
     "text": [
      "\n",
      "\r",
      "speed up test:  34%|███▎      | 42/125 [09:56<14:58, 10.83s/it]"
     ]
    },
    {
     "name": "stdout",
     "output_type": "stream",
     "text": [
      "\u001b[A"
     ]
    },
    {
     "name": "stdout",
     "output_type": "stream",
     "text": [
      "\n",
      "\r",
      "speed up test:  34%|███▍      | 43/125 [09:58<11:17,  8.26s/it]"
     ]
    },
    {
     "name": "stdout",
     "output_type": "stream",
     "text": [
      "\u001b[A"
     ]
    },
    {
     "name": "stdout",
     "output_type": "stream",
     "text": [
      "\n",
      "\r",
      "speed up test:  35%|███▌      | 44/125 [10:16<14:56, 11.07s/it]"
     ]
    },
    {
     "name": "stdout",
     "output_type": "stream",
     "text": [
      "\u001b[A"
     ]
    },
    {
     "name": "stdout",
     "output_type": "stream",
     "text": [
      "\n",
      "\r",
      "speed up test:  36%|███▌      | 45/125 [10:28<15:12, 11.40s/it]"
     ]
    },
    {
     "name": "stdout",
     "output_type": "stream",
     "text": [
      "\u001b[A"
     ]
    },
    {
     "name": "stdout",
     "output_type": "stream",
     "text": [
      "\n",
      "\r",
      "speed up test:  37%|███▋      | 46/125 [10:28<10:40,  8.11s/it]"
     ]
    },
    {
     "name": "stdout",
     "output_type": "stream",
     "text": [
      "\u001b[A"
     ]
    },
    {
     "name": "stdout",
     "output_type": "stream",
     "text": [
      "\n",
      "\r",
      "speed up test:  38%|███▊      | 47/125 [10:39<11:27,  8.82s/it]"
     ]
    },
    {
     "name": "stdout",
     "output_type": "stream",
     "text": [
      "\u001b[A"
     ]
    },
    {
     "name": "stdout",
     "output_type": "stream",
     "text": [
      "\n",
      "\r",
      "speed up test:  38%|███▊      | 48/125 [11:02<16:51, 13.14s/it]"
     ]
    },
    {
     "name": "stdout",
     "output_type": "stream",
     "text": [
      "\u001b[A"
     ]
    }
   ],
   "source": [
    "import time\n",
    "start = time.ctime()\n",
    "predictions_per_sender = speedup(test.values)\n",
    "end = time.ctime()\n",
    "print \"Total time:\", start - end"
   ]
  },
  {
   "cell_type": "code",
   "execution_count": 0,
   "metadata": {
    "autoscroll": "json-false",
    "collapsed": false,
    "ein.tags": [
     "worksheet-0"
    ],
    "slideshow": {
     "slide_type": "-"
    }
   },
   "outputs": [],
   "source": [
    "predictions_per_sender = dict(predictions_per_sender)"
   ]
  },
  {
   "cell_type": "code",
   "execution_count": 0,
   "metadata": {
    "autoscroll": "json-false",
    "collapsed": false,
    "ein.tags": [
     "worksheet-0"
    ],
    "slideshow": {
     "slide_type": "slide"
    }
   },
   "outputs": [],
   "source": [
    "#################################################\n",
    "# write predictions in proper format for Kaggle #\n",
    "#################################################\n",
    "path_to_results = \"/Users/zacharie/Documents/AICCours/MVA/textGraphData/\"\n",
    "\n",
    "with open(path_to_results + 'predictions_frequency.txt', 'wb') as my_file:\n",
    "    my_file.write('mid,recipients' + '\\n')\n",
    "    for sender, preds in predictions_per_sender.iteritems():\n",
    "        ids = preds[0]\n",
    "        freq_preds = preds[1]\n",
    "        for index, my_preds in enumerate(freq_preds):\n",
    "            my_file.write(str(ids[index]) + ',' + ' '.join(my_preds) + '\\n')"
   ]
  },
  {
   "cell_type": "code",
   "execution_count": 0,
   "metadata": {
    "autoscroll": "json-false",
    "collapsed": false,
    "ein.tags": [
     "worksheet-0"
    ],
    "slideshow": {
     "slide_type": "-"
    }
   },
   "outputs": [],
   "source": [
    "def mean_average_precision(valid_2d, attempt_2d):\n",
    "    def aux(valid_list, attempt_list, at=10):\n",
    "        at = int(at)\n",
    "        total_correct_nb = len(valid_list)\n",
    "        mark_list = [1 if entry in valid_list else 0 for entry in attempt_list]\n",
    "        score = 0.0\n",
    "        for index, value in enumerate(mark_list):\n",
    "            score += mark[:index+1].count(1) / (index+1)\n",
    "        return score / min(total_correct_nb, at)\n",
    "    # make sure they have the same dimensions.\n",
    "    assert (len(valid_2d) == len(attempt_2d))\n",
    "    total_score = 0.0\n",
    "    for valid_list, attempt_list in zip(valide_2d, attempt_2d):\n",
    "        total_score += aux(valid_list, attempt_list)\n",
    "    return total_score / len(valid_2d)\n"
   ]
  },
  {
   "cell_type": "code",
   "execution_count": 68,
   "metadata": {
    "autoscroll": "json-false",
    "collapsed": false,
    "ein.tags": [
     "worksheet-0"
    ],
    "slideshow": {
     "slide_type": "-"
    }
   },
   "outputs": [],
   "source": [
    "def get_k_most(k, address_books_messages, sender, id_predict, alpha):\n",
    "    test_body = test_info[test_info['mid'] == int(id_predict)]['body'].tolist()[0]\n",
    "    k_most = []\n",
    "    count = 0\n",
    "    rec_list = []\n",
    "    simil_freq_list = []\n",
    "    # rec2similfreq = {}\n",
    "    for k_rec, v_mids_list in address_books_messages[sender].iteritems():\n",
    "        similarity = np.min([model.wmdistance(test_body, training_info[training_info['mid'] == int(mid)]['body'].tolist()[0]) for mid in v_mids_list])\n",
    "        # rec2similfreq[k_rec] = (similarity, len(v_mids_list))\n",
    "        rec_list.append(k_rec)\n",
    "        simil_freq_list.append([similarity, len(v_mids_list)])\n",
    "    simil_freq_list = np.array(simil_freq_list)\n",
    "    rec_list = np.array(rec_list)\n",
    "    simil_freq_list[:,0] = (np.max(simil_freq_list[:,0]) - simil_freq_list[:,0]) / (np.max(simil_freq_list[:,0]) - np.min(simil_freq_list[:,0]))\n",
    "    simil_freq_list[:,-1] = (simil_freq_list[:,-1] - np.min(simil_freq_list[:,-1])) / (np.max(simil_freq_list[:,-1])-np.min(simil_freq_list[:,-1]))\n",
    "    socre = alpha * simil_freq_list[:,0] + (1-alpha)*simil_freq_list[:,-1]\n",
    "    return simil_freq_list[np.argsort(socre)[::-1]][:k].tolist()\n"
   ]
  },
  {
   "cell_type": "code",
   "execution_count": 0,
   "metadata": {
    "autoscroll": "json-false",
    "collapsed": false,
    "ein.tags": [
     "worksheet-0"
    ],
    "slideshow": {
     "slide_type": "-"
    }
   },
   "outputs": [],
   "source": [
    "#############\n",
    "# baselines #\n",
    "#############\n",
    "# will contain email ids, predictions for random baseline, and predictions for frequency baseline\n",
    "predictions_per_sender = {}\n",
    "# number of recipients to predict\n",
    "k = 10\n",
    "for row in test.values:\n",
    "    sender = row[0]\n",
    "    # get IDs of the emails for which recipient prediction is needed\n",
    "    ids_predict = row[1].split(' ')\n",
    "    ids_predict = [int(my_id) for my_id in ids_predict]\n",
    "    random_preds = []\n",
    "    freq_preds = []\n",
    "    # select k most frequent recipients for the user\n",
    "    # k_most = [elt[0] for elt in address_books[sender][:k]]\n",
    "    for id_predict in ids_predict:\n",
    "        # select k users at random\n",
    "        random_preds.append(random.sample(all_users, k))\n",
    "        # for the frequency baseline, the predictions are always the same\n",
    "        k_most = get_k_most(k, address_books_messages, sender, id_predict, 1/2.0)\n",
    "        freq_preds.append(k_most)\n",
    "    predictions_per_sender[sender] = [ids_predict,random_preds,freq_preds]\n"
   ]
  }
 ],
 "metadata": {
  "kernelspec": {
   "display_name": "Python 2",
   "name": "python2"
  },
  "language_info": {
   "codemirror_mode": {
    "name": "ipython",
    "version": 2
   },
   "file_extension": ".py",
   "mimetype": "text/x-python",
   "name": "python",
   "nbconvert_exporter": "python",
   "pygments_lexer": "ipython2",
   "version": "2.7.12"
  },
  "name": "main_2.ipynb"
 },
 "nbformat": 4,
 "nbformat_minor": 1
}
